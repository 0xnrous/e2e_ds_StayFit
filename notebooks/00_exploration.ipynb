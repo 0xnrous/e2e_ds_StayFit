{
 "cells": [
  {
   "cell_type": "code",
   "execution_count": 1,
   "metadata": {},
   "outputs": [],
   "source": [
    "DATA_PATH = \"../data/raw/raw_data.csv\""
   ]
  },
  {
   "cell_type": "markdown",
   "metadata": {},
   "source": [
    "-----"
   ]
  },
  {
   "cell_type": "markdown",
   "metadata": {},
   "source": [
    "# **Libraries**"
   ]
  },
  {
   "cell_type": "code",
   "execution_count": 2,
   "metadata": {},
   "outputs": [],
   "source": [
    "import pandas as pd \n",
    "import numpy as np"
   ]
  },
  {
   "cell_type": "markdown",
   "metadata": {},
   "source": [
    "-------"
   ]
  },
  {
   "cell_type": "markdown",
   "metadata": {},
   "source": [
    "# **Read Data**"
   ]
  },
  {
   "cell_type": "code",
   "execution_count": 3,
   "metadata": {},
   "outputs": [],
   "source": [
    "df = pd.read_csv(DATA_PATH)"
   ]
  },
  {
   "cell_type": "code",
   "execution_count": 7,
   "metadata": {},
   "outputs": [
    {
     "data": {
      "text/html": [
       "<div>\n",
       "<style scoped>\n",
       "    .dataframe tbody tr th:only-of-type {\n",
       "        vertical-align: middle;\n",
       "    }\n",
       "\n",
       "    .dataframe tbody tr th {\n",
       "        vertical-align: top;\n",
       "    }\n",
       "\n",
       "    .dataframe thead th {\n",
       "        text-align: right;\n",
       "    }\n",
       "</style>\n",
       "<table border=\"1\" class=\"dataframe\">\n",
       "  <thead>\n",
       "    <tr style=\"text-align: right;\">\n",
       "      <th></th>\n",
       "      <th>time</th>\n",
       "      <th>mean_xc</th>\n",
       "      <th>mean_yc</th>\n",
       "      <th>mean_zc</th>\n",
       "      <th>mean_xg</th>\n",
       "      <th>mean_yg</th>\n",
       "      <th>mean_zg</th>\n",
       "      <th>posture</th>\n",
       "      <th>types</th>\n",
       "      <th>specimen</th>\n",
       "      <th>set</th>\n",
       "    </tr>\n",
       "  </thead>\n",
       "  <tbody>\n",
       "    <tr>\n",
       "      <th>0</th>\n",
       "      <td>2024-02-11 17:08:05.200</td>\n",
       "      <td>0.013500</td>\n",
       "      <td>0.977000</td>\n",
       "      <td>-0.071000</td>\n",
       "      <td>-1.8904</td>\n",
       "      <td>2.4392</td>\n",
       "      <td>0.9388</td>\n",
       "      <td>bench</td>\n",
       "      <td>heavy</td>\n",
       "      <td>B</td>\n",
       "      <td>64.0</td>\n",
       "    </tr>\n",
       "    <tr>\n",
       "      <th>1</th>\n",
       "      <td>2024-02-11 17:08:05.400</td>\n",
       "      <td>-0.001500</td>\n",
       "      <td>0.970500</td>\n",
       "      <td>-0.079500</td>\n",
       "      <td>-1.6826</td>\n",
       "      <td>-0.8904</td>\n",
       "      <td>2.1708</td>\n",
       "      <td>bench</td>\n",
       "      <td>heavy</td>\n",
       "      <td>B</td>\n",
       "      <td>64.0</td>\n",
       "    </tr>\n",
       "    <tr>\n",
       "      <th>2</th>\n",
       "      <td>2024-02-11 17:08:05.600</td>\n",
       "      <td>0.001333</td>\n",
       "      <td>0.971667</td>\n",
       "      <td>-0.064333</td>\n",
       "      <td>2.5608</td>\n",
       "      <td>-0.2560</td>\n",
       "      <td>-1.4146</td>\n",
       "      <td>bench</td>\n",
       "      <td>heavy</td>\n",
       "      <td>B</td>\n",
       "      <td>64.0</td>\n",
       "    </tr>\n",
       "    <tr>\n",
       "      <th>3</th>\n",
       "      <td>2024-02-11 17:08:05.800</td>\n",
       "      <td>-0.024000</td>\n",
       "      <td>0.957000</td>\n",
       "      <td>-0.073500</td>\n",
       "      <td>8.0610</td>\n",
       "      <td>-4.5244</td>\n",
       "      <td>-2.0730</td>\n",
       "      <td>bench</td>\n",
       "      <td>heavy</td>\n",
       "      <td>B</td>\n",
       "      <td>64.0</td>\n",
       "    </tr>\n",
       "    <tr>\n",
       "      <th>4</th>\n",
       "      <td>2024-02-11 17:08:06.000</td>\n",
       "      <td>-0.028000</td>\n",
       "      <td>0.957667</td>\n",
       "      <td>-0.115000</td>\n",
       "      <td>2.4390</td>\n",
       "      <td>-1.5486</td>\n",
       "      <td>-3.6098</td>\n",
       "      <td>bench</td>\n",
       "      <td>heavy</td>\n",
       "      <td>B</td>\n",
       "      <td>64.0</td>\n",
       "    </tr>\n",
       "    <tr>\n",
       "      <th>...</th>\n",
       "      <td>...</td>\n",
       "      <td>...</td>\n",
       "      <td>...</td>\n",
       "      <td>...</td>\n",
       "      <td>...</td>\n",
       "      <td>...</td>\n",
       "      <td>...</td>\n",
       "      <td>...</td>\n",
       "      <td>...</td>\n",
       "      <td>...</td>\n",
       "      <td>...</td>\n",
       "    </tr>\n",
       "    <tr>\n",
       "      <th>9004</th>\n",
       "      <td>2024-02-20 19:33:27.000</td>\n",
       "      <td>-0.048000</td>\n",
       "      <td>-1.041500</td>\n",
       "      <td>-0.076500</td>\n",
       "      <td>1.4146</td>\n",
       "      <td>-5.6218</td>\n",
       "      <td>0.2926</td>\n",
       "      <td>row</td>\n",
       "      <td>medium</td>\n",
       "      <td>E</td>\n",
       "      <td>71.0</td>\n",
       "    </tr>\n",
       "    <tr>\n",
       "      <th>9005</th>\n",
       "      <td>2024-02-20 19:33:27.200</td>\n",
       "      <td>-0.037000</td>\n",
       "      <td>-1.030333</td>\n",
       "      <td>-0.053333</td>\n",
       "      <td>-2.7684</td>\n",
       "      <td>-0.5854</td>\n",
       "      <td>2.2440</td>\n",
       "      <td>row</td>\n",
       "      <td>medium</td>\n",
       "      <td>E</td>\n",
       "      <td>71.0</td>\n",
       "    </tr>\n",
       "    <tr>\n",
       "      <th>9006</th>\n",
       "      <td>2024-02-20 19:33:27.400</td>\n",
       "      <td>-0.060000</td>\n",
       "      <td>-1.031000</td>\n",
       "      <td>-0.082000</td>\n",
       "      <td>2.8416</td>\n",
       "      <td>-5.1342</td>\n",
       "      <td>-0.1220</td>\n",
       "      <td>row</td>\n",
       "      <td>medium</td>\n",
       "      <td>E</td>\n",
       "      <td>71.0</td>\n",
       "    </tr>\n",
       "    <tr>\n",
       "      <th>9007</th>\n",
       "      <td>2024-02-20 19:33:27.600</td>\n",
       "      <td>-0.038667</td>\n",
       "      <td>-1.025667</td>\n",
       "      <td>-0.044667</td>\n",
       "      <td>-0.2318</td>\n",
       "      <td>0.2562</td>\n",
       "      <td>1.1220</td>\n",
       "      <td>row</td>\n",
       "      <td>medium</td>\n",
       "      <td>E</td>\n",
       "      <td>71.0</td>\n",
       "    </tr>\n",
       "    <tr>\n",
       "      <th>9008</th>\n",
       "      <td>2024-02-20 19:33:27.800</td>\n",
       "      <td>-0.044000</td>\n",
       "      <td>-1.034000</td>\n",
       "      <td>-0.059000</td>\n",
       "      <td>1.0980</td>\n",
       "      <td>-4.0240</td>\n",
       "      <td>0.9760</td>\n",
       "      <td>row</td>\n",
       "      <td>medium</td>\n",
       "      <td>E</td>\n",
       "      <td>71.0</td>\n",
       "    </tr>\n",
       "  </tbody>\n",
       "</table>\n",
       "<p>9009 rows × 11 columns</p>\n",
       "</div>"
      ],
      "text/plain": [
       "                         time   mean_xc   mean_yc   mean_zc  mean_xg  mean_yg  \\\n",
       "0     2024-02-11 17:08:05.200  0.013500  0.977000 -0.071000  -1.8904   2.4392   \n",
       "1     2024-02-11 17:08:05.400 -0.001500  0.970500 -0.079500  -1.6826  -0.8904   \n",
       "2     2024-02-11 17:08:05.600  0.001333  0.971667 -0.064333   2.5608  -0.2560   \n",
       "3     2024-02-11 17:08:05.800 -0.024000  0.957000 -0.073500   8.0610  -4.5244   \n",
       "4     2024-02-11 17:08:06.000 -0.028000  0.957667 -0.115000   2.4390  -1.5486   \n",
       "...                       ...       ...       ...       ...      ...      ...   \n",
       "9004  2024-02-20 19:33:27.000 -0.048000 -1.041500 -0.076500   1.4146  -5.6218   \n",
       "9005  2024-02-20 19:33:27.200 -0.037000 -1.030333 -0.053333  -2.7684  -0.5854   \n",
       "9006  2024-02-20 19:33:27.400 -0.060000 -1.031000 -0.082000   2.8416  -5.1342   \n",
       "9007  2024-02-20 19:33:27.600 -0.038667 -1.025667 -0.044667  -0.2318   0.2562   \n",
       "9008  2024-02-20 19:33:27.800 -0.044000 -1.034000 -0.059000   1.0980  -4.0240   \n",
       "\n",
       "      mean_zg posture   types specimen    set  \n",
       "0      0.9388   bench   heavy         B  64.0  \n",
       "1      2.1708   bench   heavy         B  64.0  \n",
       "2     -1.4146   bench   heavy         B  64.0  \n",
       "3     -2.0730   bench   heavy         B  64.0  \n",
       "4     -3.6098   bench   heavy         B  64.0  \n",
       "...       ...     ...     ...       ...   ...  \n",
       "9004   0.2926     row  medium         E  71.0  \n",
       "9005   2.2440     row  medium         E  71.0  \n",
       "9006  -0.1220     row  medium         E  71.0  \n",
       "9007   1.1220     row  medium         E  71.0  \n",
       "9008   0.9760     row  medium         E  71.0  \n",
       "\n",
       "[9009 rows x 11 columns]"
      ]
     },
     "execution_count": 7,
     "metadata": {},
     "output_type": "execute_result"
    }
   ],
   "source": [
    "df"
   ]
  },
  {
   "cell_type": "code",
   "execution_count": 11,
   "metadata": {},
   "outputs": [
    {
     "data": {
      "text/plain": [
       "array(['bench', 'ohp', 'squat', 'dead', 'row', 'rest'], dtype=object)"
      ]
     },
     "execution_count": 11,
     "metadata": {},
     "output_type": "execute_result"
    }
   ],
   "source": [
    "df.posture.unique()"
   ]
  },
  {
   "cell_type": "code",
   "execution_count": 12,
   "metadata": {},
   "outputs": [
    {
     "data": {
      "text/plain": [
       "array(['heavy', 'medium', 'sitting', 'standing'], dtype=object)"
      ]
     },
     "execution_count": 12,
     "metadata": {},
     "output_type": "execute_result"
    }
   ],
   "source": [
    "df.types.unique()"
   ]
  },
  {
   "cell_type": "code",
   "execution_count": 13,
   "metadata": {},
   "outputs": [
    {
     "data": {
      "text/plain": [
       "array([64., 72., 40., 86., 80., 10., 74., 52., 12., 33., 77., 53., 32.,\n",
       "       79., 22., 17., 69., 63., 60., 92., 57.,  7., 16., 26., 67., 75.,\n",
       "       89., 23., 11., 58., 25., 43., 24., 34.,  3., 81., 85., 84., 37.,\n",
       "       55.,  5.,  2., 41., 38., 78., 91., 19., 73., 48., 87., 61.,  1.,\n",
       "       30., 65., 59., 20., 29., 28., 51., 83., 13., 35., 42.,  8., 56.,\n",
       "        4., 45., 82., 93., 14., 88., 21., 50.,  6., 47., 36., 31.,  9.,\n",
       "       39., 90., 70., 62., 66., 46., 27., 18., 49., 54., 44., 15., 71.])"
      ]
     },
     "execution_count": 13,
     "metadata": {},
     "output_type": "execute_result"
    }
   ],
   "source": [
    "df.set.unique()"
   ]
  },
  {
   "cell_type": "code",
   "execution_count": 8,
   "metadata": {},
   "outputs": [
    {
     "name": "stdout",
     "output_type": "stream",
     "text": [
      "<class 'pandas.core.frame.DataFrame'>\n",
      "RangeIndex: 9009 entries, 0 to 9008\n",
      "Data columns (total 11 columns):\n",
      " #   Column     Non-Null Count  Dtype  \n",
      "---  ------     --------------  -----  \n",
      " 0   time       9009 non-null   object \n",
      " 1   mean_xc    9009 non-null   float64\n",
      " 2   mean_yc    9009 non-null   float64\n",
      " 3   mean_zc    9009 non-null   float64\n",
      " 4   mean_xg    9009 non-null   float64\n",
      " 5   mean_yg    9009 non-null   float64\n",
      " 6   mean_zg    9009 non-null   float64\n",
      " 7   posture    9009 non-null   object \n",
      " 8   types      9009 non-null   object \n",
      " 9   specimen   9009 non-null   object \n",
      " 10  set        9009 non-null   float64\n",
      "dtypes: float64(7), object(4)\n",
      "memory usage: 774.3+ KB\n"
     ]
    }
   ],
   "source": [
    "df.info()"
   ]
  },
  {
   "cell_type": "code",
   "execution_count": 10,
   "metadata": {},
   "outputs": [
    {
     "data": {
      "text/html": [
       "<div>\n",
       "<style scoped>\n",
       "    .dataframe tbody tr th:only-of-type {\n",
       "        vertical-align: middle;\n",
       "    }\n",
       "\n",
       "    .dataframe tbody tr th {\n",
       "        vertical-align: top;\n",
       "    }\n",
       "\n",
       "    .dataframe thead th {\n",
       "        text-align: right;\n",
       "    }\n",
       "</style>\n",
       "<table border=\"1\" class=\"dataframe\">\n",
       "  <thead>\n",
       "    <tr style=\"text-align: right;\">\n",
       "      <th></th>\n",
       "      <th>mean_xc</th>\n",
       "      <th>mean_yc</th>\n",
       "      <th>mean_zc</th>\n",
       "      <th>mean_xg</th>\n",
       "      <th>mean_yg</th>\n",
       "      <th>mean_zg</th>\n",
       "      <th>set</th>\n",
       "    </tr>\n",
       "  </thead>\n",
       "  <tbody>\n",
       "    <tr>\n",
       "      <th>count</th>\n",
       "      <td>9009.000000</td>\n",
       "      <td>9009.000000</td>\n",
       "      <td>9009.000000</td>\n",
       "      <td>9009.000000</td>\n",
       "      <td>9009.000000</td>\n",
       "      <td>9009.000000</td>\n",
       "      <td>9009.000000</td>\n",
       "    </tr>\n",
       "    <tr>\n",
       "      <th>mean</th>\n",
       "      <td>0.038977</td>\n",
       "      <td>0.069961</td>\n",
       "      <td>0.104512</td>\n",
       "      <td>0.791898</td>\n",
       "      <td>-1.881280</td>\n",
       "      <td>0.828841</td>\n",
       "      <td>45.055611</td>\n",
       "    </tr>\n",
       "    <tr>\n",
       "      <th>std</th>\n",
       "      <td>0.274292</td>\n",
       "      <td>0.912476</td>\n",
       "      <td>0.332688</td>\n",
       "      <td>22.252277</td>\n",
       "      <td>17.543199</td>\n",
       "      <td>23.185431</td>\n",
       "      <td>25.946807</td>\n",
       "    </tr>\n",
       "    <tr>\n",
       "      <th>min</th>\n",
       "      <td>-0.838000</td>\n",
       "      <td>-1.545500</td>\n",
       "      <td>-0.619333</td>\n",
       "      <td>-235.524400</td>\n",
       "      <td>-187.951200</td>\n",
       "      <td>-338.170800</td>\n",
       "      <td>1.000000</td>\n",
       "    </tr>\n",
       "    <tr>\n",
       "      <th>25%</th>\n",
       "      <td>-0.111000</td>\n",
       "      <td>-0.949667</td>\n",
       "      <td>-0.125500</td>\n",
       "      <td>-9.597400</td>\n",
       "      <td>-6.475600</td>\n",
       "      <td>-4.573200</td>\n",
       "      <td>24.000000</td>\n",
       "    </tr>\n",
       "    <tr>\n",
       "      <th>50%</th>\n",
       "      <td>0.016000</td>\n",
       "      <td>0.578000</td>\n",
       "      <td>-0.030000</td>\n",
       "      <td>1.182800</td>\n",
       "      <td>-1.975600</td>\n",
       "      <td>0.536600</td>\n",
       "      <td>45.000000</td>\n",
       "    </tr>\n",
       "    <tr>\n",
       "      <th>75%</th>\n",
       "      <td>0.118500</td>\n",
       "      <td>0.873333</td>\n",
       "      <td>0.336500</td>\n",
       "      <td>10.438800</td>\n",
       "      <td>2.780400</td>\n",
       "      <td>6.036600</td>\n",
       "      <td>64.000000</td>\n",
       "    </tr>\n",
       "    <tr>\n",
       "      <th>max</th>\n",
       "      <td>1.464000</td>\n",
       "      <td>1.640000</td>\n",
       "      <td>1.049000</td>\n",
       "      <td>171.804800</td>\n",
       "      <td>233.183200</td>\n",
       "      <td>269.085400</td>\n",
       "      <td>93.000000</td>\n",
       "    </tr>\n",
       "  </tbody>\n",
       "</table>\n",
       "</div>"
      ],
      "text/plain": [
       "           mean_xc      mean_yc      mean_zc      mean_xg      mean_yg  \\\n",
       "count  9009.000000  9009.000000  9009.000000  9009.000000  9009.000000   \n",
       "mean      0.038977     0.069961     0.104512     0.791898    -1.881280   \n",
       "std       0.274292     0.912476     0.332688    22.252277    17.543199   \n",
       "min      -0.838000    -1.545500    -0.619333  -235.524400  -187.951200   \n",
       "25%      -0.111000    -0.949667    -0.125500    -9.597400    -6.475600   \n",
       "50%       0.016000     0.578000    -0.030000     1.182800    -1.975600   \n",
       "75%       0.118500     0.873333     0.336500    10.438800     2.780400   \n",
       "max       1.464000     1.640000     1.049000   171.804800   233.183200   \n",
       "\n",
       "           mean_zg          set  \n",
       "count  9009.000000  9009.000000  \n",
       "mean      0.828841    45.055611  \n",
       "std      23.185431    25.946807  \n",
       "min    -338.170800     1.000000  \n",
       "25%      -4.573200    24.000000  \n",
       "50%       0.536600    45.000000  \n",
       "75%       6.036600    64.000000  \n",
       "max     269.085400    93.000000  "
      ]
     },
     "execution_count": 10,
     "metadata": {},
     "output_type": "execute_result"
    }
   ],
   "source": [
    "df.describe()"
   ]
  },
  {
   "cell_type": "code",
   "execution_count": 1,
   "metadata": {},
   "outputs": [
    {
     "name": "stdout",
     "output_type": "stream",
     "text": [
      "env: CLEARML_WEB_HOST=https://app.clear.ml\n",
      "env: CLEARML_API_HOST=https://api.clear.ml\n",
      "env: CLEARML_FILES_HOST=https://files.clear.ml\n",
      "env: CLEARML_API_ACCESS_KEY=&lt;You’re API access key&gt;\n",
      "env: CLEARML_API_SECRET_KEY=&lt;You’re API secret key&gt;\n"
     ]
    }
   ],
   "source": [
    "%env CLEARML_WEB_HOST=https://app.clear.ml\n",
    "%env CLEARML_API_HOST=https://api.clear.ml\n",
    "%env CLEARML_FILES_HOST=https://files.clear.ml\n",
    "%env CLEARML_API_ACCESS_KEY=&lt;You’re API access key&gt;\n",
    "%env CLEARML_API_SECRET_KEY=&lt;You’re API secret key&gt;"
   ]
  }
 ],
 "metadata": {
  "kernelspec": {
   "display_name": "Python 3",
   "language": "python",
   "name": "python3"
  },
  "language_info": {
   "codemirror_mode": {
    "name": "ipython",
    "version": 3
   },
   "file_extension": ".py",
   "mimetype": "text/x-python",
   "name": "python",
   "nbconvert_exporter": "python",
   "pygments_lexer": "ipython3",
   "version": "3.9.13"
  }
 },
 "nbformat": 4,
 "nbformat_minor": 2
}
