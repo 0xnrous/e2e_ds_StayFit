{
 "cells": [
  {
   "cell_type": "markdown",
   "metadata": {},
   "source": [
    "# Feature Engineering Notebook 1\n",
    "\n",
    "## Goal\n",
    "The goal of this notebook is to enhance the dataset by applying various techniques to extract valuable insights and improve the predictive power of the model. The primary objectives are as follows:\n",
    "\n",
    "1. **Filter Subtle Noise:** Identify and filter out subtle noise from the dataset, distinguishing it from outliers, to ensure data integrity and quality.\n",
    "    \n",
    "2. **Feature Generation:** Create new features by leveraging numerical, temporal, frequency, and clustering techniques, enriching the dataset and capturing additional information that may be relevant for modeling.\n"
   ]
  },
  {
   "cell_type": "code",
   "execution_count": 2,
   "metadata": {},
   "outputs": [],
   "source": [
    "DF_PATH = '../data/processed/4_cleaned_outliers_data.pkl'\n",
    "FIG_DIR = '../reports/figures/'\n",
    "EXPORT_PATH = '../data/processed/5a_feature_engineering_data.pkl'"
   ]
  },
  {
   "cell_type": "code",
   "execution_count": 3,
   "metadata": {},
   "outputs": [],
   "source": [
    "import sys\n",
    "sys.path.append('../')"
   ]
  },
  {
   "cell_type": "code",
   "execution_count": 4,
   "metadata": {},
   "outputs": [],
   "source": [
    "# Load packages\n",
    "import pandas as pd \n",
    "import numpy as np\n",
    "import logging\n",
    "import pickle\n",
    "import os\n",
    "import plotly.graph_objects as go \n",
    "from plotly.subplots import make_subplots\n",
    "import plotly.express as px \n",
    "import plotly.figure_factory as ff \n",
    "from matplotlib import pyplot as plt \n",
    "import matplotlib as mpl\n",
    "import seaborn as sns\n",
    "from IPython.display import display\n",
    "from cycler import cycler\n",
    "from scipy.signal import butter, lfilter, filtfilt\n",
    "import copy\n",
    "from sklearn.decomposition import PCA\n",
    "import scipy.stats as stats\n",
    "from sklearn.preprocessing import StandardScaler\n",
    "from sklearn.preprocessing import MultiLabelBinarizer\n",
    "from sklearn.manifold import TSNE\n",
    "from sklearn.pipeline import make_pipeline"
   ]
  },
  {
   "cell_type": "code",
   "execution_count": 5,
   "metadata": {},
   "outputs": [],
   "source": [
    "from scripts.LowPassFilter import *\n",
    "from scripts.PrincipalComponentAnalysis import *"
   ]
  },
  {
   "cell_type": "code",
   "execution_count": 27,
   "metadata": {},
   "outputs": [],
   "source": [
    "# Ajust matplotlib style Function using (GPT-3.5)\n",
    "class CustomMatplotlibStyle:\n",
    "    def __init__(self, custom_colors=None, legend_fontsize=10):\n",
    "        if custom_colors is None:\n",
    "            custom_colors = ['#1f77b4', '#ff7f0e', '#2ca02c', '#d62728', '#9467bd', '#8c564b', '#e377c2', '#7f7f7f', '#bcbd22', '#17becf']\n",
    "        self.set_colors(custom_colors)\n",
    "        self.set_style()\n",
    "        self.set_figure_size()\n",
    "        self.set_grid()\n",
    "        self.set_line_width()\n",
    "        self.set_tick_colors()\n",
    "        self.set_font_size()\n",
    "        self.set_title_size()\n",
    "        self.set_legend_fontsize(legend_fontsize)\n",
    "        self.set_dpi()\n",
    "\n",
    "    def set_colors(self, custom_colors):\n",
    "        plt.rcParams[\"axes.prop_cycle\"] = cycler(color=custom_colors)\n",
    "\n",
    "    def set_style(self):\n",
    "        plt.style.use(\"bmh\")\n",
    "\n",
    "    def set_figure_size(self):\n",
    "        plt.rcParams[\"figure.figsize\"] = (20, 10)\n",
    "\n",
    "    def set_grid(self):\n",
    "        plt.rcParams[\"axes.grid\"] = True\n",
    "        plt.rcParams[\"grid.color\"] = \"lightgray\"\n",
    "\n",
    "    def set_line_width(self):\n",
    "        plt.rcParams[\"axes.linewidth\"] = 1.5\n",
    "\n",
    "    def set_tick_colors(self):\n",
    "        plt.rcParams[\"xtick.color\"] = \"black\"\n",
    "        plt.rcParams[\"ytick.color\"] = \"black\"\n",
    "\n",
    "    def set_font_size(self):\n",
    "        plt.rcParams[\"font.size\"] = 15\n",
    "\n",
    "    def set_title_size(self):\n",
    "        plt.rcParams[\"figure.titlesize\"] = 20\n",
    "\n",
    "    def set_legend_fontsize(self, legend_fontsize):\n",
    "        plt.rcParams[\"legend.fontsize\"] = legend_fontsize\n",
    "\n",
    "    def set_dpi(self):\n",
    "        plt.rcParams[\"figure.dpi\"] = 100\n",
    "\n",
    "custom_style = CustomMatplotlibStyle(legend_fontsize=8)\n",
    "# Define a color palette\n",
    "colors = ['rgb(31, 119, 180)', 'rgb(255, 127, 14)', 'rgb(44, 160, 44)', 'rgb(214, 39, 40)', \n",
    "          'rgb(148, 103, 189)', 'rgb(140, 86, 75)', 'rgb(227, 119, 194)', 'rgb(127, 127, 127)', \n",
    "          'rgb(188, 189, 34)', 'rgb(23, 190, 207)']\n"
   ]
  },
  {
   "cell_type": "markdown",
   "metadata": {},
   "source": [
    "------"
   ]
  },
  {
   "cell_type": "markdown",
   "metadata": {},
   "source": [
    "# **Read Data**"
   ]
  },
  {
   "cell_type": "code",
   "execution_count": 7,
   "metadata": {},
   "outputs": [
    {
     "data": {
      "text/html": [
       "<div>\n",
       "<style scoped>\n",
       "    .dataframe tbody tr th:only-of-type {\n",
       "        vertical-align: middle;\n",
       "    }\n",
       "\n",
       "    .dataframe tbody tr th {\n",
       "        vertical-align: top;\n",
       "    }\n",
       "\n",
       "    .dataframe thead th {\n",
       "        text-align: right;\n",
       "    }\n",
       "</style>\n",
       "<table border=\"1\" class=\"dataframe\">\n",
       "  <thead>\n",
       "    <tr style=\"text-align: right;\">\n",
       "      <th></th>\n",
       "      <th>mean_xc</th>\n",
       "      <th>mean_yc</th>\n",
       "      <th>mean_zc</th>\n",
       "      <th>mean_xg</th>\n",
       "      <th>mean_yg</th>\n",
       "      <th>mean_zg</th>\n",
       "      <th>posture</th>\n",
       "      <th>types</th>\n",
       "      <th>specimen</th>\n",
       "      <th>set</th>\n",
       "    </tr>\n",
       "    <tr>\n",
       "      <th>time</th>\n",
       "      <th></th>\n",
       "      <th></th>\n",
       "      <th></th>\n",
       "      <th></th>\n",
       "      <th></th>\n",
       "      <th></th>\n",
       "      <th></th>\n",
       "      <th></th>\n",
       "      <th></th>\n",
       "      <th></th>\n",
       "    </tr>\n",
       "  </thead>\n",
       "  <tbody>\n",
       "    <tr>\n",
       "      <th>2024-02-11 17:08:05.200</th>\n",
       "      <td>0.013500</td>\n",
       "      <td>0.977000</td>\n",
       "      <td>-0.071000</td>\n",
       "      <td>-1.8904</td>\n",
       "      <td>2.4392</td>\n",
       "      <td>0.9388</td>\n",
       "      <td>bench</td>\n",
       "      <td>heavy</td>\n",
       "      <td>B</td>\n",
       "      <td>64.0</td>\n",
       "    </tr>\n",
       "    <tr>\n",
       "      <th>2024-02-11 17:08:05.400</th>\n",
       "      <td>-0.001500</td>\n",
       "      <td>0.970500</td>\n",
       "      <td>-0.079500</td>\n",
       "      <td>-1.6826</td>\n",
       "      <td>-0.8904</td>\n",
       "      <td>2.1708</td>\n",
       "      <td>bench</td>\n",
       "      <td>heavy</td>\n",
       "      <td>B</td>\n",
       "      <td>64.0</td>\n",
       "    </tr>\n",
       "    <tr>\n",
       "      <th>2024-02-11 17:08:05.600</th>\n",
       "      <td>0.001333</td>\n",
       "      <td>0.971667</td>\n",
       "      <td>-0.064333</td>\n",
       "      <td>2.5608</td>\n",
       "      <td>-0.2560</td>\n",
       "      <td>-1.4146</td>\n",
       "      <td>bench</td>\n",
       "      <td>heavy</td>\n",
       "      <td>B</td>\n",
       "      <td>64.0</td>\n",
       "    </tr>\n",
       "    <tr>\n",
       "      <th>2024-02-11 17:08:05.800</th>\n",
       "      <td>-0.024000</td>\n",
       "      <td>0.957000</td>\n",
       "      <td>-0.073500</td>\n",
       "      <td>8.0610</td>\n",
       "      <td>-4.5244</td>\n",
       "      <td>-2.0730</td>\n",
       "      <td>bench</td>\n",
       "      <td>heavy</td>\n",
       "      <td>B</td>\n",
       "      <td>64.0</td>\n",
       "    </tr>\n",
       "    <tr>\n",
       "      <th>2024-02-11 17:08:06.000</th>\n",
       "      <td>-0.028000</td>\n",
       "      <td>0.957667</td>\n",
       "      <td>-0.115000</td>\n",
       "      <td>2.4390</td>\n",
       "      <td>-1.5486</td>\n",
       "      <td>-3.6098</td>\n",
       "      <td>bench</td>\n",
       "      <td>heavy</td>\n",
       "      <td>B</td>\n",
       "      <td>64.0</td>\n",
       "    </tr>\n",
       "    <tr>\n",
       "      <th>...</th>\n",
       "      <td>...</td>\n",
       "      <td>...</td>\n",
       "      <td>...</td>\n",
       "      <td>...</td>\n",
       "      <td>...</td>\n",
       "      <td>...</td>\n",
       "      <td>...</td>\n",
       "      <td>...</td>\n",
       "      <td>...</td>\n",
       "      <td>...</td>\n",
       "    </tr>\n",
       "    <tr>\n",
       "      <th>2024-02-20 19:33:27.000</th>\n",
       "      <td>-0.048000</td>\n",
       "      <td>-1.041500</td>\n",
       "      <td>-0.076500</td>\n",
       "      <td>1.4146</td>\n",
       "      <td>-5.6218</td>\n",
       "      <td>0.2926</td>\n",
       "      <td>row</td>\n",
       "      <td>medium</td>\n",
       "      <td>E</td>\n",
       "      <td>71.0</td>\n",
       "    </tr>\n",
       "    <tr>\n",
       "      <th>2024-02-20 19:33:27.200</th>\n",
       "      <td>-0.037000</td>\n",
       "      <td>-1.030333</td>\n",
       "      <td>-0.053333</td>\n",
       "      <td>-2.7684</td>\n",
       "      <td>-0.5854</td>\n",
       "      <td>2.2440</td>\n",
       "      <td>row</td>\n",
       "      <td>medium</td>\n",
       "      <td>E</td>\n",
       "      <td>71.0</td>\n",
       "    </tr>\n",
       "    <tr>\n",
       "      <th>2024-02-20 19:33:27.400</th>\n",
       "      <td>-0.060000</td>\n",
       "      <td>-1.031000</td>\n",
       "      <td>-0.082000</td>\n",
       "      <td>2.8416</td>\n",
       "      <td>-5.1342</td>\n",
       "      <td>-0.1220</td>\n",
       "      <td>row</td>\n",
       "      <td>medium</td>\n",
       "      <td>E</td>\n",
       "      <td>71.0</td>\n",
       "    </tr>\n",
       "    <tr>\n",
       "      <th>2024-02-20 19:33:27.600</th>\n",
       "      <td>-0.038667</td>\n",
       "      <td>-1.025667</td>\n",
       "      <td>-0.044667</td>\n",
       "      <td>-0.2318</td>\n",
       "      <td>0.2562</td>\n",
       "      <td>1.1220</td>\n",
       "      <td>row</td>\n",
       "      <td>medium</td>\n",
       "      <td>E</td>\n",
       "      <td>71.0</td>\n",
       "    </tr>\n",
       "    <tr>\n",
       "      <th>2024-02-20 19:33:27.800</th>\n",
       "      <td>-0.044000</td>\n",
       "      <td>-1.034000</td>\n",
       "      <td>-0.059000</td>\n",
       "      <td>1.0980</td>\n",
       "      <td>-4.0240</td>\n",
       "      <td>0.9760</td>\n",
       "      <td>row</td>\n",
       "      <td>medium</td>\n",
       "      <td>E</td>\n",
       "      <td>71.0</td>\n",
       "    </tr>\n",
       "  </tbody>\n",
       "</table>\n",
       "<p>9009 rows × 10 columns</p>\n",
       "</div>"
      ],
      "text/plain": [
       "                          mean_xc   mean_yc   mean_zc  mean_xg  mean_yg  \\\n",
       "time                                                                      \n",
       "2024-02-11 17:08:05.200  0.013500  0.977000 -0.071000  -1.8904   2.4392   \n",
       "2024-02-11 17:08:05.400 -0.001500  0.970500 -0.079500  -1.6826  -0.8904   \n",
       "2024-02-11 17:08:05.600  0.001333  0.971667 -0.064333   2.5608  -0.2560   \n",
       "2024-02-11 17:08:05.800 -0.024000  0.957000 -0.073500   8.0610  -4.5244   \n",
       "2024-02-11 17:08:06.000 -0.028000  0.957667 -0.115000   2.4390  -1.5486   \n",
       "...                           ...       ...       ...      ...      ...   \n",
       "2024-02-20 19:33:27.000 -0.048000 -1.041500 -0.076500   1.4146  -5.6218   \n",
       "2024-02-20 19:33:27.200 -0.037000 -1.030333 -0.053333  -2.7684  -0.5854   \n",
       "2024-02-20 19:33:27.400 -0.060000 -1.031000 -0.082000   2.8416  -5.1342   \n",
       "2024-02-20 19:33:27.600 -0.038667 -1.025667 -0.044667  -0.2318   0.2562   \n",
       "2024-02-20 19:33:27.800 -0.044000 -1.034000 -0.059000   1.0980  -4.0240   \n",
       "\n",
       "                         mean_zg posture   types specimen    set  \n",
       "time                                                              \n",
       "2024-02-11 17:08:05.200   0.9388   bench   heavy         B  64.0  \n",
       "2024-02-11 17:08:05.400   2.1708   bench   heavy         B  64.0  \n",
       "2024-02-11 17:08:05.600  -1.4146   bench   heavy         B  64.0  \n",
       "2024-02-11 17:08:05.800  -2.0730   bench   heavy         B  64.0  \n",
       "2024-02-11 17:08:06.000  -3.6098   bench   heavy         B  64.0  \n",
       "...                          ...     ...     ...       ...   ...  \n",
       "2024-02-20 19:33:27.000   0.2926     row  medium         E  71.0  \n",
       "2024-02-20 19:33:27.200   2.2440     row  medium         E  71.0  \n",
       "2024-02-20 19:33:27.400  -0.1220     row  medium         E  71.0  \n",
       "2024-02-20 19:33:27.600   1.1220     row  medium         E  71.0  \n",
       "2024-02-20 19:33:27.800   0.9760     row  medium         E  71.0  \n",
       "\n",
       "[9009 rows x 10 columns]"
      ]
     },
     "execution_count": 7,
     "metadata": {},
     "output_type": "execute_result"
    }
   ],
   "source": [
    "df = pd.read_pickle(DF_PATH)\n",
    "df"
   ]
  },
  {
   "cell_type": "markdown",
   "metadata": {},
   "source": [
    "------"
   ]
  },
  {
   "cell_type": "markdown",
   "metadata": {},
   "source": [
    "# **Dealing with Missing Values:**\n",
    "- In this case i will imput missing values"
   ]
  },
  {
   "cell_type": "code",
   "execution_count": 8,
   "metadata": {},
   "outputs": [
    {
     "data": {
      "text/plain": [
       "['mean_xc', 'mean_yc', 'mean_zc', 'mean_xg', 'mean_yg', 'mean_zg']"
      ]
     },
     "execution_count": 8,
     "metadata": {},
     "output_type": "execute_result"
    }
   ],
   "source": [
    "predicator_columns = list(df.columns[0:6])\n",
    "predicator_columns"
   ]
  },
  {
   "cell_type": "code",
   "execution_count": 9,
   "metadata": {},
   "outputs": [
    {
     "name": "stdout",
     "output_type": "stream",
     "text": [
      "<class 'pandas.core.frame.DataFrame'>\n",
      "DatetimeIndex: 9009 entries, 2024-02-11 17:08:05.200000 to 2024-02-20 19:33:27.800000\n",
      "Data columns (total 10 columns):\n",
      " #   Column     Non-Null Count  Dtype  \n",
      "---  ------     --------------  -----  \n",
      " 0   mean_xc    8121 non-null   float64\n",
      " 1   mean_yc    8109 non-null   float64\n",
      " 2   mean_zc    8112 non-null   float64\n",
      " 3   mean_xg    8108 non-null   float64\n",
      " 4   mean_yg    8111 non-null   float64\n",
      " 5   mean_zg    8114 non-null   float64\n",
      " 6   posture    9009 non-null   object \n",
      " 7   types      9009 non-null   object \n",
      " 8   specimen   9009 non-null   object \n",
      " 9   set        9009 non-null   float64\n",
      "dtypes: float64(7), object(3)\n",
      "memory usage: 774.2+ KB\n"
     ]
    }
   ],
   "source": [
    "df.info()"
   ]
  },
  {
   "cell_type": "code",
   "execution_count": 10,
   "metadata": {},
   "outputs": [
    {
     "data": {
      "text/plain": [
       "mean_xc      888\n",
       "mean_yc      900\n",
       "mean_zc      897\n",
       "mean_xg      901\n",
       "mean_yg      898\n",
       "mean_zg      895\n",
       "posture        0\n",
       "types          0\n",
       "specimen       0\n",
       "set            0\n",
       "dtype: int64"
      ]
     },
     "execution_count": 10,
     "metadata": {},
     "output_type": "execute_result"
    }
   ],
   "source": [
    "df.isnull().sum()"
   ]
  },
  {
   "cell_type": "markdown",
   "metadata": {},
   "source": [
    "- Let's Explore more about this missing values"
   ]
  },
  {
   "cell_type": "code",
   "execution_count": 12,
   "metadata": {},
   "outputs": [
    {
     "data": {
      "application/vnd.plotly.v1+json": {
       "config": {
        "plotlyServerURL": "https://plot.ly"
       },
       "data": [
        {
         "mode": "lines",
         "type": "scatter",
         "x": [
          "2024-02-15T21:09:07.200000",
          "2024-02-15T21:09:07.400000",
          "2024-02-15T21:09:07.600000",
          "2024-02-15T21:09:07.800000",
          "2024-02-15T21:09:08",
          "2024-02-15T21:09:08.200000",
          "2024-02-15T21:09:08.400000",
          "2024-02-15T21:09:08.600000",
          "2024-02-15T21:09:08.800000",
          "2024-02-15T21:09:09",
          "2024-02-15T21:09:09.200000",
          "2024-02-15T21:09:09.400000",
          "2024-02-15T21:09:09.600000",
          "2024-02-15T21:09:09.800000",
          "2024-02-15T21:09:10",
          "2024-02-15T21:09:10.200000",
          "2024-02-15T21:09:10.400000",
          "2024-02-15T21:09:10.600000",
          "2024-02-15T21:09:10.800000",
          "2024-02-15T21:09:11",
          "2024-02-15T21:09:11.200000",
          "2024-02-15T21:09:11.400000",
          "2024-02-15T21:09:11.600000",
          "2024-02-15T21:09:11.800000",
          "2024-02-15T21:09:12",
          "2024-02-15T21:09:12.200000",
          "2024-02-15T21:09:12.400000",
          "2024-02-15T21:09:12.600000",
          "2024-02-15T21:09:12.800000",
          "2024-02-15T21:09:13",
          "2024-02-15T21:09:13.200000",
          "2024-02-15T21:09:13.400000",
          "2024-02-15T21:09:13.600000",
          "2024-02-15T21:09:13.800000",
          "2024-02-15T21:09:14",
          "2024-02-15T21:09:14.200000",
          "2024-02-15T21:09:14.400000",
          "2024-02-15T21:09:14.600000",
          "2024-02-15T21:09:14.800000",
          "2024-02-15T21:09:15",
          "2024-02-15T21:09:15.200000",
          "2024-02-15T21:09:15.400000",
          "2024-02-15T21:09:15.600000",
          "2024-02-15T21:09:15.800000",
          "2024-02-15T21:09:16",
          "2024-02-15T21:09:16.200000",
          "2024-02-15T21:09:16.400000",
          "2024-02-15T21:09:16.600000",
          "2024-02-15T21:09:16.800000",
          "2024-02-15T21:09:17",
          "2024-02-15T21:09:17.200000",
          "2024-02-15T21:09:17.400000",
          "2024-02-15T21:09:17.600000",
          "2024-02-15T21:09:17.800000",
          "2024-02-15T21:09:18",
          "2024-02-15T21:09:18.200000",
          "2024-02-15T21:09:18.400000",
          "2024-02-15T21:09:18.600000",
          "2024-02-15T21:09:18.800000",
          "2024-02-15T21:09:19",
          "2024-02-15T21:09:19.200000",
          "2024-02-15T21:09:19.400000",
          "2024-02-15T21:09:19.600000",
          "2024-02-15T21:09:19.800000",
          "2024-02-15T21:09:20",
          "2024-02-15T21:09:20.200000",
          "2024-02-15T21:09:20.400000",
          "2024-02-15T21:09:20.600000",
          "2024-02-15T21:09:20.800000",
          "2024-02-15T21:09:21",
          "2024-02-15T21:09:21.200000",
          "2024-02-15T21:09:21.400000",
          "2024-02-15T21:09:21.600000",
          "2024-02-15T21:09:21.800000",
          "2024-02-15T21:09:22",
          "2024-02-15T21:09:22.200000",
          "2024-02-15T21:09:22.400000",
          "2024-02-15T21:09:22.600000",
          "2024-02-15T21:09:22.800000",
          "2024-02-15T21:09:23",
          "2024-02-15T21:09:23.200000",
          "2024-02-15T21:09:23.400000",
          "2024-02-15T21:09:23.600000",
          "2024-02-15T21:09:23.800000",
          "2024-02-15T21:09:24",
          "2024-02-15T21:09:24.200000",
          "2024-02-15T21:09:24.400000",
          "2024-02-15T21:09:24.600000",
          "2024-02-15T21:09:24.800000",
          "2024-02-15T21:09:25",
          "2024-02-15T21:09:25.200000",
          "2024-02-15T21:09:25.400000",
          "2024-02-15T21:09:25.600000",
          "2024-02-15T21:09:25.800000",
          "2024-02-15T21:09:26",
          "2024-02-15T21:09:26.200000",
          "2024-02-15T21:09:26.400000",
          "2024-02-15T21:09:26.600000",
          "2024-02-15T21:09:26.800000",
          "2024-02-15T21:09:27",
          "2024-02-15T21:09:27.200000",
          "2024-02-15T21:09:27.400000",
          "2024-02-15T21:09:27.600000"
         ],
         "y": [
          5.939,
          -1.5976,
          -6.1706,
          -3.8414,
          -10.3538,
          1.1462000000000003,
          -6.5488,
          -3.4024,
          1.1706,
          3.5732,
          -10.8294,
          0.5242000000000001,
          17.0854,
          16.122,
          6.2682,
          7.9146,
          11.6586,
          -8.7194,
          0.5,
          6.7562,
          2.817,
          -4.5976,
          -13.61,
          null,
          -11.9148,
          -4.2928,
          -14.6464,
          9.4024,
          7.1464,
          -12.3536,
          -12.4512,
          10.2318,
          21.9144,
          null,
          null,
          -2.7927999999999997,
          -0.8046000000000001,
          -1.9512,
          3.1586000000000003,
          5.4270000000000005,
          -7.1461999999999986,
          -17.3904,
          -14.731799999999998,
          -14.122,
          0.9146000000000001,
          -3.6464,
          3.7803999999999993,
          0.7194000000000003,
          -6.3416,
          -6.1708,
          20.2436,
          6.8294,
          16.9632,
          13.268199999999998,
          11.5852,
          -5.7194,
          2.7927999999999997,
          -1.2561999999999998,
          -8.8048,
          2.1586000000000003,
          7.8172,
          3.3414,
          -9.1098,
          -7.2072,
          null,
          1.2192,
          -6.671000000000001,
          2.9634,
          7.2804,
          -7.6828,
          -13.926999999999998,
          12.488,
          9.268,
          12.5612,
          19.5122,
          null,
          9.3048,
          -14.390600000000001,
          1.439,
          -5.5976,
          -7.5001999999999995,
          6.0488,
          5.0854,
          3.7923999999999998,
          -11.8658,
          -16.8782,
          -11.3292,
          -10.8782,
          -3.0976,
          6.2926,
          -5.9146,
          -12.6098,
          0.1828000000000003,
          1.6704,
          8.7926,
          10.6342,
          null,
          null,
          -7.561,
          -15.5608,
          -2.3658,
          8.3782,
          1.7561999999999998
         ]
        }
       ],
       "layout": {
        "template": {
         "data": {
          "bar": [
           {
            "error_x": {
             "color": "#f2f5fa"
            },
            "error_y": {
             "color": "#f2f5fa"
            },
            "marker": {
             "line": {
              "color": "rgb(17,17,17)",
              "width": 0.5
             },
             "pattern": {
              "fillmode": "overlay",
              "size": 10,
              "solidity": 0.2
             }
            },
            "type": "bar"
           }
          ],
          "barpolar": [
           {
            "marker": {
             "line": {
              "color": "rgb(17,17,17)",
              "width": 0.5
             },
             "pattern": {
              "fillmode": "overlay",
              "size": 10,
              "solidity": 0.2
             }
            },
            "type": "barpolar"
           }
          ],
          "carpet": [
           {
            "aaxis": {
             "endlinecolor": "#A2B1C6",
             "gridcolor": "#506784",
             "linecolor": "#506784",
             "minorgridcolor": "#506784",
             "startlinecolor": "#A2B1C6"
            },
            "baxis": {
             "endlinecolor": "#A2B1C6",
             "gridcolor": "#506784",
             "linecolor": "#506784",
             "minorgridcolor": "#506784",
             "startlinecolor": "#A2B1C6"
            },
            "type": "carpet"
           }
          ],
          "choropleth": [
           {
            "colorbar": {
             "outlinewidth": 0,
             "ticks": ""
            },
            "type": "choropleth"
           }
          ],
          "contour": [
           {
            "colorbar": {
             "outlinewidth": 0,
             "ticks": ""
            },
            "colorscale": [
             [
              0,
              "#0d0887"
             ],
             [
              0.1111111111111111,
              "#46039f"
             ],
             [
              0.2222222222222222,
              "#7201a8"
             ],
             [
              0.3333333333333333,
              "#9c179e"
             ],
             [
              0.4444444444444444,
              "#bd3786"
             ],
             [
              0.5555555555555556,
              "#d8576b"
             ],
             [
              0.6666666666666666,
              "#ed7953"
             ],
             [
              0.7777777777777778,
              "#fb9f3a"
             ],
             [
              0.8888888888888888,
              "#fdca26"
             ],
             [
              1,
              "#f0f921"
             ]
            ],
            "type": "contour"
           }
          ],
          "contourcarpet": [
           {
            "colorbar": {
             "outlinewidth": 0,
             "ticks": ""
            },
            "type": "contourcarpet"
           }
          ],
          "heatmap": [
           {
            "colorbar": {
             "outlinewidth": 0,
             "ticks": ""
            },
            "colorscale": [
             [
              0,
              "#0d0887"
             ],
             [
              0.1111111111111111,
              "#46039f"
             ],
             [
              0.2222222222222222,
              "#7201a8"
             ],
             [
              0.3333333333333333,
              "#9c179e"
             ],
             [
              0.4444444444444444,
              "#bd3786"
             ],
             [
              0.5555555555555556,
              "#d8576b"
             ],
             [
              0.6666666666666666,
              "#ed7953"
             ],
             [
              0.7777777777777778,
              "#fb9f3a"
             ],
             [
              0.8888888888888888,
              "#fdca26"
             ],
             [
              1,
              "#f0f921"
             ]
            ],
            "type": "heatmap"
           }
          ],
          "heatmapgl": [
           {
            "colorbar": {
             "outlinewidth": 0,
             "ticks": ""
            },
            "colorscale": [
             [
              0,
              "#0d0887"
             ],
             [
              0.1111111111111111,
              "#46039f"
             ],
             [
              0.2222222222222222,
              "#7201a8"
             ],
             [
              0.3333333333333333,
              "#9c179e"
             ],
             [
              0.4444444444444444,
              "#bd3786"
             ],
             [
              0.5555555555555556,
              "#d8576b"
             ],
             [
              0.6666666666666666,
              "#ed7953"
             ],
             [
              0.7777777777777778,
              "#fb9f3a"
             ],
             [
              0.8888888888888888,
              "#fdca26"
             ],
             [
              1,
              "#f0f921"
             ]
            ],
            "type": "heatmapgl"
           }
          ],
          "histogram": [
           {
            "marker": {
             "pattern": {
              "fillmode": "overlay",
              "size": 10,
              "solidity": 0.2
             }
            },
            "type": "histogram"
           }
          ],
          "histogram2d": [
           {
            "colorbar": {
             "outlinewidth": 0,
             "ticks": ""
            },
            "colorscale": [
             [
              0,
              "#0d0887"
             ],
             [
              0.1111111111111111,
              "#46039f"
             ],
             [
              0.2222222222222222,
              "#7201a8"
             ],
             [
              0.3333333333333333,
              "#9c179e"
             ],
             [
              0.4444444444444444,
              "#bd3786"
             ],
             [
              0.5555555555555556,
              "#d8576b"
             ],
             [
              0.6666666666666666,
              "#ed7953"
             ],
             [
              0.7777777777777778,
              "#fb9f3a"
             ],
             [
              0.8888888888888888,
              "#fdca26"
             ],
             [
              1,
              "#f0f921"
             ]
            ],
            "type": "histogram2d"
           }
          ],
          "histogram2dcontour": [
           {
            "colorbar": {
             "outlinewidth": 0,
             "ticks": ""
            },
            "colorscale": [
             [
              0,
              "#0d0887"
             ],
             [
              0.1111111111111111,
              "#46039f"
             ],
             [
              0.2222222222222222,
              "#7201a8"
             ],
             [
              0.3333333333333333,
              "#9c179e"
             ],
             [
              0.4444444444444444,
              "#bd3786"
             ],
             [
              0.5555555555555556,
              "#d8576b"
             ],
             [
              0.6666666666666666,
              "#ed7953"
             ],
             [
              0.7777777777777778,
              "#fb9f3a"
             ],
             [
              0.8888888888888888,
              "#fdca26"
             ],
             [
              1,
              "#f0f921"
             ]
            ],
            "type": "histogram2dcontour"
           }
          ],
          "mesh3d": [
           {
            "colorbar": {
             "outlinewidth": 0,
             "ticks": ""
            },
            "type": "mesh3d"
           }
          ],
          "parcoords": [
           {
            "line": {
             "colorbar": {
              "outlinewidth": 0,
              "ticks": ""
             }
            },
            "type": "parcoords"
           }
          ],
          "pie": [
           {
            "automargin": true,
            "type": "pie"
           }
          ],
          "scatter": [
           {
            "marker": {
             "line": {
              "color": "#283442"
             }
            },
            "type": "scatter"
           }
          ],
          "scatter3d": [
           {
            "line": {
             "colorbar": {
              "outlinewidth": 0,
              "ticks": ""
             }
            },
            "marker": {
             "colorbar": {
              "outlinewidth": 0,
              "ticks": ""
             }
            },
            "type": "scatter3d"
           }
          ],
          "scattercarpet": [
           {
            "marker": {
             "colorbar": {
              "outlinewidth": 0,
              "ticks": ""
             }
            },
            "type": "scattercarpet"
           }
          ],
          "scattergeo": [
           {
            "marker": {
             "colorbar": {
              "outlinewidth": 0,
              "ticks": ""
             }
            },
            "type": "scattergeo"
           }
          ],
          "scattergl": [
           {
            "marker": {
             "line": {
              "color": "#283442"
             }
            },
            "type": "scattergl"
           }
          ],
          "scattermapbox": [
           {
            "marker": {
             "colorbar": {
              "outlinewidth": 0,
              "ticks": ""
             }
            },
            "type": "scattermapbox"
           }
          ],
          "scatterpolar": [
           {
            "marker": {
             "colorbar": {
              "outlinewidth": 0,
              "ticks": ""
             }
            },
            "type": "scatterpolar"
           }
          ],
          "scatterpolargl": [
           {
            "marker": {
             "colorbar": {
              "outlinewidth": 0,
              "ticks": ""
             }
            },
            "type": "scatterpolargl"
           }
          ],
          "scatterternary": [
           {
            "marker": {
             "colorbar": {
              "outlinewidth": 0,
              "ticks": ""
             }
            },
            "type": "scatterternary"
           }
          ],
          "surface": [
           {
            "colorbar": {
             "outlinewidth": 0,
             "ticks": ""
            },
            "colorscale": [
             [
              0,
              "#0d0887"
             ],
             [
              0.1111111111111111,
              "#46039f"
             ],
             [
              0.2222222222222222,
              "#7201a8"
             ],
             [
              0.3333333333333333,
              "#9c179e"
             ],
             [
              0.4444444444444444,
              "#bd3786"
             ],
             [
              0.5555555555555556,
              "#d8576b"
             ],
             [
              0.6666666666666666,
              "#ed7953"
             ],
             [
              0.7777777777777778,
              "#fb9f3a"
             ],
             [
              0.8888888888888888,
              "#fdca26"
             ],
             [
              1,
              "#f0f921"
             ]
            ],
            "type": "surface"
           }
          ],
          "table": [
           {
            "cells": {
             "fill": {
              "color": "#506784"
             },
             "line": {
              "color": "rgb(17,17,17)"
             }
            },
            "header": {
             "fill": {
              "color": "#2a3f5f"
             },
             "line": {
              "color": "rgb(17,17,17)"
             }
            },
            "type": "table"
           }
          ]
         },
         "layout": {
          "annotationdefaults": {
           "arrowcolor": "#f2f5fa",
           "arrowhead": 0,
           "arrowwidth": 1
          },
          "autotypenumbers": "strict",
          "coloraxis": {
           "colorbar": {
            "outlinewidth": 0,
            "ticks": ""
           }
          },
          "colorscale": {
           "diverging": [
            [
             0,
             "#8e0152"
            ],
            [
             0.1,
             "#c51b7d"
            ],
            [
             0.2,
             "#de77ae"
            ],
            [
             0.3,
             "#f1b6da"
            ],
            [
             0.4,
             "#fde0ef"
            ],
            [
             0.5,
             "#f7f7f7"
            ],
            [
             0.6,
             "#e6f5d0"
            ],
            [
             0.7,
             "#b8e186"
            ],
            [
             0.8,
             "#7fbc41"
            ],
            [
             0.9,
             "#4d9221"
            ],
            [
             1,
             "#276419"
            ]
           ],
           "sequential": [
            [
             0,
             "#0d0887"
            ],
            [
             0.1111111111111111,
             "#46039f"
            ],
            [
             0.2222222222222222,
             "#7201a8"
            ],
            [
             0.3333333333333333,
             "#9c179e"
            ],
            [
             0.4444444444444444,
             "#bd3786"
            ],
            [
             0.5555555555555556,
             "#d8576b"
            ],
            [
             0.6666666666666666,
             "#ed7953"
            ],
            [
             0.7777777777777778,
             "#fb9f3a"
            ],
            [
             0.8888888888888888,
             "#fdca26"
            ],
            [
             1,
             "#f0f921"
            ]
           ],
           "sequentialminus": [
            [
             0,
             "#0d0887"
            ],
            [
             0.1111111111111111,
             "#46039f"
            ],
            [
             0.2222222222222222,
             "#7201a8"
            ],
            [
             0.3333333333333333,
             "#9c179e"
            ],
            [
             0.4444444444444444,
             "#bd3786"
            ],
            [
             0.5555555555555556,
             "#d8576b"
            ],
            [
             0.6666666666666666,
             "#ed7953"
            ],
            [
             0.7777777777777778,
             "#fb9f3a"
            ],
            [
             0.8888888888888888,
             "#fdca26"
            ],
            [
             1,
             "#f0f921"
            ]
           ]
          },
          "colorway": [
           "#636efa",
           "#EF553B",
           "#00cc96",
           "#ab63fa",
           "#FFA15A",
           "#19d3f3",
           "#FF6692",
           "#B6E880",
           "#FF97FF",
           "#FECB52"
          ],
          "font": {
           "color": "#f2f5fa"
          },
          "geo": {
           "bgcolor": "rgb(17,17,17)",
           "lakecolor": "rgb(17,17,17)",
           "landcolor": "rgb(17,17,17)",
           "showlakes": true,
           "showland": true,
           "subunitcolor": "#506784"
          },
          "hoverlabel": {
           "align": "left"
          },
          "hovermode": "closest",
          "mapbox": {
           "style": "dark"
          },
          "paper_bgcolor": "rgb(17,17,17)",
          "plot_bgcolor": "rgb(17,17,17)",
          "polar": {
           "angularaxis": {
            "gridcolor": "#506784",
            "linecolor": "#506784",
            "ticks": ""
           },
           "bgcolor": "rgb(17,17,17)",
           "radialaxis": {
            "gridcolor": "#506784",
            "linecolor": "#506784",
            "ticks": ""
           }
          },
          "scene": {
           "xaxis": {
            "backgroundcolor": "rgb(17,17,17)",
            "gridcolor": "#506784",
            "gridwidth": 2,
            "linecolor": "#506784",
            "showbackground": true,
            "ticks": "",
            "zerolinecolor": "#C8D4E3"
           },
           "yaxis": {
            "backgroundcolor": "rgb(17,17,17)",
            "gridcolor": "#506784",
            "gridwidth": 2,
            "linecolor": "#506784",
            "showbackground": true,
            "ticks": "",
            "zerolinecolor": "#C8D4E3"
           },
           "zaxis": {
            "backgroundcolor": "rgb(17,17,17)",
            "gridcolor": "#506784",
            "gridwidth": 2,
            "linecolor": "#506784",
            "showbackground": true,
            "ticks": "",
            "zerolinecolor": "#C8D4E3"
           }
          },
          "shapedefaults": {
           "line": {
            "color": "#f2f5fa"
           }
          },
          "sliderdefaults": {
           "bgcolor": "#C8D4E3",
           "bordercolor": "rgb(17,17,17)",
           "borderwidth": 1,
           "tickwidth": 0
          },
          "ternary": {
           "aaxis": {
            "gridcolor": "#506784",
            "linecolor": "#506784",
            "ticks": ""
           },
           "baxis": {
            "gridcolor": "#506784",
            "linecolor": "#506784",
            "ticks": ""
           },
           "bgcolor": "rgb(17,17,17)",
           "caxis": {
            "gridcolor": "#506784",
            "linecolor": "#506784",
            "ticks": ""
           }
          },
          "title": {
           "x": 0.05
          },
          "updatemenudefaults": {
           "bgcolor": "#506784",
           "borderwidth": 0
          },
          "xaxis": {
           "automargin": true,
           "gridcolor": "#283442",
           "linecolor": "#506784",
           "ticks": "",
           "title": {
            "standoff": 15
           },
           "zerolinecolor": "#283442",
           "zerolinewidth": 2
          },
          "yaxis": {
           "automargin": true,
           "gridcolor": "#283442",
           "linecolor": "#506784",
           "ticks": "",
           "title": {
            "standoff": 15
           },
           "zerolinecolor": "#283442",
           "zerolinewidth": 2
          }
         }
        },
        "title": {
         "text": "Mean XG Plot for Set 1"
        },
        "xaxis": {
         "title": {
          "text": "Index"
         }
        },
        "yaxis": {
         "title": {
          "text": "Mean XG"
         }
        }
       }
      }
     },
     "metadata": {},
     "output_type": "display_data"
    }
   ],
   "source": [
    "# Filter dataframe for set 1\n",
    "set_1_df = df[df['set'] == 1]\n",
    "\n",
    "# Create a scatter plot using Plotly\n",
    "fig = go.Figure(go.Scatter(x=set_1_df.index, y=set_1_df['mean_xg'], mode='lines'))\n",
    "\n",
    "# Update layout for better readability\n",
    "fig.update_layout(\n",
    "    title='Mean XG Plot for Set 1',\n",
    "    xaxis_title='Index',\n",
    "    yaxis_title='Mean XG',\n",
    "    template='plotly_dark' \n",
    ")\n",
    "\n",
    "# Show the plot\n",
    "fig.show()\n"
   ]
  },
  {
   "cell_type": "markdown",
   "metadata": {},
   "source": [
    "- Ok, as we can see there are gaps between graph that tell us there are something wrong aka (missing values)\n",
    "\n",
    "- There are serveral ways to deal with this gaps in the data for eaxmple we can drop it but it's not effective in this case\n",
    "\n",
    "- Imputing missing values is one of the best ways to deal with this gap like statistical imputation (mean - median - mode) but also this can interplate the data by trying to connect the points to fill the gaps "
   ]
  },
  {
   "cell_type": "markdown",
   "metadata": {},
   "source": [
    "------"
   ]
  },
  {
   "cell_type": "markdown",
   "metadata": {},
   "source": [
    "## Interpolation Missing Values:\n",
    "\n",
    "- Method is used to fill NaN values in the DataFrame or Series using various interpolation techniques to fill the missing values rather than hard-coding the value. "
   ]
  },
  {
   "cell_type": "code",
   "execution_count": 13,
   "metadata": {},
   "outputs": [],
   "source": [
    "for col in predicator_columns:\n",
    "    df[col] = df[col].interpolate()"
   ]
  },
  {
   "cell_type": "code",
   "execution_count": 14,
   "metadata": {},
   "outputs": [
    {
     "name": "stdout",
     "output_type": "stream",
     "text": [
      "<class 'pandas.core.frame.DataFrame'>\n",
      "DatetimeIndex: 9009 entries, 2024-02-11 17:08:05.200000 to 2024-02-20 19:33:27.800000\n",
      "Data columns (total 10 columns):\n",
      " #   Column     Non-Null Count  Dtype  \n",
      "---  ------     --------------  -----  \n",
      " 0   mean_xc    9009 non-null   float64\n",
      " 1   mean_yc    9009 non-null   float64\n",
      " 2   mean_zc    9009 non-null   float64\n",
      " 3   mean_xg    9009 non-null   float64\n",
      " 4   mean_yg    9009 non-null   float64\n",
      " 5   mean_zg    9009 non-null   float64\n",
      " 6   posture    9009 non-null   object \n",
      " 7   types      9009 non-null   object \n",
      " 8   specimen   9009 non-null   object \n",
      " 9   set        9009 non-null   float64\n",
      "dtypes: float64(7), object(3)\n",
      "memory usage: 774.2+ KB\n"
     ]
    }
   ],
   "source": [
    "df.info()"
   ]
  },
  {
   "cell_type": "code",
   "execution_count": 16,
   "metadata": {},
   "outputs": [
    {
     "data": {
      "application/vnd.plotly.v1+json": {
       "config": {
        "plotlyServerURL": "https://plot.ly"
       },
       "data": [
        {
         "mode": "lines",
         "type": "scatter",
         "x": [
          "2024-02-15T21:09:07.200000",
          "2024-02-15T21:09:07.400000",
          "2024-02-15T21:09:07.600000",
          "2024-02-15T21:09:07.800000",
          "2024-02-15T21:09:08",
          "2024-02-15T21:09:08.200000",
          "2024-02-15T21:09:08.400000",
          "2024-02-15T21:09:08.600000",
          "2024-02-15T21:09:08.800000",
          "2024-02-15T21:09:09",
          "2024-02-15T21:09:09.200000",
          "2024-02-15T21:09:09.400000",
          "2024-02-15T21:09:09.600000",
          "2024-02-15T21:09:09.800000",
          "2024-02-15T21:09:10",
          "2024-02-15T21:09:10.200000",
          "2024-02-15T21:09:10.400000",
          "2024-02-15T21:09:10.600000",
          "2024-02-15T21:09:10.800000",
          "2024-02-15T21:09:11",
          "2024-02-15T21:09:11.200000",
          "2024-02-15T21:09:11.400000",
          "2024-02-15T21:09:11.600000",
          "2024-02-15T21:09:11.800000",
          "2024-02-15T21:09:12",
          "2024-02-15T21:09:12.200000",
          "2024-02-15T21:09:12.400000",
          "2024-02-15T21:09:12.600000",
          "2024-02-15T21:09:12.800000",
          "2024-02-15T21:09:13",
          "2024-02-15T21:09:13.200000",
          "2024-02-15T21:09:13.400000",
          "2024-02-15T21:09:13.600000",
          "2024-02-15T21:09:13.800000",
          "2024-02-15T21:09:14",
          "2024-02-15T21:09:14.200000",
          "2024-02-15T21:09:14.400000",
          "2024-02-15T21:09:14.600000",
          "2024-02-15T21:09:14.800000",
          "2024-02-15T21:09:15",
          "2024-02-15T21:09:15.200000",
          "2024-02-15T21:09:15.400000",
          "2024-02-15T21:09:15.600000",
          "2024-02-15T21:09:15.800000",
          "2024-02-15T21:09:16",
          "2024-02-15T21:09:16.200000",
          "2024-02-15T21:09:16.400000",
          "2024-02-15T21:09:16.600000",
          "2024-02-15T21:09:16.800000",
          "2024-02-15T21:09:17",
          "2024-02-15T21:09:17.200000",
          "2024-02-15T21:09:17.400000",
          "2024-02-15T21:09:17.600000",
          "2024-02-15T21:09:17.800000",
          "2024-02-15T21:09:18",
          "2024-02-15T21:09:18.200000",
          "2024-02-15T21:09:18.400000",
          "2024-02-15T21:09:18.600000",
          "2024-02-15T21:09:18.800000",
          "2024-02-15T21:09:19",
          "2024-02-15T21:09:19.200000",
          "2024-02-15T21:09:19.400000",
          "2024-02-15T21:09:19.600000",
          "2024-02-15T21:09:19.800000",
          "2024-02-15T21:09:20",
          "2024-02-15T21:09:20.200000",
          "2024-02-15T21:09:20.400000",
          "2024-02-15T21:09:20.600000",
          "2024-02-15T21:09:20.800000",
          "2024-02-15T21:09:21",
          "2024-02-15T21:09:21.200000",
          "2024-02-15T21:09:21.400000",
          "2024-02-15T21:09:21.600000",
          "2024-02-15T21:09:21.800000",
          "2024-02-15T21:09:22",
          "2024-02-15T21:09:22.200000",
          "2024-02-15T21:09:22.400000",
          "2024-02-15T21:09:22.600000",
          "2024-02-15T21:09:22.800000",
          "2024-02-15T21:09:23",
          "2024-02-15T21:09:23.200000",
          "2024-02-15T21:09:23.400000",
          "2024-02-15T21:09:23.600000",
          "2024-02-15T21:09:23.800000",
          "2024-02-15T21:09:24",
          "2024-02-15T21:09:24.200000",
          "2024-02-15T21:09:24.400000",
          "2024-02-15T21:09:24.600000",
          "2024-02-15T21:09:24.800000",
          "2024-02-15T21:09:25",
          "2024-02-15T21:09:25.200000",
          "2024-02-15T21:09:25.400000",
          "2024-02-15T21:09:25.600000",
          "2024-02-15T21:09:25.800000",
          "2024-02-15T21:09:26",
          "2024-02-15T21:09:26.200000",
          "2024-02-15T21:09:26.400000",
          "2024-02-15T21:09:26.600000",
          "2024-02-15T21:09:26.800000",
          "2024-02-15T21:09:27",
          "2024-02-15T21:09:27.200000",
          "2024-02-15T21:09:27.400000",
          "2024-02-15T21:09:27.600000"
         ],
         "y": [
          5.939,
          -1.5976,
          -6.1706,
          -3.8414,
          -10.3538,
          1.1462000000000003,
          -6.5488,
          -3.4024,
          1.1706,
          3.5732,
          -10.8294,
          0.5242000000000001,
          17.0854,
          16.122,
          6.2682,
          7.9146,
          11.6586,
          -8.7194,
          0.5,
          6.7562,
          2.817,
          -4.5976,
          -13.61,
          -12.7624,
          -11.9148,
          -4.2928,
          -14.6464,
          9.4024,
          7.1464,
          -12.3536,
          -12.4512,
          10.2318,
          21.9144,
          13.678666666666667,
          5.4429333333333325,
          -2.7927999999999997,
          -0.8046000000000001,
          -1.9512,
          3.1586000000000003,
          5.4270000000000005,
          -7.1461999999999986,
          -17.3904,
          -14.731799999999998,
          -14.122,
          0.9146000000000001,
          -3.6464,
          3.7803999999999993,
          0.7194000000000003,
          -6.3416,
          -6.1708,
          20.2436,
          6.8294,
          16.9632,
          13.268199999999998,
          11.5852,
          -5.7194,
          2.7927999999999997,
          -1.2561999999999998,
          -8.8048,
          2.1586000000000003,
          7.8172,
          3.3414,
          -9.1098,
          -7.2072,
          -2.9939999999999998,
          1.2192,
          -6.671000000000001,
          2.9634,
          7.2804,
          -7.6828,
          -13.926999999999998,
          12.488,
          9.268,
          12.5612,
          19.5122,
          14.4085,
          9.3048,
          -14.390600000000001,
          1.439,
          -5.5976,
          -7.5001999999999995,
          6.0488,
          5.0854,
          3.7923999999999998,
          -11.8658,
          -16.8782,
          -11.3292,
          -10.8782,
          -3.0976,
          6.2926,
          -5.9146,
          -12.6098,
          0.1828000000000003,
          1.6704,
          8.7926,
          10.6342,
          4.569133333333333,
          -1.4959333333333333,
          -7.561,
          -15.5608,
          -2.3658,
          8.3782,
          1.7561999999999998
         ]
        }
       ],
       "layout": {
        "template": {
         "data": {
          "bar": [
           {
            "error_x": {
             "color": "#f2f5fa"
            },
            "error_y": {
             "color": "#f2f5fa"
            },
            "marker": {
             "line": {
              "color": "rgb(17,17,17)",
              "width": 0.5
             },
             "pattern": {
              "fillmode": "overlay",
              "size": 10,
              "solidity": 0.2
             }
            },
            "type": "bar"
           }
          ],
          "barpolar": [
           {
            "marker": {
             "line": {
              "color": "rgb(17,17,17)",
              "width": 0.5
             },
             "pattern": {
              "fillmode": "overlay",
              "size": 10,
              "solidity": 0.2
             }
            },
            "type": "barpolar"
           }
          ],
          "carpet": [
           {
            "aaxis": {
             "endlinecolor": "#A2B1C6",
             "gridcolor": "#506784",
             "linecolor": "#506784",
             "minorgridcolor": "#506784",
             "startlinecolor": "#A2B1C6"
            },
            "baxis": {
             "endlinecolor": "#A2B1C6",
             "gridcolor": "#506784",
             "linecolor": "#506784",
             "minorgridcolor": "#506784",
             "startlinecolor": "#A2B1C6"
            },
            "type": "carpet"
           }
          ],
          "choropleth": [
           {
            "colorbar": {
             "outlinewidth": 0,
             "ticks": ""
            },
            "type": "choropleth"
           }
          ],
          "contour": [
           {
            "colorbar": {
             "outlinewidth": 0,
             "ticks": ""
            },
            "colorscale": [
             [
              0,
              "#0d0887"
             ],
             [
              0.1111111111111111,
              "#46039f"
             ],
             [
              0.2222222222222222,
              "#7201a8"
             ],
             [
              0.3333333333333333,
              "#9c179e"
             ],
             [
              0.4444444444444444,
              "#bd3786"
             ],
             [
              0.5555555555555556,
              "#d8576b"
             ],
             [
              0.6666666666666666,
              "#ed7953"
             ],
             [
              0.7777777777777778,
              "#fb9f3a"
             ],
             [
              0.8888888888888888,
              "#fdca26"
             ],
             [
              1,
              "#f0f921"
             ]
            ],
            "type": "contour"
           }
          ],
          "contourcarpet": [
           {
            "colorbar": {
             "outlinewidth": 0,
             "ticks": ""
            },
            "type": "contourcarpet"
           }
          ],
          "heatmap": [
           {
            "colorbar": {
             "outlinewidth": 0,
             "ticks": ""
            },
            "colorscale": [
             [
              0,
              "#0d0887"
             ],
             [
              0.1111111111111111,
              "#46039f"
             ],
             [
              0.2222222222222222,
              "#7201a8"
             ],
             [
              0.3333333333333333,
              "#9c179e"
             ],
             [
              0.4444444444444444,
              "#bd3786"
             ],
             [
              0.5555555555555556,
              "#d8576b"
             ],
             [
              0.6666666666666666,
              "#ed7953"
             ],
             [
              0.7777777777777778,
              "#fb9f3a"
             ],
             [
              0.8888888888888888,
              "#fdca26"
             ],
             [
              1,
              "#f0f921"
             ]
            ],
            "type": "heatmap"
           }
          ],
          "heatmapgl": [
           {
            "colorbar": {
             "outlinewidth": 0,
             "ticks": ""
            },
            "colorscale": [
             [
              0,
              "#0d0887"
             ],
             [
              0.1111111111111111,
              "#46039f"
             ],
             [
              0.2222222222222222,
              "#7201a8"
             ],
             [
              0.3333333333333333,
              "#9c179e"
             ],
             [
              0.4444444444444444,
              "#bd3786"
             ],
             [
              0.5555555555555556,
              "#d8576b"
             ],
             [
              0.6666666666666666,
              "#ed7953"
             ],
             [
              0.7777777777777778,
              "#fb9f3a"
             ],
             [
              0.8888888888888888,
              "#fdca26"
             ],
             [
              1,
              "#f0f921"
             ]
            ],
            "type": "heatmapgl"
           }
          ],
          "histogram": [
           {
            "marker": {
             "pattern": {
              "fillmode": "overlay",
              "size": 10,
              "solidity": 0.2
             }
            },
            "type": "histogram"
           }
          ],
          "histogram2d": [
           {
            "colorbar": {
             "outlinewidth": 0,
             "ticks": ""
            },
            "colorscale": [
             [
              0,
              "#0d0887"
             ],
             [
              0.1111111111111111,
              "#46039f"
             ],
             [
              0.2222222222222222,
              "#7201a8"
             ],
             [
              0.3333333333333333,
              "#9c179e"
             ],
             [
              0.4444444444444444,
              "#bd3786"
             ],
             [
              0.5555555555555556,
              "#d8576b"
             ],
             [
              0.6666666666666666,
              "#ed7953"
             ],
             [
              0.7777777777777778,
              "#fb9f3a"
             ],
             [
              0.8888888888888888,
              "#fdca26"
             ],
             [
              1,
              "#f0f921"
             ]
            ],
            "type": "histogram2d"
           }
          ],
          "histogram2dcontour": [
           {
            "colorbar": {
             "outlinewidth": 0,
             "ticks": ""
            },
            "colorscale": [
             [
              0,
              "#0d0887"
             ],
             [
              0.1111111111111111,
              "#46039f"
             ],
             [
              0.2222222222222222,
              "#7201a8"
             ],
             [
              0.3333333333333333,
              "#9c179e"
             ],
             [
              0.4444444444444444,
              "#bd3786"
             ],
             [
              0.5555555555555556,
              "#d8576b"
             ],
             [
              0.6666666666666666,
              "#ed7953"
             ],
             [
              0.7777777777777778,
              "#fb9f3a"
             ],
             [
              0.8888888888888888,
              "#fdca26"
             ],
             [
              1,
              "#f0f921"
             ]
            ],
            "type": "histogram2dcontour"
           }
          ],
          "mesh3d": [
           {
            "colorbar": {
             "outlinewidth": 0,
             "ticks": ""
            },
            "type": "mesh3d"
           }
          ],
          "parcoords": [
           {
            "line": {
             "colorbar": {
              "outlinewidth": 0,
              "ticks": ""
             }
            },
            "type": "parcoords"
           }
          ],
          "pie": [
           {
            "automargin": true,
            "type": "pie"
           }
          ],
          "scatter": [
           {
            "marker": {
             "line": {
              "color": "#283442"
             }
            },
            "type": "scatter"
           }
          ],
          "scatter3d": [
           {
            "line": {
             "colorbar": {
              "outlinewidth": 0,
              "ticks": ""
             }
            },
            "marker": {
             "colorbar": {
              "outlinewidth": 0,
              "ticks": ""
             }
            },
            "type": "scatter3d"
           }
          ],
          "scattercarpet": [
           {
            "marker": {
             "colorbar": {
              "outlinewidth": 0,
              "ticks": ""
             }
            },
            "type": "scattercarpet"
           }
          ],
          "scattergeo": [
           {
            "marker": {
             "colorbar": {
              "outlinewidth": 0,
              "ticks": ""
             }
            },
            "type": "scattergeo"
           }
          ],
          "scattergl": [
           {
            "marker": {
             "line": {
              "color": "#283442"
             }
            },
            "type": "scattergl"
           }
          ],
          "scattermapbox": [
           {
            "marker": {
             "colorbar": {
              "outlinewidth": 0,
              "ticks": ""
             }
            },
            "type": "scattermapbox"
           }
          ],
          "scatterpolar": [
           {
            "marker": {
             "colorbar": {
              "outlinewidth": 0,
              "ticks": ""
             }
            },
            "type": "scatterpolar"
           }
          ],
          "scatterpolargl": [
           {
            "marker": {
             "colorbar": {
              "outlinewidth": 0,
              "ticks": ""
             }
            },
            "type": "scatterpolargl"
           }
          ],
          "scatterternary": [
           {
            "marker": {
             "colorbar": {
              "outlinewidth": 0,
              "ticks": ""
             }
            },
            "type": "scatterternary"
           }
          ],
          "surface": [
           {
            "colorbar": {
             "outlinewidth": 0,
             "ticks": ""
            },
            "colorscale": [
             [
              0,
              "#0d0887"
             ],
             [
              0.1111111111111111,
              "#46039f"
             ],
             [
              0.2222222222222222,
              "#7201a8"
             ],
             [
              0.3333333333333333,
              "#9c179e"
             ],
             [
              0.4444444444444444,
              "#bd3786"
             ],
             [
              0.5555555555555556,
              "#d8576b"
             ],
             [
              0.6666666666666666,
              "#ed7953"
             ],
             [
              0.7777777777777778,
              "#fb9f3a"
             ],
             [
              0.8888888888888888,
              "#fdca26"
             ],
             [
              1,
              "#f0f921"
             ]
            ],
            "type": "surface"
           }
          ],
          "table": [
           {
            "cells": {
             "fill": {
              "color": "#506784"
             },
             "line": {
              "color": "rgb(17,17,17)"
             }
            },
            "header": {
             "fill": {
              "color": "#2a3f5f"
             },
             "line": {
              "color": "rgb(17,17,17)"
             }
            },
            "type": "table"
           }
          ]
         },
         "layout": {
          "annotationdefaults": {
           "arrowcolor": "#f2f5fa",
           "arrowhead": 0,
           "arrowwidth": 1
          },
          "autotypenumbers": "strict",
          "coloraxis": {
           "colorbar": {
            "outlinewidth": 0,
            "ticks": ""
           }
          },
          "colorscale": {
           "diverging": [
            [
             0,
             "#8e0152"
            ],
            [
             0.1,
             "#c51b7d"
            ],
            [
             0.2,
             "#de77ae"
            ],
            [
             0.3,
             "#f1b6da"
            ],
            [
             0.4,
             "#fde0ef"
            ],
            [
             0.5,
             "#f7f7f7"
            ],
            [
             0.6,
             "#e6f5d0"
            ],
            [
             0.7,
             "#b8e186"
            ],
            [
             0.8,
             "#7fbc41"
            ],
            [
             0.9,
             "#4d9221"
            ],
            [
             1,
             "#276419"
            ]
           ],
           "sequential": [
            [
             0,
             "#0d0887"
            ],
            [
             0.1111111111111111,
             "#46039f"
            ],
            [
             0.2222222222222222,
             "#7201a8"
            ],
            [
             0.3333333333333333,
             "#9c179e"
            ],
            [
             0.4444444444444444,
             "#bd3786"
            ],
            [
             0.5555555555555556,
             "#d8576b"
            ],
            [
             0.6666666666666666,
             "#ed7953"
            ],
            [
             0.7777777777777778,
             "#fb9f3a"
            ],
            [
             0.8888888888888888,
             "#fdca26"
            ],
            [
             1,
             "#f0f921"
            ]
           ],
           "sequentialminus": [
            [
             0,
             "#0d0887"
            ],
            [
             0.1111111111111111,
             "#46039f"
            ],
            [
             0.2222222222222222,
             "#7201a8"
            ],
            [
             0.3333333333333333,
             "#9c179e"
            ],
            [
             0.4444444444444444,
             "#bd3786"
            ],
            [
             0.5555555555555556,
             "#d8576b"
            ],
            [
             0.6666666666666666,
             "#ed7953"
            ],
            [
             0.7777777777777778,
             "#fb9f3a"
            ],
            [
             0.8888888888888888,
             "#fdca26"
            ],
            [
             1,
             "#f0f921"
            ]
           ]
          },
          "colorway": [
           "#636efa",
           "#EF553B",
           "#00cc96",
           "#ab63fa",
           "#FFA15A",
           "#19d3f3",
           "#FF6692",
           "#B6E880",
           "#FF97FF",
           "#FECB52"
          ],
          "font": {
           "color": "#f2f5fa"
          },
          "geo": {
           "bgcolor": "rgb(17,17,17)",
           "lakecolor": "rgb(17,17,17)",
           "landcolor": "rgb(17,17,17)",
           "showlakes": true,
           "showland": true,
           "subunitcolor": "#506784"
          },
          "hoverlabel": {
           "align": "left"
          },
          "hovermode": "closest",
          "mapbox": {
           "style": "dark"
          },
          "paper_bgcolor": "rgb(17,17,17)",
          "plot_bgcolor": "rgb(17,17,17)",
          "polar": {
           "angularaxis": {
            "gridcolor": "#506784",
            "linecolor": "#506784",
            "ticks": ""
           },
           "bgcolor": "rgb(17,17,17)",
           "radialaxis": {
            "gridcolor": "#506784",
            "linecolor": "#506784",
            "ticks": ""
           }
          },
          "scene": {
           "xaxis": {
            "backgroundcolor": "rgb(17,17,17)",
            "gridcolor": "#506784",
            "gridwidth": 2,
            "linecolor": "#506784",
            "showbackground": true,
            "ticks": "",
            "zerolinecolor": "#C8D4E3"
           },
           "yaxis": {
            "backgroundcolor": "rgb(17,17,17)",
            "gridcolor": "#506784",
            "gridwidth": 2,
            "linecolor": "#506784",
            "showbackground": true,
            "ticks": "",
            "zerolinecolor": "#C8D4E3"
           },
           "zaxis": {
            "backgroundcolor": "rgb(17,17,17)",
            "gridcolor": "#506784",
            "gridwidth": 2,
            "linecolor": "#506784",
            "showbackground": true,
            "ticks": "",
            "zerolinecolor": "#C8D4E3"
           }
          },
          "shapedefaults": {
           "line": {
            "color": "#f2f5fa"
           }
          },
          "sliderdefaults": {
           "bgcolor": "#C8D4E3",
           "bordercolor": "rgb(17,17,17)",
           "borderwidth": 1,
           "tickwidth": 0
          },
          "ternary": {
           "aaxis": {
            "gridcolor": "#506784",
            "linecolor": "#506784",
            "ticks": ""
           },
           "baxis": {
            "gridcolor": "#506784",
            "linecolor": "#506784",
            "ticks": ""
           },
           "bgcolor": "rgb(17,17,17)",
           "caxis": {
            "gridcolor": "#506784",
            "linecolor": "#506784",
            "ticks": ""
           }
          },
          "title": {
           "x": 0.05
          },
          "updatemenudefaults": {
           "bgcolor": "#506784",
           "borderwidth": 0
          },
          "xaxis": {
           "automargin": true,
           "gridcolor": "#283442",
           "linecolor": "#506784",
           "ticks": "",
           "title": {
            "standoff": 15
           },
           "zerolinecolor": "#283442",
           "zerolinewidth": 2
          },
          "yaxis": {
           "automargin": true,
           "gridcolor": "#283442",
           "linecolor": "#506784",
           "ticks": "",
           "title": {
            "standoff": 15
           },
           "zerolinecolor": "#283442",
           "zerolinewidth": 2
          }
         }
        },
        "title": {
         "text": "Mean XG Plot for Set 1"
        },
        "xaxis": {
         "title": {
          "text": "Index"
         }
        },
        "yaxis": {
         "title": {
          "text": "Mean XG"
         }
        }
       }
      }
     },
     "metadata": {},
     "output_type": "display_data"
    }
   ],
   "source": [
    "# Filter dataframe for set 1\n",
    "set_1_df = df[df['set'] == 1]\n",
    "\n",
    "# Create a scatter plot using Plotly\n",
    "fig = go.Figure(go.Scatter(x=set_1_df.index, y=set_1_df['mean_xg'], mode='lines'))\n",
    "\n",
    "# Update layout for better readability\n",
    "fig.update_layout(\n",
    "    title='Mean XG Plot for Set 1',\n",
    "    xaxis_title='Index',\n",
    "    yaxis_title='Mean XG',\n",
    "    template='plotly_dark' \n",
    ")\n",
    "\n",
    "# Show the plot\n",
    "fig.show()\n"
   ]
  },
  {
   "cell_type": "markdown",
   "metadata": {},
   "source": [
    "- Now we can see that there are no gaps anymore "
   ]
  },
  {
   "cell_type": "markdown",
   "metadata": {},
   "source": [
    "-----"
   ]
  },
  {
   "cell_type": "markdown",
   "metadata": {},
   "source": [
    "## Calculating set duration\n"
   ]
  },
  {
   "cell_type": "code",
   "execution_count": 18,
   "metadata": {},
   "outputs": [
    {
     "data": {
      "text/plain": [
       "array([64., 72., 40., 86., 80., 10., 74., 52., 12., 33., 77., 53., 32.,\n",
       "       79., 22., 17., 69., 63., 60., 92., 57.,  7., 16., 26., 67., 75.,\n",
       "       89., 23., 11., 58., 25., 43., 24., 34.,  3., 81., 85., 84., 37.,\n",
       "       55.,  5.,  2., 41., 38., 78., 91., 19., 73., 48., 87., 61.,  1.,\n",
       "       30., 65., 59., 20., 29., 28., 51., 83., 13., 35., 42.,  8., 56.,\n",
       "        4., 45., 82., 93., 14., 88., 21., 50.,  6., 47., 36., 31.,  9.,\n",
       "       39., 90., 70., 62., 66., 46., 27., 18., 49., 54., 44., 15., 71.])"
      ]
     },
     "execution_count": 18,
     "metadata": {},
     "output_type": "execute_result"
    }
   ],
   "source": [
    "unique_sets = df['set'].unique()\n",
    "unique_sets"
   ]
  },
  {
   "cell_type": "code",
   "execution_count": 19,
   "metadata": {},
   "outputs": [
    {
     "data": {
      "text/html": [
       "<div>\n",
       "<style scoped>\n",
       "    .dataframe tbody tr th:only-of-type {\n",
       "        vertical-align: middle;\n",
       "    }\n",
       "\n",
       "    .dataframe tbody tr th {\n",
       "        vertical-align: top;\n",
       "    }\n",
       "\n",
       "    .dataframe thead th {\n",
       "        text-align: right;\n",
       "    }\n",
       "</style>\n",
       "<table border=\"1\" class=\"dataframe\">\n",
       "  <thead>\n",
       "    <tr style=\"text-align: right;\">\n",
       "      <th></th>\n",
       "      <th>mean_xc</th>\n",
       "      <th>mean_yc</th>\n",
       "      <th>mean_zc</th>\n",
       "      <th>mean_xg</th>\n",
       "      <th>mean_yg</th>\n",
       "      <th>mean_zg</th>\n",
       "      <th>posture</th>\n",
       "      <th>types</th>\n",
       "      <th>specimen</th>\n",
       "      <th>set</th>\n",
       "      <th>duration_time</th>\n",
       "    </tr>\n",
       "    <tr>\n",
       "      <th>time</th>\n",
       "      <th></th>\n",
       "      <th></th>\n",
       "      <th></th>\n",
       "      <th></th>\n",
       "      <th></th>\n",
       "      <th></th>\n",
       "      <th></th>\n",
       "      <th></th>\n",
       "      <th></th>\n",
       "      <th></th>\n",
       "      <th></th>\n",
       "    </tr>\n",
       "  </thead>\n",
       "  <tbody>\n",
       "    <tr>\n",
       "      <th>2024-02-11 17:46:06.800</th>\n",
       "      <td>-0.355333</td>\n",
       "      <td>0.875000</td>\n",
       "      <td>-0.313667</td>\n",
       "      <td>-36.3290</td>\n",
       "      <td>-5.6950</td>\n",
       "      <td>32.1584</td>\n",
       "      <td>ohp</td>\n",
       "      <td>heavy</td>\n",
       "      <td>B</td>\n",
       "      <td>33.0</td>\n",
       "      <td>13.0</td>\n",
       "    </tr>\n",
       "    <tr>\n",
       "      <th>2024-02-14 15:32:17.800</th>\n",
       "      <td>-0.107333</td>\n",
       "      <td>0.865667</td>\n",
       "      <td>-0.068000</td>\n",
       "      <td>15.4146</td>\n",
       "      <td>1.4390</td>\n",
       "      <td>-14.7256</td>\n",
       "      <td>bench</td>\n",
       "      <td>heavy</td>\n",
       "      <td>C</td>\n",
       "      <td>23.0</td>\n",
       "      <td>14.0</td>\n",
       "    </tr>\n",
       "    <tr>\n",
       "      <th>2024-02-11 17:48:58.000</th>\n",
       "      <td>-0.222000</td>\n",
       "      <td>0.717667</td>\n",
       "      <td>-0.220000</td>\n",
       "      <td>8.3780</td>\n",
       "      <td>-7.5854</td>\n",
       "      <td>37.3902</td>\n",
       "      <td>ohp</td>\n",
       "      <td>medium</td>\n",
       "      <td>B</td>\n",
       "      <td>77.0</td>\n",
       "      <td>21.0</td>\n",
       "    </tr>\n",
       "    <tr>\n",
       "      <th>2024-02-11 17:49:07.200</th>\n",
       "      <td>-0.312000</td>\n",
       "      <td>0.715000</td>\n",
       "      <td>-0.262667</td>\n",
       "      <td>-11.6586</td>\n",
       "      <td>0.5244</td>\n",
       "      <td>5.5366</td>\n",
       "      <td>ohp</td>\n",
       "      <td>medium</td>\n",
       "      <td>B</td>\n",
       "      <td>77.0</td>\n",
       "      <td>21.0</td>\n",
       "    </tr>\n",
       "    <tr>\n",
       "      <th>2024-02-15 21:32:51.000</th>\n",
       "      <td>0.040500</td>\n",
       "      <td>-0.820000</td>\n",
       "      <td>0.052000</td>\n",
       "      <td>36.1463</td>\n",
       "      <td>-17.4634</td>\n",
       "      <td>-0.7196</td>\n",
       "      <td>dead</td>\n",
       "      <td>medium</td>\n",
       "      <td>C</td>\n",
       "      <td>51.0</td>\n",
       "      <td>30.0</td>\n",
       "    </tr>\n",
       "    <tr>\n",
       "      <th>2024-02-15 15:27:09.800</th>\n",
       "      <td>-0.121667</td>\n",
       "      <td>0.881667</td>\n",
       "      <td>-0.278000</td>\n",
       "      <td>6.5244</td>\n",
       "      <td>-6.0364</td>\n",
       "      <td>3.9754</td>\n",
       "      <td>bench</td>\n",
       "      <td>heavy</td>\n",
       "      <td>E</td>\n",
       "      <td>5.0</td>\n",
       "      <td>12.0</td>\n",
       "    </tr>\n",
       "    <tr>\n",
       "      <th>2024-02-15 16:04:09.800</th>\n",
       "      <td>0.111000</td>\n",
       "      <td>-1.338333</td>\n",
       "      <td>-0.102000</td>\n",
       "      <td>17.5490</td>\n",
       "      <td>-8.0490</td>\n",
       "      <td>-6.0122</td>\n",
       "      <td>row</td>\n",
       "      <td>heavy</td>\n",
       "      <td>E</td>\n",
       "      <td>91.0</td>\n",
       "      <td>8.0</td>\n",
       "    </tr>\n",
       "    <tr>\n",
       "      <th>2024-02-12 17:10:10.400</th>\n",
       "      <td>-0.131000</td>\n",
       "      <td>0.950667</td>\n",
       "      <td>-0.149667</td>\n",
       "      <td>-2.4024</td>\n",
       "      <td>-0.7804</td>\n",
       "      <td>10.5000</td>\n",
       "      <td>bench</td>\n",
       "      <td>heavy</td>\n",
       "      <td>E</td>\n",
       "      <td>7.0</td>\n",
       "      <td>16.0</td>\n",
       "    </tr>\n",
       "  </tbody>\n",
       "</table>\n",
       "</div>"
      ],
      "text/plain": [
       "                          mean_xc   mean_yc   mean_zc  mean_xg  mean_yg  \\\n",
       "time                                                                      \n",
       "2024-02-11 17:46:06.800 -0.355333  0.875000 -0.313667 -36.3290  -5.6950   \n",
       "2024-02-14 15:32:17.800 -0.107333  0.865667 -0.068000  15.4146   1.4390   \n",
       "2024-02-11 17:48:58.000 -0.222000  0.717667 -0.220000   8.3780  -7.5854   \n",
       "2024-02-11 17:49:07.200 -0.312000  0.715000 -0.262667 -11.6586   0.5244   \n",
       "2024-02-15 21:32:51.000  0.040500 -0.820000  0.052000  36.1463 -17.4634   \n",
       "2024-02-15 15:27:09.800 -0.121667  0.881667 -0.278000   6.5244  -6.0364   \n",
       "2024-02-15 16:04:09.800  0.111000 -1.338333 -0.102000  17.5490  -8.0490   \n",
       "2024-02-12 17:10:10.400 -0.131000  0.950667 -0.149667  -2.4024  -0.7804   \n",
       "\n",
       "                         mean_zg posture   types specimen    set  \\\n",
       "time                                                               \n",
       "2024-02-11 17:46:06.800  32.1584     ohp   heavy         B  33.0   \n",
       "2024-02-14 15:32:17.800 -14.7256   bench   heavy         C  23.0   \n",
       "2024-02-11 17:48:58.000  37.3902     ohp  medium         B  77.0   \n",
       "2024-02-11 17:49:07.200   5.5366     ohp  medium         B  77.0   \n",
       "2024-02-15 21:32:51.000  -0.7196    dead  medium         C  51.0   \n",
       "2024-02-15 15:27:09.800   3.9754   bench   heavy         E   5.0   \n",
       "2024-02-15 16:04:09.800  -6.0122     row   heavy         E  91.0   \n",
       "2024-02-12 17:10:10.400  10.5000   bench   heavy         E   7.0   \n",
       "\n",
       "                         duration_time  \n",
       "time                                    \n",
       "2024-02-11 17:46:06.800           13.0  \n",
       "2024-02-14 15:32:17.800           14.0  \n",
       "2024-02-11 17:48:58.000           21.0  \n",
       "2024-02-11 17:49:07.200           21.0  \n",
       "2024-02-15 21:32:51.000           30.0  \n",
       "2024-02-15 15:27:09.800           12.0  \n",
       "2024-02-15 16:04:09.800            8.0  \n",
       "2024-02-12 17:10:10.400           16.0  "
      ]
     },
     "execution_count": 19,
     "metadata": {},
     "output_type": "execute_result"
    }
   ],
   "source": [
    "# for calculating the average duration \n",
    "for second in unique_sets:\n",
    "    start_time = df[df.set == second].index[0]\n",
    "    stop_time = df[df.set == second].index[-1]\n",
    "    duration_time = stop_time - start_time\n",
    "    df.loc[(df.set == second), 'duration_time'] = duration_time.seconds\n",
    "\n",
    "df.sample(8)"
   ]
  },
  {
   "cell_type": "code",
   "execution_count": 20,
   "metadata": {},
   "outputs": [
    {
     "data": {
      "text/plain": [
       "types\n",
       "heavy       14.743501\n",
       "medium      24.942529\n",
       "sitting     33.000000\n",
       "standing    39.000000\n",
       "Name: duration_time, dtype: float64"
      ]
     },
     "execution_count": 20,
     "metadata": {},
     "output_type": "execute_result"
    }
   ],
   "source": [
    "df.groupby('types')['duration_time'].mean()"
   ]
  },
  {
   "cell_type": "code",
   "execution_count": 28,
   "metadata": {},
   "outputs": [
    {
     "data": {
      "application/vnd.plotly.v1+json": {
       "config": {
        "plotlyServerURL": "https://plot.ly"
       },
       "data": [
        {
         "labels": [
          "heavy",
          "medium",
          "sitting",
          "standing"
         ],
         "marker": {
          "colors": [
           "rgb(31, 119, 180)",
           "rgb(255, 127, 14)",
           "rgb(44, 160, 44)",
           "rgb(214, 39, 40)",
           "rgb(148, 103, 189)",
           "rgb(140, 86, 75)",
           "rgb(227, 119, 194)",
           "rgb(127, 127, 127)",
           "rgb(188, 189, 34)",
           "rgb(23, 190, 207)"
          ]
         },
         "textinfo": "percent",
         "type": "pie",
         "values": [
          14.743500866551127,
          24.942528735632184,
          33,
          39
         ]
        }
       ],
       "layout": {
        "legend": {
         "x": 1,
         "y": 0.5
        },
        "template": {
         "data": {
          "bar": [
           {
            "error_x": {
             "color": "#f2f5fa"
            },
            "error_y": {
             "color": "#f2f5fa"
            },
            "marker": {
             "line": {
              "color": "rgb(17,17,17)",
              "width": 0.5
             },
             "pattern": {
              "fillmode": "overlay",
              "size": 10,
              "solidity": 0.2
             }
            },
            "type": "bar"
           }
          ],
          "barpolar": [
           {
            "marker": {
             "line": {
              "color": "rgb(17,17,17)",
              "width": 0.5
             },
             "pattern": {
              "fillmode": "overlay",
              "size": 10,
              "solidity": 0.2
             }
            },
            "type": "barpolar"
           }
          ],
          "carpet": [
           {
            "aaxis": {
             "endlinecolor": "#A2B1C6",
             "gridcolor": "#506784",
             "linecolor": "#506784",
             "minorgridcolor": "#506784",
             "startlinecolor": "#A2B1C6"
            },
            "baxis": {
             "endlinecolor": "#A2B1C6",
             "gridcolor": "#506784",
             "linecolor": "#506784",
             "minorgridcolor": "#506784",
             "startlinecolor": "#A2B1C6"
            },
            "type": "carpet"
           }
          ],
          "choropleth": [
           {
            "colorbar": {
             "outlinewidth": 0,
             "ticks": ""
            },
            "type": "choropleth"
           }
          ],
          "contour": [
           {
            "colorbar": {
             "outlinewidth": 0,
             "ticks": ""
            },
            "colorscale": [
             [
              0,
              "#0d0887"
             ],
             [
              0.1111111111111111,
              "#46039f"
             ],
             [
              0.2222222222222222,
              "#7201a8"
             ],
             [
              0.3333333333333333,
              "#9c179e"
             ],
             [
              0.4444444444444444,
              "#bd3786"
             ],
             [
              0.5555555555555556,
              "#d8576b"
             ],
             [
              0.6666666666666666,
              "#ed7953"
             ],
             [
              0.7777777777777778,
              "#fb9f3a"
             ],
             [
              0.8888888888888888,
              "#fdca26"
             ],
             [
              1,
              "#f0f921"
             ]
            ],
            "type": "contour"
           }
          ],
          "contourcarpet": [
           {
            "colorbar": {
             "outlinewidth": 0,
             "ticks": ""
            },
            "type": "contourcarpet"
           }
          ],
          "heatmap": [
           {
            "colorbar": {
             "outlinewidth": 0,
             "ticks": ""
            },
            "colorscale": [
             [
              0,
              "#0d0887"
             ],
             [
              0.1111111111111111,
              "#46039f"
             ],
             [
              0.2222222222222222,
              "#7201a8"
             ],
             [
              0.3333333333333333,
              "#9c179e"
             ],
             [
              0.4444444444444444,
              "#bd3786"
             ],
             [
              0.5555555555555556,
              "#d8576b"
             ],
             [
              0.6666666666666666,
              "#ed7953"
             ],
             [
              0.7777777777777778,
              "#fb9f3a"
             ],
             [
              0.8888888888888888,
              "#fdca26"
             ],
             [
              1,
              "#f0f921"
             ]
            ],
            "type": "heatmap"
           }
          ],
          "heatmapgl": [
           {
            "colorbar": {
             "outlinewidth": 0,
             "ticks": ""
            },
            "colorscale": [
             [
              0,
              "#0d0887"
             ],
             [
              0.1111111111111111,
              "#46039f"
             ],
             [
              0.2222222222222222,
              "#7201a8"
             ],
             [
              0.3333333333333333,
              "#9c179e"
             ],
             [
              0.4444444444444444,
              "#bd3786"
             ],
             [
              0.5555555555555556,
              "#d8576b"
             ],
             [
              0.6666666666666666,
              "#ed7953"
             ],
             [
              0.7777777777777778,
              "#fb9f3a"
             ],
             [
              0.8888888888888888,
              "#fdca26"
             ],
             [
              1,
              "#f0f921"
             ]
            ],
            "type": "heatmapgl"
           }
          ],
          "histogram": [
           {
            "marker": {
             "pattern": {
              "fillmode": "overlay",
              "size": 10,
              "solidity": 0.2
             }
            },
            "type": "histogram"
           }
          ],
          "histogram2d": [
           {
            "colorbar": {
             "outlinewidth": 0,
             "ticks": ""
            },
            "colorscale": [
             [
              0,
              "#0d0887"
             ],
             [
              0.1111111111111111,
              "#46039f"
             ],
             [
              0.2222222222222222,
              "#7201a8"
             ],
             [
              0.3333333333333333,
              "#9c179e"
             ],
             [
              0.4444444444444444,
              "#bd3786"
             ],
             [
              0.5555555555555556,
              "#d8576b"
             ],
             [
              0.6666666666666666,
              "#ed7953"
             ],
             [
              0.7777777777777778,
              "#fb9f3a"
             ],
             [
              0.8888888888888888,
              "#fdca26"
             ],
             [
              1,
              "#f0f921"
             ]
            ],
            "type": "histogram2d"
           }
          ],
          "histogram2dcontour": [
           {
            "colorbar": {
             "outlinewidth": 0,
             "ticks": ""
            },
            "colorscale": [
             [
              0,
              "#0d0887"
             ],
             [
              0.1111111111111111,
              "#46039f"
             ],
             [
              0.2222222222222222,
              "#7201a8"
             ],
             [
              0.3333333333333333,
              "#9c179e"
             ],
             [
              0.4444444444444444,
              "#bd3786"
             ],
             [
              0.5555555555555556,
              "#d8576b"
             ],
             [
              0.6666666666666666,
              "#ed7953"
             ],
             [
              0.7777777777777778,
              "#fb9f3a"
             ],
             [
              0.8888888888888888,
              "#fdca26"
             ],
             [
              1,
              "#f0f921"
             ]
            ],
            "type": "histogram2dcontour"
           }
          ],
          "mesh3d": [
           {
            "colorbar": {
             "outlinewidth": 0,
             "ticks": ""
            },
            "type": "mesh3d"
           }
          ],
          "parcoords": [
           {
            "line": {
             "colorbar": {
              "outlinewidth": 0,
              "ticks": ""
             }
            },
            "type": "parcoords"
           }
          ],
          "pie": [
           {
            "automargin": true,
            "type": "pie"
           }
          ],
          "scatter": [
           {
            "marker": {
             "line": {
              "color": "#283442"
             }
            },
            "type": "scatter"
           }
          ],
          "scatter3d": [
           {
            "line": {
             "colorbar": {
              "outlinewidth": 0,
              "ticks": ""
             }
            },
            "marker": {
             "colorbar": {
              "outlinewidth": 0,
              "ticks": ""
             }
            },
            "type": "scatter3d"
           }
          ],
          "scattercarpet": [
           {
            "marker": {
             "colorbar": {
              "outlinewidth": 0,
              "ticks": ""
             }
            },
            "type": "scattercarpet"
           }
          ],
          "scattergeo": [
           {
            "marker": {
             "colorbar": {
              "outlinewidth": 0,
              "ticks": ""
             }
            },
            "type": "scattergeo"
           }
          ],
          "scattergl": [
           {
            "marker": {
             "line": {
              "color": "#283442"
             }
            },
            "type": "scattergl"
           }
          ],
          "scattermapbox": [
           {
            "marker": {
             "colorbar": {
              "outlinewidth": 0,
              "ticks": ""
             }
            },
            "type": "scattermapbox"
           }
          ],
          "scatterpolar": [
           {
            "marker": {
             "colorbar": {
              "outlinewidth": 0,
              "ticks": ""
             }
            },
            "type": "scatterpolar"
           }
          ],
          "scatterpolargl": [
           {
            "marker": {
             "colorbar": {
              "outlinewidth": 0,
              "ticks": ""
             }
            },
            "type": "scatterpolargl"
           }
          ],
          "scatterternary": [
           {
            "marker": {
             "colorbar": {
              "outlinewidth": 0,
              "ticks": ""
             }
            },
            "type": "scatterternary"
           }
          ],
          "surface": [
           {
            "colorbar": {
             "outlinewidth": 0,
             "ticks": ""
            },
            "colorscale": [
             [
              0,
              "#0d0887"
             ],
             [
              0.1111111111111111,
              "#46039f"
             ],
             [
              0.2222222222222222,
              "#7201a8"
             ],
             [
              0.3333333333333333,
              "#9c179e"
             ],
             [
              0.4444444444444444,
              "#bd3786"
             ],
             [
              0.5555555555555556,
              "#d8576b"
             ],
             [
              0.6666666666666666,
              "#ed7953"
             ],
             [
              0.7777777777777778,
              "#fb9f3a"
             ],
             [
              0.8888888888888888,
              "#fdca26"
             ],
             [
              1,
              "#f0f921"
             ]
            ],
            "type": "surface"
           }
          ],
          "table": [
           {
            "cells": {
             "fill": {
              "color": "#506784"
             },
             "line": {
              "color": "rgb(17,17,17)"
             }
            },
            "header": {
             "fill": {
              "color": "#2a3f5f"
             },
             "line": {
              "color": "rgb(17,17,17)"
             }
            },
            "type": "table"
           }
          ]
         },
         "layout": {
          "annotationdefaults": {
           "arrowcolor": "#f2f5fa",
           "arrowhead": 0,
           "arrowwidth": 1
          },
          "autotypenumbers": "strict",
          "coloraxis": {
           "colorbar": {
            "outlinewidth": 0,
            "ticks": ""
           }
          },
          "colorscale": {
           "diverging": [
            [
             0,
             "#8e0152"
            ],
            [
             0.1,
             "#c51b7d"
            ],
            [
             0.2,
             "#de77ae"
            ],
            [
             0.3,
             "#f1b6da"
            ],
            [
             0.4,
             "#fde0ef"
            ],
            [
             0.5,
             "#f7f7f7"
            ],
            [
             0.6,
             "#e6f5d0"
            ],
            [
             0.7,
             "#b8e186"
            ],
            [
             0.8,
             "#7fbc41"
            ],
            [
             0.9,
             "#4d9221"
            ],
            [
             1,
             "#276419"
            ]
           ],
           "sequential": [
            [
             0,
             "#0d0887"
            ],
            [
             0.1111111111111111,
             "#46039f"
            ],
            [
             0.2222222222222222,
             "#7201a8"
            ],
            [
             0.3333333333333333,
             "#9c179e"
            ],
            [
             0.4444444444444444,
             "#bd3786"
            ],
            [
             0.5555555555555556,
             "#d8576b"
            ],
            [
             0.6666666666666666,
             "#ed7953"
            ],
            [
             0.7777777777777778,
             "#fb9f3a"
            ],
            [
             0.8888888888888888,
             "#fdca26"
            ],
            [
             1,
             "#f0f921"
            ]
           ],
           "sequentialminus": [
            [
             0,
             "#0d0887"
            ],
            [
             0.1111111111111111,
             "#46039f"
            ],
            [
             0.2222222222222222,
             "#7201a8"
            ],
            [
             0.3333333333333333,
             "#9c179e"
            ],
            [
             0.4444444444444444,
             "#bd3786"
            ],
            [
             0.5555555555555556,
             "#d8576b"
            ],
            [
             0.6666666666666666,
             "#ed7953"
            ],
            [
             0.7777777777777778,
             "#fb9f3a"
            ],
            [
             0.8888888888888888,
             "#fdca26"
            ],
            [
             1,
             "#f0f921"
            ]
           ]
          },
          "colorway": [
           "#636efa",
           "#EF553B",
           "#00cc96",
           "#ab63fa",
           "#FFA15A",
           "#19d3f3",
           "#FF6692",
           "#B6E880",
           "#FF97FF",
           "#FECB52"
          ],
          "font": {
           "color": "#f2f5fa"
          },
          "geo": {
           "bgcolor": "rgb(17,17,17)",
           "lakecolor": "rgb(17,17,17)",
           "landcolor": "rgb(17,17,17)",
           "showlakes": true,
           "showland": true,
           "subunitcolor": "#506784"
          },
          "hoverlabel": {
           "align": "left"
          },
          "hovermode": "closest",
          "mapbox": {
           "style": "dark"
          },
          "paper_bgcolor": "rgb(17,17,17)",
          "plot_bgcolor": "rgb(17,17,17)",
          "polar": {
           "angularaxis": {
            "gridcolor": "#506784",
            "linecolor": "#506784",
            "ticks": ""
           },
           "bgcolor": "rgb(17,17,17)",
           "radialaxis": {
            "gridcolor": "#506784",
            "linecolor": "#506784",
            "ticks": ""
           }
          },
          "scene": {
           "xaxis": {
            "backgroundcolor": "rgb(17,17,17)",
            "gridcolor": "#506784",
            "gridwidth": 2,
            "linecolor": "#506784",
            "showbackground": true,
            "ticks": "",
            "zerolinecolor": "#C8D4E3"
           },
           "yaxis": {
            "backgroundcolor": "rgb(17,17,17)",
            "gridcolor": "#506784",
            "gridwidth": 2,
            "linecolor": "#506784",
            "showbackground": true,
            "ticks": "",
            "zerolinecolor": "#C8D4E3"
           },
           "zaxis": {
            "backgroundcolor": "rgb(17,17,17)",
            "gridcolor": "#506784",
            "gridwidth": 2,
            "linecolor": "#506784",
            "showbackground": true,
            "ticks": "",
            "zerolinecolor": "#C8D4E3"
           }
          },
          "shapedefaults": {
           "line": {
            "color": "#f2f5fa"
           }
          },
          "sliderdefaults": {
           "bgcolor": "#C8D4E3",
           "bordercolor": "rgb(17,17,17)",
           "borderwidth": 1,
           "tickwidth": 0
          },
          "ternary": {
           "aaxis": {
            "gridcolor": "#506784",
            "linecolor": "#506784",
            "ticks": ""
           },
           "baxis": {
            "gridcolor": "#506784",
            "linecolor": "#506784",
            "ticks": ""
           },
           "bgcolor": "rgb(17,17,17)",
           "caxis": {
            "gridcolor": "#506784",
            "linecolor": "#506784",
            "ticks": ""
           }
          },
          "title": {
           "x": 0.05
          },
          "updatemenudefaults": {
           "bgcolor": "#506784",
           "borderwidth": 0
          },
          "xaxis": {
           "automargin": true,
           "gridcolor": "#283442",
           "linecolor": "#506784",
           "ticks": "",
           "title": {
            "standoff": 15
           },
           "zerolinecolor": "#283442",
           "zerolinewidth": 2
          },
          "yaxis": {
           "automargin": true,
           "gridcolor": "#283442",
           "linecolor": "#506784",
           "ticks": "",
           "title": {
            "standoff": 15
           },
           "zerolinecolor": "#283442",
           "zerolinewidth": 2
          }
         }
        },
        "title": {
         "font": {
          "size": 20
         },
         "text": "Average Duration Time by Types"
        }
       }
      }
     },
     "metadata": {},
     "output_type": "display_data"
    }
   ],
   "source": [
    "avg_duration_by_types = df.groupby('types')['duration_time'].mean()\n",
    "\n",
    "# Create a Pie chart using Plotly\n",
    "fig = go.Figure(go.Pie(\n",
    "    labels=avg_duration_by_types.index,\n",
    "    values=avg_duration_by_types,\n",
    "    textinfo='percent',\n",
    "    marker=dict(colors=colors)\n",
    "))\n",
    "\n",
    "# Update layout for better readability and adjust the size of the circle\n",
    "fig.update_layout(\n",
    "    title='Average Duration Time by Types',\n",
    "    title_font=dict(size=20),\n",
    "    legend=dict(x=1, y=0.5),\n",
    "    template='plotly_dark',\n",
    ")\n",
    "\n",
    "# Show the plot\n",
    "fig.show()\n"
   ]
  },
  {
   "cell_type": "markdown",
   "metadata": {},
   "source": [
    "------"
   ]
  },
  {
   "cell_type": "markdown",
   "metadata": {},
   "source": [
    "# **Butterworth low-pass filter**\n"
   ]
  },
  {
   "cell_type": "code",
   "execution_count": 29,
   "metadata": {},
   "outputs": [],
   "source": [
    "df_butter = df.copy()\n",
    "PassFilter = LowPassFilter()"
   ]
  },
  {
   "cell_type": "code",
   "execution_count": 30,
   "metadata": {},
   "outputs": [],
   "source": [
    "fs = 1000 / 200  # sampling frequency\n",
    "cutoff = 1.27 # desired cutoff frequency of the filter, Hz"
   ]
  },
  {
   "cell_type": "code",
   "execution_count": 31,
   "metadata": {},
   "outputs": [
    {
     "data": {
      "text/html": [
       "<div>\n",
       "<style scoped>\n",
       "    .dataframe tbody tr th:only-of-type {\n",
       "        vertical-align: middle;\n",
       "    }\n",
       "\n",
       "    .dataframe tbody tr th {\n",
       "        vertical-align: top;\n",
       "    }\n",
       "\n",
       "    .dataframe thead th {\n",
       "        text-align: right;\n",
       "    }\n",
       "</style>\n",
       "<table border=\"1\" class=\"dataframe\">\n",
       "  <thead>\n",
       "    <tr style=\"text-align: right;\">\n",
       "      <th></th>\n",
       "      <th>mean_xc</th>\n",
       "      <th>mean_yc</th>\n",
       "      <th>mean_zc</th>\n",
       "      <th>mean_xg</th>\n",
       "      <th>mean_yg</th>\n",
       "      <th>mean_zg</th>\n",
       "      <th>posture</th>\n",
       "      <th>types</th>\n",
       "      <th>specimen</th>\n",
       "      <th>set</th>\n",
       "      <th>duration_time</th>\n",
       "      <th>mean_xc_lowpass</th>\n",
       "    </tr>\n",
       "    <tr>\n",
       "      <th>time</th>\n",
       "      <th></th>\n",
       "      <th></th>\n",
       "      <th></th>\n",
       "      <th></th>\n",
       "      <th></th>\n",
       "      <th></th>\n",
       "      <th></th>\n",
       "      <th></th>\n",
       "      <th></th>\n",
       "      <th></th>\n",
       "      <th></th>\n",
       "      <th></th>\n",
       "    </tr>\n",
       "  </thead>\n",
       "  <tbody>\n",
       "    <tr>\n",
       "      <th>2024-02-11 17:08:05.200</th>\n",
       "      <td>0.013500</td>\n",
       "      <td>0.977000</td>\n",
       "      <td>-0.071000</td>\n",
       "      <td>-1.8904</td>\n",
       "      <td>2.4392</td>\n",
       "      <td>0.9388</td>\n",
       "      <td>bench</td>\n",
       "      <td>heavy</td>\n",
       "      <td>B</td>\n",
       "      <td>64.0</td>\n",
       "      <td>16.0</td>\n",
       "      <td>0.013496</td>\n",
       "    </tr>\n",
       "    <tr>\n",
       "      <th>2024-02-11 17:08:05.400</th>\n",
       "      <td>-0.001500</td>\n",
       "      <td>0.970500</td>\n",
       "      <td>-0.079500</td>\n",
       "      <td>-1.6826</td>\n",
       "      <td>-0.8904</td>\n",
       "      <td>2.1708</td>\n",
       "      <td>bench</td>\n",
       "      <td>heavy</td>\n",
       "      <td>B</td>\n",
       "      <td>64.0</td>\n",
       "      <td>16.0</td>\n",
       "      <td>0.008260</td>\n",
       "    </tr>\n",
       "    <tr>\n",
       "      <th>2024-02-11 17:08:05.600</th>\n",
       "      <td>0.001333</td>\n",
       "      <td>0.971667</td>\n",
       "      <td>-0.064333</td>\n",
       "      <td>2.5608</td>\n",
       "      <td>-0.2560</td>\n",
       "      <td>-1.4146</td>\n",
       "      <td>bench</td>\n",
       "      <td>heavy</td>\n",
       "      <td>B</td>\n",
       "      <td>64.0</td>\n",
       "      <td>16.0</td>\n",
       "      <td>-0.008713</td>\n",
       "    </tr>\n",
       "    <tr>\n",
       "      <th>2024-02-11 17:08:05.800</th>\n",
       "      <td>-0.024000</td>\n",
       "      <td>0.957000</td>\n",
       "      <td>-0.073500</td>\n",
       "      <td>8.0610</td>\n",
       "      <td>-4.5244</td>\n",
       "      <td>-2.0730</td>\n",
       "      <td>bench</td>\n",
       "      <td>heavy</td>\n",
       "      <td>B</td>\n",
       "      <td>64.0</td>\n",
       "      <td>16.0</td>\n",
       "      <td>-0.024124</td>\n",
       "    </tr>\n",
       "    <tr>\n",
       "      <th>2024-02-11 17:08:06.000</th>\n",
       "      <td>-0.028000</td>\n",
       "      <td>0.957667</td>\n",
       "      <td>-0.115000</td>\n",
       "      <td>2.4390</td>\n",
       "      <td>-1.5486</td>\n",
       "      <td>-3.6098</td>\n",
       "      <td>bench</td>\n",
       "      <td>heavy</td>\n",
       "      <td>B</td>\n",
       "      <td>64.0</td>\n",
       "      <td>16.0</td>\n",
       "      <td>-0.021642</td>\n",
       "    </tr>\n",
       "    <tr>\n",
       "      <th>...</th>\n",
       "      <td>...</td>\n",
       "      <td>...</td>\n",
       "      <td>...</td>\n",
       "      <td>...</td>\n",
       "      <td>...</td>\n",
       "      <td>...</td>\n",
       "      <td>...</td>\n",
       "      <td>...</td>\n",
       "      <td>...</td>\n",
       "      <td>...</td>\n",
       "      <td>...</td>\n",
       "      <td>...</td>\n",
       "    </tr>\n",
       "    <tr>\n",
       "      <th>2024-02-20 19:33:27.000</th>\n",
       "      <td>-0.048000</td>\n",
       "      <td>-1.041500</td>\n",
       "      <td>-0.076500</td>\n",
       "      <td>1.4146</td>\n",
       "      <td>-5.6218</td>\n",
       "      <td>0.2926</td>\n",
       "      <td>row</td>\n",
       "      <td>medium</td>\n",
       "      <td>E</td>\n",
       "      <td>71.0</td>\n",
       "      <td>19.0</td>\n",
       "      <td>-0.043888</td>\n",
       "    </tr>\n",
       "    <tr>\n",
       "      <th>2024-02-20 19:33:27.200</th>\n",
       "      <td>-0.037000</td>\n",
       "      <td>-1.030333</td>\n",
       "      <td>-0.053333</td>\n",
       "      <td>-2.7684</td>\n",
       "      <td>-0.5854</td>\n",
       "      <td>2.2440</td>\n",
       "      <td>row</td>\n",
       "      <td>medium</td>\n",
       "      <td>E</td>\n",
       "      <td>71.0</td>\n",
       "      <td>19.0</td>\n",
       "      <td>-0.041612</td>\n",
       "    </tr>\n",
       "    <tr>\n",
       "      <th>2024-02-20 19:33:27.400</th>\n",
       "      <td>-0.060000</td>\n",
       "      <td>-1.031000</td>\n",
       "      <td>-0.082000</td>\n",
       "      <td>2.8416</td>\n",
       "      <td>-5.1342</td>\n",
       "      <td>-0.1220</td>\n",
       "      <td>row</td>\n",
       "      <td>medium</td>\n",
       "      <td>E</td>\n",
       "      <td>71.0</td>\n",
       "      <td>19.0</td>\n",
       "      <td>-0.047711</td>\n",
       "    </tr>\n",
       "    <tr>\n",
       "      <th>2024-02-20 19:33:27.600</th>\n",
       "      <td>-0.038667</td>\n",
       "      <td>-1.025667</td>\n",
       "      <td>-0.044667</td>\n",
       "      <td>-0.2318</td>\n",
       "      <td>0.2562</td>\n",
       "      <td>1.1220</td>\n",
       "      <td>row</td>\n",
       "      <td>medium</td>\n",
       "      <td>E</td>\n",
       "      <td>71.0</td>\n",
       "      <td>19.0</td>\n",
       "      <td>-0.050471</td>\n",
       "    </tr>\n",
       "    <tr>\n",
       "      <th>2024-02-20 19:33:27.800</th>\n",
       "      <td>-0.044000</td>\n",
       "      <td>-1.034000</td>\n",
       "      <td>-0.059000</td>\n",
       "      <td>1.0980</td>\n",
       "      <td>-4.0240</td>\n",
       "      <td>0.9760</td>\n",
       "      <td>row</td>\n",
       "      <td>medium</td>\n",
       "      <td>E</td>\n",
       "      <td>71.0</td>\n",
       "      <td>19.0</td>\n",
       "      <td>-0.043991</td>\n",
       "    </tr>\n",
       "  </tbody>\n",
       "</table>\n",
       "<p>9009 rows × 12 columns</p>\n",
       "</div>"
      ],
      "text/plain": [
       "                          mean_xc   mean_yc   mean_zc  mean_xg  mean_yg  \\\n",
       "time                                                                      \n",
       "2024-02-11 17:08:05.200  0.013500  0.977000 -0.071000  -1.8904   2.4392   \n",
       "2024-02-11 17:08:05.400 -0.001500  0.970500 -0.079500  -1.6826  -0.8904   \n",
       "2024-02-11 17:08:05.600  0.001333  0.971667 -0.064333   2.5608  -0.2560   \n",
       "2024-02-11 17:08:05.800 -0.024000  0.957000 -0.073500   8.0610  -4.5244   \n",
       "2024-02-11 17:08:06.000 -0.028000  0.957667 -0.115000   2.4390  -1.5486   \n",
       "...                           ...       ...       ...      ...      ...   \n",
       "2024-02-20 19:33:27.000 -0.048000 -1.041500 -0.076500   1.4146  -5.6218   \n",
       "2024-02-20 19:33:27.200 -0.037000 -1.030333 -0.053333  -2.7684  -0.5854   \n",
       "2024-02-20 19:33:27.400 -0.060000 -1.031000 -0.082000   2.8416  -5.1342   \n",
       "2024-02-20 19:33:27.600 -0.038667 -1.025667 -0.044667  -0.2318   0.2562   \n",
       "2024-02-20 19:33:27.800 -0.044000 -1.034000 -0.059000   1.0980  -4.0240   \n",
       "\n",
       "                         mean_zg posture   types specimen    set  \\\n",
       "time                                                               \n",
       "2024-02-11 17:08:05.200   0.9388   bench   heavy         B  64.0   \n",
       "2024-02-11 17:08:05.400   2.1708   bench   heavy         B  64.0   \n",
       "2024-02-11 17:08:05.600  -1.4146   bench   heavy         B  64.0   \n",
       "2024-02-11 17:08:05.800  -2.0730   bench   heavy         B  64.0   \n",
       "2024-02-11 17:08:06.000  -3.6098   bench   heavy         B  64.0   \n",
       "...                          ...     ...     ...       ...   ...   \n",
       "2024-02-20 19:33:27.000   0.2926     row  medium         E  71.0   \n",
       "2024-02-20 19:33:27.200   2.2440     row  medium         E  71.0   \n",
       "2024-02-20 19:33:27.400  -0.1220     row  medium         E  71.0   \n",
       "2024-02-20 19:33:27.600   1.1220     row  medium         E  71.0   \n",
       "2024-02-20 19:33:27.800   0.9760     row  medium         E  71.0   \n",
       "\n",
       "                         duration_time  mean_xc_lowpass  \n",
       "time                                                     \n",
       "2024-02-11 17:08:05.200           16.0         0.013496  \n",
       "2024-02-11 17:08:05.400           16.0         0.008260  \n",
       "2024-02-11 17:08:05.600           16.0        -0.008713  \n",
       "2024-02-11 17:08:05.800           16.0        -0.024124  \n",
       "2024-02-11 17:08:06.000           16.0        -0.021642  \n",
       "...                                ...              ...  \n",
       "2024-02-20 19:33:27.000           19.0        -0.043888  \n",
       "2024-02-20 19:33:27.200           19.0        -0.041612  \n",
       "2024-02-20 19:33:27.400           19.0        -0.047711  \n",
       "2024-02-20 19:33:27.600           19.0        -0.050471  \n",
       "2024-02-20 19:33:27.800           19.0        -0.043991  \n",
       "\n",
       "[9009 rows x 12 columns]"
      ]
     },
     "execution_count": 31,
     "metadata": {},
     "output_type": "execute_result"
    }
   ],
   "source": [
    "df_butter = PassFilter.apply_low_pass_filter(df_butter, 'mean_xc', fs, cutoff)\n",
    "df_butter"
   ]
  },
  {
   "cell_type": "code",
   "execution_count": 32,
   "metadata": {},
   "outputs": [
    {
     "data": {
      "text/html": [
       "<div>\n",
       "<style scoped>\n",
       "    .dataframe tbody tr th:only-of-type {\n",
       "        vertical-align: middle;\n",
       "    }\n",
       "\n",
       "    .dataframe tbody tr th {\n",
       "        vertical-align: top;\n",
       "    }\n",
       "\n",
       "    .dataframe thead th {\n",
       "        text-align: right;\n",
       "    }\n",
       "</style>\n",
       "<table border=\"1\" class=\"dataframe\">\n",
       "  <thead>\n",
       "    <tr style=\"text-align: right;\">\n",
       "      <th></th>\n",
       "      <th>mean_xc</th>\n",
       "      <th>mean_yc</th>\n",
       "      <th>mean_zc</th>\n",
       "      <th>mean_xg</th>\n",
       "      <th>mean_yg</th>\n",
       "      <th>mean_zg</th>\n",
       "      <th>posture</th>\n",
       "      <th>types</th>\n",
       "      <th>specimen</th>\n",
       "      <th>set</th>\n",
       "      <th>duration_time</th>\n",
       "      <th>mean_xc_lowpass</th>\n",
       "    </tr>\n",
       "    <tr>\n",
       "      <th>time</th>\n",
       "      <th></th>\n",
       "      <th></th>\n",
       "      <th></th>\n",
       "      <th></th>\n",
       "      <th></th>\n",
       "      <th></th>\n",
       "      <th></th>\n",
       "      <th></th>\n",
       "      <th></th>\n",
       "      <th></th>\n",
       "      <th></th>\n",
       "      <th></th>\n",
       "    </tr>\n",
       "  </thead>\n",
       "  <tbody>\n",
       "    <tr>\n",
       "      <th>2024-02-16 21:30:35.000</th>\n",
       "      <td>0.081000</td>\n",
       "      <td>-1.054000</td>\n",
       "      <td>0.043000</td>\n",
       "      <td>3.914800</td>\n",
       "      <td>-3.432800</td>\n",
       "      <td>-2.207400</td>\n",
       "      <td>dead</td>\n",
       "      <td>medium</td>\n",
       "      <td>E</td>\n",
       "      <td>45.0</td>\n",
       "      <td>34.0</td>\n",
       "      <td>0.091073</td>\n",
       "    </tr>\n",
       "    <tr>\n",
       "      <th>2024-02-16 21:30:35.200</th>\n",
       "      <td>0.081333</td>\n",
       "      <td>-1.036333</td>\n",
       "      <td>0.034333</td>\n",
       "      <td>-11.902400</td>\n",
       "      <td>-6.853600</td>\n",
       "      <td>0.207200</td>\n",
       "      <td>dead</td>\n",
       "      <td>medium</td>\n",
       "      <td>E</td>\n",
       "      <td>45.0</td>\n",
       "      <td>34.0</td>\n",
       "      <td>0.056843</td>\n",
       "    </tr>\n",
       "    <tr>\n",
       "      <th>2024-02-16 21:30:35.400</th>\n",
       "      <td>0.020500</td>\n",
       "      <td>-0.981500</td>\n",
       "      <td>-0.098500</td>\n",
       "      <td>-16.780800</td>\n",
       "      <td>-10.024400</td>\n",
       "      <td>-7.366000</td>\n",
       "      <td>dead</td>\n",
       "      <td>medium</td>\n",
       "      <td>E</td>\n",
       "      <td>45.0</td>\n",
       "      <td>34.0</td>\n",
       "      <td>0.050290</td>\n",
       "    </tr>\n",
       "    <tr>\n",
       "      <th>2024-02-16 21:30:35.600</th>\n",
       "      <td>0.095667</td>\n",
       "      <td>-1.039667</td>\n",
       "      <td>-0.056667</td>\n",
       "      <td>1.256000</td>\n",
       "      <td>0.280600</td>\n",
       "      <td>-3.475600</td>\n",
       "      <td>dead</td>\n",
       "      <td>medium</td>\n",
       "      <td>E</td>\n",
       "      <td>45.0</td>\n",
       "      <td>34.0</td>\n",
       "      <td>0.078640</td>\n",
       "    </tr>\n",
       "    <tr>\n",
       "      <th>2024-02-16 21:30:35.800</th>\n",
       "      <td>0.112500</td>\n",
       "      <td>-1.019000</td>\n",
       "      <td>-0.066500</td>\n",
       "      <td>1.073200</td>\n",
       "      <td>-11.719600</td>\n",
       "      <td>0.304800</td>\n",
       "      <td>dead</td>\n",
       "      <td>medium</td>\n",
       "      <td>E</td>\n",
       "      <td>45.0</td>\n",
       "      <td>34.0</td>\n",
       "      <td>0.111992</td>\n",
       "    </tr>\n",
       "    <tr>\n",
       "      <th>...</th>\n",
       "      <td>...</td>\n",
       "      <td>...</td>\n",
       "      <td>...</td>\n",
       "      <td>...</td>\n",
       "      <td>...</td>\n",
       "      <td>...</td>\n",
       "      <td>...</td>\n",
       "      <td>...</td>\n",
       "      <td>...</td>\n",
       "      <td>...</td>\n",
       "      <td>...</td>\n",
       "      <td>...</td>\n",
       "    </tr>\n",
       "    <tr>\n",
       "      <th>2024-02-16 21:31:08.800</th>\n",
       "      <td>0.077444</td>\n",
       "      <td>-1.236667</td>\n",
       "      <td>-0.055333</td>\n",
       "      <td>11.366000</td>\n",
       "      <td>-9.632067</td>\n",
       "      <td>5.461467</td>\n",
       "      <td>dead</td>\n",
       "      <td>medium</td>\n",
       "      <td>E</td>\n",
       "      <td>45.0</td>\n",
       "      <td>34.0</td>\n",
       "      <td>0.078706</td>\n",
       "    </tr>\n",
       "    <tr>\n",
       "      <th>2024-02-16 21:31:09.000</th>\n",
       "      <td>0.078500</td>\n",
       "      <td>-1.036000</td>\n",
       "      <td>0.087500</td>\n",
       "      <td>28.256200</td>\n",
       "      <td>-10.398333</td>\n",
       "      <td>3.739933</td>\n",
       "      <td>dead</td>\n",
       "      <td>medium</td>\n",
       "      <td>E</td>\n",
       "      <td>45.0</td>\n",
       "      <td>34.0</td>\n",
       "      <td>0.082932</td>\n",
       "    </tr>\n",
       "    <tr>\n",
       "      <th>2024-02-16 21:31:09.200</th>\n",
       "      <td>0.094000</td>\n",
       "      <td>-0.944667</td>\n",
       "      <td>0.130000</td>\n",
       "      <td>19.640383</td>\n",
       "      <td>-11.164600</td>\n",
       "      <td>2.018400</td>\n",
       "      <td>dead</td>\n",
       "      <td>medium</td>\n",
       "      <td>E</td>\n",
       "      <td>45.0</td>\n",
       "      <td>34.0</td>\n",
       "      <td>0.088031</td>\n",
       "    </tr>\n",
       "    <tr>\n",
       "      <th>2024-02-16 21:31:09.400</th>\n",
       "      <td>0.077000</td>\n",
       "      <td>-0.842500</td>\n",
       "      <td>0.295500</td>\n",
       "      <td>11.024567</td>\n",
       "      <td>-11.930867</td>\n",
       "      <td>0.296867</td>\n",
       "      <td>dead</td>\n",
       "      <td>medium</td>\n",
       "      <td>E</td>\n",
       "      <td>45.0</td>\n",
       "      <td>34.0</td>\n",
       "      <td>0.078571</td>\n",
       "    </tr>\n",
       "    <tr>\n",
       "      <th>2024-02-16 21:31:09.600</th>\n",
       "      <td>0.060000</td>\n",
       "      <td>-0.740333</td>\n",
       "      <td>0.066000</td>\n",
       "      <td>2.408750</td>\n",
       "      <td>-12.697133</td>\n",
       "      <td>-1.424667</td>\n",
       "      <td>dead</td>\n",
       "      <td>medium</td>\n",
       "      <td>E</td>\n",
       "      <td>45.0</td>\n",
       "      <td>34.0</td>\n",
       "      <td>0.058469</td>\n",
       "    </tr>\n",
       "  </tbody>\n",
       "</table>\n",
       "<p>174 rows × 12 columns</p>\n",
       "</div>"
      ],
      "text/plain": [
       "                          mean_xc   mean_yc   mean_zc    mean_xg    mean_yg  \\\n",
       "time                                                                          \n",
       "2024-02-16 21:30:35.000  0.081000 -1.054000  0.043000   3.914800  -3.432800   \n",
       "2024-02-16 21:30:35.200  0.081333 -1.036333  0.034333 -11.902400  -6.853600   \n",
       "2024-02-16 21:30:35.400  0.020500 -0.981500 -0.098500 -16.780800 -10.024400   \n",
       "2024-02-16 21:30:35.600  0.095667 -1.039667 -0.056667   1.256000   0.280600   \n",
       "2024-02-16 21:30:35.800  0.112500 -1.019000 -0.066500   1.073200 -11.719600   \n",
       "...                           ...       ...       ...        ...        ...   \n",
       "2024-02-16 21:31:08.800  0.077444 -1.236667 -0.055333  11.366000  -9.632067   \n",
       "2024-02-16 21:31:09.000  0.078500 -1.036000  0.087500  28.256200 -10.398333   \n",
       "2024-02-16 21:31:09.200  0.094000 -0.944667  0.130000  19.640383 -11.164600   \n",
       "2024-02-16 21:31:09.400  0.077000 -0.842500  0.295500  11.024567 -11.930867   \n",
       "2024-02-16 21:31:09.600  0.060000 -0.740333  0.066000   2.408750 -12.697133   \n",
       "\n",
       "                          mean_zg posture   types specimen    set  \\\n",
       "time                                                                \n",
       "2024-02-16 21:30:35.000 -2.207400    dead  medium         E  45.0   \n",
       "2024-02-16 21:30:35.200  0.207200    dead  medium         E  45.0   \n",
       "2024-02-16 21:30:35.400 -7.366000    dead  medium         E  45.0   \n",
       "2024-02-16 21:30:35.600 -3.475600    dead  medium         E  45.0   \n",
       "2024-02-16 21:30:35.800  0.304800    dead  medium         E  45.0   \n",
       "...                           ...     ...     ...       ...   ...   \n",
       "2024-02-16 21:31:08.800  5.461467    dead  medium         E  45.0   \n",
       "2024-02-16 21:31:09.000  3.739933    dead  medium         E  45.0   \n",
       "2024-02-16 21:31:09.200  2.018400    dead  medium         E  45.0   \n",
       "2024-02-16 21:31:09.400  0.296867    dead  medium         E  45.0   \n",
       "2024-02-16 21:31:09.600 -1.424667    dead  medium         E  45.0   \n",
       "\n",
       "                         duration_time  mean_xc_lowpass  \n",
       "time                                                     \n",
       "2024-02-16 21:30:35.000           34.0         0.091073  \n",
       "2024-02-16 21:30:35.200           34.0         0.056843  \n",
       "2024-02-16 21:30:35.400           34.0         0.050290  \n",
       "2024-02-16 21:30:35.600           34.0         0.078640  \n",
       "2024-02-16 21:30:35.800           34.0         0.111992  \n",
       "...                                ...              ...  \n",
       "2024-02-16 21:31:08.800           34.0         0.078706  \n",
       "2024-02-16 21:31:09.000           34.0         0.082932  \n",
       "2024-02-16 21:31:09.200           34.0         0.088031  \n",
       "2024-02-16 21:31:09.400           34.0         0.078571  \n",
       "2024-02-16 21:31:09.600           34.0         0.058469  \n",
       "\n",
       "[174 rows x 12 columns]"
      ]
     },
     "execution_count": 32,
     "metadata": {},
     "output_type": "execute_result"
    }
   ],
   "source": [
    "subset_df = df_butter[df_butter['set'] == 45]\n",
    "subset_df"
   ]
  },
  {
   "cell_type": "code",
   "execution_count": 34,
   "metadata": {},
   "outputs": [
    {
     "data": {
      "application/vnd.plotly.v1+json": {
       "config": {
        "plotlyServerURL": "https://plot.ly"
       },
       "data": [
        {
         "line": {
          "color": "blue"
         },
         "mode": "lines",
         "name": "Raw Data",
         "type": "scatter",
         "x": [
          "2024-02-16T21:30:35",
          "2024-02-16T21:30:35.200000",
          "2024-02-16T21:30:35.400000",
          "2024-02-16T21:30:35.600000",
          "2024-02-16T21:30:35.800000",
          "2024-02-16T21:30:36",
          "2024-02-16T21:30:36.200000",
          "2024-02-16T21:30:36.400000",
          "2024-02-16T21:30:36.600000",
          "2024-02-16T21:30:36.800000",
          "2024-02-16T21:30:37",
          "2024-02-16T21:30:37.200000",
          "2024-02-16T21:30:37.400000",
          "2024-02-16T21:30:37.600000",
          "2024-02-16T21:30:37.800000",
          "2024-02-16T21:30:38",
          "2024-02-16T21:30:38.200000",
          "2024-02-16T21:30:38.400000",
          "2024-02-16T21:30:38.600000",
          "2024-02-16T21:30:38.800000",
          "2024-02-16T21:30:39",
          "2024-02-16T21:30:39.200000",
          "2024-02-16T21:30:39.400000",
          "2024-02-16T21:30:39.600000",
          "2024-02-16T21:30:39.800000",
          "2024-02-16T21:30:40",
          "2024-02-16T21:30:40.200000",
          "2024-02-16T21:30:40.400000",
          "2024-02-16T21:30:40.600000",
          "2024-02-16T21:30:40.800000",
          "2024-02-16T21:30:41",
          "2024-02-16T21:30:41.200000",
          "2024-02-16T21:30:41.400000",
          "2024-02-16T21:30:41.600000",
          "2024-02-16T21:30:41.800000",
          "2024-02-16T21:30:42",
          "2024-02-16T21:30:42.200000",
          "2024-02-16T21:30:42.400000",
          "2024-02-16T21:30:42.600000",
          "2024-02-16T21:30:42.800000",
          "2024-02-16T21:30:43",
          "2024-02-16T21:30:43.200000",
          "2024-02-16T21:30:43.400000",
          "2024-02-16T21:30:43.600000",
          "2024-02-16T21:30:43.800000",
          "2024-02-16T21:30:44",
          "2024-02-16T21:30:44.200000",
          "2024-02-16T21:30:44.400000",
          "2024-02-16T21:30:44.600000",
          "2024-02-16T21:30:44.800000",
          "2024-02-16T21:30:45",
          "2024-02-16T21:30:45.200000",
          "2024-02-16T21:30:45.400000",
          "2024-02-16T21:30:45.600000",
          "2024-02-16T21:30:45.800000",
          "2024-02-16T21:30:46",
          "2024-02-16T21:30:46.200000",
          "2024-02-16T21:30:46.400000",
          "2024-02-16T21:30:46.600000",
          "2024-02-16T21:30:46.800000",
          "2024-02-16T21:30:47",
          "2024-02-16T21:30:47.200000",
          "2024-02-16T21:30:47.400000",
          "2024-02-16T21:30:47.600000",
          "2024-02-16T21:30:47.800000",
          "2024-02-16T21:30:48",
          "2024-02-16T21:30:48.200000",
          "2024-02-16T21:30:48.400000",
          "2024-02-16T21:30:48.600000",
          "2024-02-16T21:30:48.800000",
          "2024-02-16T21:30:49",
          "2024-02-16T21:30:49.200000",
          "2024-02-16T21:30:49.400000",
          "2024-02-16T21:30:49.600000",
          "2024-02-16T21:30:49.800000",
          "2024-02-16T21:30:50",
          "2024-02-16T21:30:50.200000",
          "2024-02-16T21:30:50.400000",
          "2024-02-16T21:30:50.600000",
          "2024-02-16T21:30:50.800000",
          "2024-02-16T21:30:51",
          "2024-02-16T21:30:51.200000",
          "2024-02-16T21:30:51.400000",
          "2024-02-16T21:30:51.600000",
          "2024-02-16T21:30:51.800000",
          "2024-02-16T21:30:52",
          "2024-02-16T21:30:52.200000",
          "2024-02-16T21:30:52.400000",
          "2024-02-16T21:30:52.600000",
          "2024-02-16T21:30:52.800000",
          "2024-02-16T21:30:53",
          "2024-02-16T21:30:53.200000",
          "2024-02-16T21:30:53.400000",
          "2024-02-16T21:30:53.600000",
          "2024-02-16T21:30:53.800000",
          "2024-02-16T21:30:54",
          "2024-02-16T21:30:54.200000",
          "2024-02-16T21:30:54.400000",
          "2024-02-16T21:30:54.600000",
          "2024-02-16T21:30:54.800000",
          "2024-02-16T21:30:55",
          "2024-02-16T21:30:55.200000",
          "2024-02-16T21:30:55.400000",
          "2024-02-16T21:30:55.600000",
          "2024-02-16T21:30:55.800000",
          "2024-02-16T21:30:56",
          "2024-02-16T21:30:56.200000",
          "2024-02-16T21:30:56.400000",
          "2024-02-16T21:30:56.600000",
          "2024-02-16T21:30:56.800000",
          "2024-02-16T21:30:57",
          "2024-02-16T21:30:57.200000",
          "2024-02-16T21:30:57.400000",
          "2024-02-16T21:30:57.600000",
          "2024-02-16T21:30:57.800000",
          "2024-02-16T21:30:58",
          "2024-02-16T21:30:58.200000",
          "2024-02-16T21:30:58.400000",
          "2024-02-16T21:30:58.600000",
          "2024-02-16T21:30:58.800000",
          "2024-02-16T21:30:59",
          "2024-02-16T21:30:59.200000",
          "2024-02-16T21:30:59.400000",
          "2024-02-16T21:30:59.600000",
          "2024-02-16T21:30:59.800000",
          "2024-02-16T21:31:00",
          "2024-02-16T21:31:00.200000",
          "2024-02-16T21:31:00.400000",
          "2024-02-16T21:31:00.600000",
          "2024-02-16T21:31:00.800000",
          "2024-02-16T21:31:01",
          "2024-02-16T21:31:01.200000",
          "2024-02-16T21:31:01.400000",
          "2024-02-16T21:31:01.600000",
          "2024-02-16T21:31:01.800000",
          "2024-02-16T21:31:02",
          "2024-02-16T21:31:02.200000",
          "2024-02-16T21:31:02.400000",
          "2024-02-16T21:31:02.600000",
          "2024-02-16T21:31:02.800000",
          "2024-02-16T21:31:03",
          "2024-02-16T21:31:03.200000",
          "2024-02-16T21:31:03.400000",
          "2024-02-16T21:31:03.600000",
          "2024-02-16T21:31:03.800000",
          "2024-02-16T21:31:04",
          "2024-02-16T21:31:04.200000",
          "2024-02-16T21:31:04.400000",
          "2024-02-16T21:31:04.600000",
          "2024-02-16T21:31:04.800000",
          "2024-02-16T21:31:05",
          "2024-02-16T21:31:05.200000",
          "2024-02-16T21:31:05.400000",
          "2024-02-16T21:31:05.600000",
          "2024-02-16T21:31:05.800000",
          "2024-02-16T21:31:06",
          "2024-02-16T21:31:06.200000",
          "2024-02-16T21:31:06.400000",
          "2024-02-16T21:31:06.600000",
          "2024-02-16T21:31:06.800000",
          "2024-02-16T21:31:07",
          "2024-02-16T21:31:07.200000",
          "2024-02-16T21:31:07.400000",
          "2024-02-16T21:31:07.600000",
          "2024-02-16T21:31:07.800000",
          "2024-02-16T21:31:08",
          "2024-02-16T21:31:08.200000",
          "2024-02-16T21:31:08.400000",
          "2024-02-16T21:31:08.600000",
          "2024-02-16T21:31:08.800000",
          "2024-02-16T21:31:09",
          "2024-02-16T21:31:09.200000",
          "2024-02-16T21:31:09.400000",
          "2024-02-16T21:31:09.600000"
         ],
         "y": [
          0.081,
          0.08133333333333333,
          0.0205,
          0.09566666666666668,
          0.1125,
          0.11699999999999999,
          0.11299999999999999,
          0.11233333333333333,
          0.091,
          0.09200000000000001,
          0.049,
          0.052333333333333336,
          0.0365,
          0.06166666666666667,
          0.088,
          0.09633333333333334,
          0.1105,
          0.10755555555555556,
          0.10461111111111111,
          0.10166666666666667,
          0.07250000000000001,
          0.07033333333333334,
          0.0685,
          0.07066666666666667,
          0.0495,
          0.043000000000000003,
          0.064,
          0.08833333333333333,
          0.086,
          0.08249999999999999,
          0.079,
          0.07550000000000001,
          0.07200000000000001,
          0.09266666666666667,
          0.083,
          0.07633333333333334,
          0.072,
          0.06066666666666667,
          0.038500000000000006,
          0.05266666666666667,
          0.0735,
          0.076,
          0.092,
          0.08374999999999999,
          0.0755,
          0.06725,
          0.059,
          0.07833333333333332,
          0.078,
          0.07,
          0.0695,
          0.07,
          0.066,
          0.037,
          0.0435,
          0.049666666666666665,
          0.07,
          0.06966666666666667,
          0.1235,
          0.12,
          0.095,
          0.083,
          0.07100000000000001,
          0.05566666666666666,
          0.098,
          0.07566666666666667,
          0.0895,
          0.06166666666666667,
          0.07250000000000001,
          0.025666666666666667,
          0.027000000000000003,
          0.044333333333333336,
          0.049499999999999995,
          0.071,
          0.09,
          0.0985,
          0.10700000000000001,
          0.055999999999999994,
          0.11549999999999999,
          0.07566666666666667,
          0.12000000000000001,
          0.04033333333333333,
          0.088,
          0.06233333333333333,
          0.07050000000000001,
          0.042,
          0.078,
          0.041,
          0.015,
          0.04466666666666667,
          0.067,
          0.06266666666666666,
          0.07050000000000001,
          0.08911111111111111,
          0.10772222222222222,
          0.12633333333333333,
          0.013,
          0.075,
          0.07550000000000001,
          0.06033333333333333,
          0.0455,
          0.06633333333333334,
          0.0905,
          0.048999999999999995,
          0.06,
          0.06533333333333334,
          0.052000000000000005,
          0.07975000000000002,
          0.10750000000000001,
          0.042333333333333334,
          0.05766666666666667,
          0.07300000000000001,
          0.031,
          0.10133333333333333,
          0.097,
          0.08900000000000001,
          0.0775,
          0.06933333333333333,
          0.069,
          0.07033333333333334,
          0.051,
          0.06433333333333334,
          0.08249999999999999,
          0.07133333333333335,
          0.07122222222222223,
          0.07111111111111111,
          0.071,
          0.107,
          0.056,
          0.08700000000000001,
          0.087,
          0.06966666666666667,
          0.087,
          0.072,
          0.07450000000000001,
          0.05633333333333334,
          0.058,
          0.059666666666666666,
          0.056999999999999995,
          0.07233333333333333,
          0.07050000000000001,
          0.06775,
          0.065,
          0.09733333333333333,
          0.056,
          0.07533333333333332,
          0.0905,
          0.08433333333333333,
          0.06949999999999999,
          0.06966666666666667,
          0.0715,
          0.075,
          0.058499999999999996,
          0.06766666666666667,
          0.0545,
          0.052,
          0.073,
          0.11699999999999999,
          0.11399999999999999,
          0.078,
          0.0705,
          0.05566666666666667,
          0.059500000000000004,
          0.042,
          0.027000000000000003,
          0.028333333333333335,
          0.0225,
          0.07533333333333334,
          0.0763888888888889,
          0.07744444444444444,
          0.0785,
          0.09400000000000001,
          0.07700000000000001,
          0.060000000000000005
         ]
        },
        {
         "line": {
          "color": "orange"
         },
         "mode": "lines",
         "name": "Butterworth",
         "type": "scatter",
         "x": [
          "2024-02-16T21:30:35",
          "2024-02-16T21:30:35.200000",
          "2024-02-16T21:30:35.400000",
          "2024-02-16T21:30:35.600000",
          "2024-02-16T21:30:35.800000",
          "2024-02-16T21:30:36",
          "2024-02-16T21:30:36.200000",
          "2024-02-16T21:30:36.400000",
          "2024-02-16T21:30:36.600000",
          "2024-02-16T21:30:36.800000",
          "2024-02-16T21:30:37",
          "2024-02-16T21:30:37.200000",
          "2024-02-16T21:30:37.400000",
          "2024-02-16T21:30:37.600000",
          "2024-02-16T21:30:37.800000",
          "2024-02-16T21:30:38",
          "2024-02-16T21:30:38.200000",
          "2024-02-16T21:30:38.400000",
          "2024-02-16T21:30:38.600000",
          "2024-02-16T21:30:38.800000",
          "2024-02-16T21:30:39",
          "2024-02-16T21:30:39.200000",
          "2024-02-16T21:30:39.400000",
          "2024-02-16T21:30:39.600000",
          "2024-02-16T21:30:39.800000",
          "2024-02-16T21:30:40",
          "2024-02-16T21:30:40.200000",
          "2024-02-16T21:30:40.400000",
          "2024-02-16T21:30:40.600000",
          "2024-02-16T21:30:40.800000",
          "2024-02-16T21:30:41",
          "2024-02-16T21:30:41.200000",
          "2024-02-16T21:30:41.400000",
          "2024-02-16T21:30:41.600000",
          "2024-02-16T21:30:41.800000",
          "2024-02-16T21:30:42",
          "2024-02-16T21:30:42.200000",
          "2024-02-16T21:30:42.400000",
          "2024-02-16T21:30:42.600000",
          "2024-02-16T21:30:42.800000",
          "2024-02-16T21:30:43",
          "2024-02-16T21:30:43.200000",
          "2024-02-16T21:30:43.400000",
          "2024-02-16T21:30:43.600000",
          "2024-02-16T21:30:43.800000",
          "2024-02-16T21:30:44",
          "2024-02-16T21:30:44.200000",
          "2024-02-16T21:30:44.400000",
          "2024-02-16T21:30:44.600000",
          "2024-02-16T21:30:44.800000",
          "2024-02-16T21:30:45",
          "2024-02-16T21:30:45.200000",
          "2024-02-16T21:30:45.400000",
          "2024-02-16T21:30:45.600000",
          "2024-02-16T21:30:45.800000",
          "2024-02-16T21:30:46",
          "2024-02-16T21:30:46.200000",
          "2024-02-16T21:30:46.400000",
          "2024-02-16T21:30:46.600000",
          "2024-02-16T21:30:46.800000",
          "2024-02-16T21:30:47",
          "2024-02-16T21:30:47.200000",
          "2024-02-16T21:30:47.400000",
          "2024-02-16T21:30:47.600000",
          "2024-02-16T21:30:47.800000",
          "2024-02-16T21:30:48",
          "2024-02-16T21:30:48.200000",
          "2024-02-16T21:30:48.400000",
          "2024-02-16T21:30:48.600000",
          "2024-02-16T21:30:48.800000",
          "2024-02-16T21:30:49",
          "2024-02-16T21:30:49.200000",
          "2024-02-16T21:30:49.400000",
          "2024-02-16T21:30:49.600000",
          "2024-02-16T21:30:49.800000",
          "2024-02-16T21:30:50",
          "2024-02-16T21:30:50.200000",
          "2024-02-16T21:30:50.400000",
          "2024-02-16T21:30:50.600000",
          "2024-02-16T21:30:50.800000",
          "2024-02-16T21:30:51",
          "2024-02-16T21:30:51.200000",
          "2024-02-16T21:30:51.400000",
          "2024-02-16T21:30:51.600000",
          "2024-02-16T21:30:51.800000",
          "2024-02-16T21:30:52",
          "2024-02-16T21:30:52.200000",
          "2024-02-16T21:30:52.400000",
          "2024-02-16T21:30:52.600000",
          "2024-02-16T21:30:52.800000",
          "2024-02-16T21:30:53",
          "2024-02-16T21:30:53.200000",
          "2024-02-16T21:30:53.400000",
          "2024-02-16T21:30:53.600000",
          "2024-02-16T21:30:53.800000",
          "2024-02-16T21:30:54",
          "2024-02-16T21:30:54.200000",
          "2024-02-16T21:30:54.400000",
          "2024-02-16T21:30:54.600000",
          "2024-02-16T21:30:54.800000",
          "2024-02-16T21:30:55",
          "2024-02-16T21:30:55.200000",
          "2024-02-16T21:30:55.400000",
          "2024-02-16T21:30:55.600000",
          "2024-02-16T21:30:55.800000",
          "2024-02-16T21:30:56",
          "2024-02-16T21:30:56.200000",
          "2024-02-16T21:30:56.400000",
          "2024-02-16T21:30:56.600000",
          "2024-02-16T21:30:56.800000",
          "2024-02-16T21:30:57",
          "2024-02-16T21:30:57.200000",
          "2024-02-16T21:30:57.400000",
          "2024-02-16T21:30:57.600000",
          "2024-02-16T21:30:57.800000",
          "2024-02-16T21:30:58",
          "2024-02-16T21:30:58.200000",
          "2024-02-16T21:30:58.400000",
          "2024-02-16T21:30:58.600000",
          "2024-02-16T21:30:58.800000",
          "2024-02-16T21:30:59",
          "2024-02-16T21:30:59.200000",
          "2024-02-16T21:30:59.400000",
          "2024-02-16T21:30:59.600000",
          "2024-02-16T21:30:59.800000",
          "2024-02-16T21:31:00",
          "2024-02-16T21:31:00.200000",
          "2024-02-16T21:31:00.400000",
          "2024-02-16T21:31:00.600000",
          "2024-02-16T21:31:00.800000",
          "2024-02-16T21:31:01",
          "2024-02-16T21:31:01.200000",
          "2024-02-16T21:31:01.400000",
          "2024-02-16T21:31:01.600000",
          "2024-02-16T21:31:01.800000",
          "2024-02-16T21:31:02",
          "2024-02-16T21:31:02.200000",
          "2024-02-16T21:31:02.400000",
          "2024-02-16T21:31:02.600000",
          "2024-02-16T21:31:02.800000",
          "2024-02-16T21:31:03",
          "2024-02-16T21:31:03.200000",
          "2024-02-16T21:31:03.400000",
          "2024-02-16T21:31:03.600000",
          "2024-02-16T21:31:03.800000",
          "2024-02-16T21:31:04",
          "2024-02-16T21:31:04.200000",
          "2024-02-16T21:31:04.400000",
          "2024-02-16T21:31:04.600000",
          "2024-02-16T21:31:04.800000",
          "2024-02-16T21:31:05",
          "2024-02-16T21:31:05.200000",
          "2024-02-16T21:31:05.400000",
          "2024-02-16T21:31:05.600000",
          "2024-02-16T21:31:05.800000",
          "2024-02-16T21:31:06",
          "2024-02-16T21:31:06.200000",
          "2024-02-16T21:31:06.400000",
          "2024-02-16T21:31:06.600000",
          "2024-02-16T21:31:06.800000",
          "2024-02-16T21:31:07",
          "2024-02-16T21:31:07.200000",
          "2024-02-16T21:31:07.400000",
          "2024-02-16T21:31:07.600000",
          "2024-02-16T21:31:07.800000",
          "2024-02-16T21:31:08",
          "2024-02-16T21:31:08.200000",
          "2024-02-16T21:31:08.400000",
          "2024-02-16T21:31:08.600000",
          "2024-02-16T21:31:08.800000",
          "2024-02-16T21:31:09",
          "2024-02-16T21:31:09.200000",
          "2024-02-16T21:31:09.400000",
          "2024-02-16T21:31:09.600000"
         ],
         "y": [
          0.091073213879271,
          0.056842708404526016,
          0.05029013339136469,
          0.07863950598513621,
          0.11199225415037138,
          0.12225932270134775,
          0.11417880649106031,
          0.10576701796195083,
          0.09866028956039193,
          0.08321549494920924,
          0.05976970128497407,
          0.04193209777422892,
          0.042599912525635726,
          0.06134358766540862,
          0.08484667006005964,
          0.10021627324031628,
          0.10664705353640214,
          0.10967973307865886,
          0.10757439664701542,
          0.09468426151373353,
          0.07725574081538734,
          0.06951067714399523,
          0.07083252761171194,
          0.06551004809640659,
          0.05113412839119374,
          0.04658337203027673,
          0.06255742273052373,
          0.08373613259426986,
          0.0906765152810652,
          0.08349962333620309,
          0.07535991280795465,
          0.07458448753841303,
          0.0795394426589064,
          0.08429290712221146,
          0.08496196518158144,
          0.08049247624394544,
          0.06990253646499048,
          0.05527384974316927,
          0.0462065179391451,
          0.051505092637666165,
          0.06743727380307679,
          0.08243886818062705,
          0.08905781388644346,
          0.08544503318647219,
          0.07414744302097091,
          0.0646335026672466,
          0.06598245132621225,
          0.07373882194725667,
          0.07613050227773843,
          0.07269236805655073,
          0.07116142783240177,
          0.06931751050624542,
          0.05927906775989489,
          0.04588124150834972,
          0.0414433051496447,
          0.04831934100209578,
          0.06303724902094739,
          0.08593827628900627,
          0.1108032825082238,
          0.11962806956524683,
          0.10355735039278297,
          0.07793141188740721,
          0.06532350238898625,
          0.0708266772528131,
          0.08158164468514416,
          0.08592348940718639,
          0.08292959529042973,
          0.07329201846339616,
          0.055564032985399504,
          0.036510919641538776,
          0.029300135984074098,
          0.03680353850512775,
          0.05193180717027582,
          0.07164258208173817,
          0.09213485162914517,
          0.09998713309295537,
          0.09079987662143774,
          0.08314307239486568,
          0.09060824332688128,
          0.09819963626550335,
          0.08958575392662847,
          0.07462813523802811,
          0.06776882293302888,
          0.06573390124649038,
          0.0638035953008991,
          0.06382158682670788,
          0.0579900960774862,
          0.03979590061084774,
          0.02812296632284201,
          0.041237755285365545,
          0.06088955730612305,
          0.06480184810088625,
          0.06994716392795847,
          0.09517759317541892,
          0.11253915111147843,
          0.09158636386126448,
          0.05892431495855464,
          0.05506144050258899,
          0.06771648355604179,
          0.06500548049128037,
          0.055512407961988613,
          0.06227210069983424,
          0.07464649803500217,
          0.07015181174635837,
          0.05490789041769021,
          0.05193124270059991,
          0.06688894640013517,
          0.082905895497458,
          0.08312827999602253,
          0.0688161126463528,
          0.0536925156660479,
          0.04966474395336818,
          0.06190408307355093,
          0.08438290163749718,
          0.09830079344564924,
          0.09161334604127973,
          0.07655866521645015,
          0.07046206473717133,
          0.06988777712849296,
          0.06372146643470578,
          0.05812265491657185,
          0.06484732159795573,
          0.07617170868785274,
          0.07623841439397974,
          0.06902065390175784,
          0.07067696153487142,
          0.08067900604613103,
          0.08453784569191174,
          0.0799509805443877,
          0.07748528137127646,
          0.08009520552972502,
          0.08149383084453754,
          0.07944629640377518,
          0.07592959501678095,
          0.07012512535925447,
          0.06153507235461364,
          0.05525498046920781,
          0.05689081060955124,
          0.06389366581580332,
          0.06804232904816833,
          0.06784794849400881,
          0.0700866153140351,
          0.07531793691875094,
          0.07562547564262538,
          0.07210641400983278,
          0.07538516612848334,
          0.08385467615189257,
          0.08407453892681702,
          0.07492131662927407,
          0.06855356466167639,
          0.06931928485495809,
          0.07108177165743837,
          0.06904566921140354,
          0.06140219736071989,
          0.0515636365802254,
          0.05430506495885793,
          0.0796776760230511,
          0.10904782012805281,
          0.11196791746835191,
          0.08742365281062385,
          0.06366604019577246,
          0.057711741455198355,
          0.057471434820285605,
          0.045751186562159846,
          0.026319497620214957,
          0.020006371340249154,
          0.037721928417211614,
          0.06417559837206666,
          0.07751042997963807,
          0.07870638364278289,
          0.08293240251274629,
          0.08803119592342436,
          0.07857051330407816,
          0.0584689343949896
         ]
        }
       ],
       "layout": {
        "legend": {
         "bgcolor": "rgba(255, 255, 255, 0)",
         "bordercolor": "rgba(255, 255, 255, 0)",
         "orientation": "h",
         "x": 0.5,
         "y": 1.15
        },
        "margin": {
         "b": 0,
         "l": 0,
         "r": 0,
         "t": 50
        },
        "template": {
         "data": {
          "bar": [
           {
            "error_x": {
             "color": "#f2f5fa"
            },
            "error_y": {
             "color": "#f2f5fa"
            },
            "marker": {
             "line": {
              "color": "rgb(17,17,17)",
              "width": 0.5
             },
             "pattern": {
              "fillmode": "overlay",
              "size": 10,
              "solidity": 0.2
             }
            },
            "type": "bar"
           }
          ],
          "barpolar": [
           {
            "marker": {
             "line": {
              "color": "rgb(17,17,17)",
              "width": 0.5
             },
             "pattern": {
              "fillmode": "overlay",
              "size": 10,
              "solidity": 0.2
             }
            },
            "type": "barpolar"
           }
          ],
          "carpet": [
           {
            "aaxis": {
             "endlinecolor": "#A2B1C6",
             "gridcolor": "#506784",
             "linecolor": "#506784",
             "minorgridcolor": "#506784",
             "startlinecolor": "#A2B1C6"
            },
            "baxis": {
             "endlinecolor": "#A2B1C6",
             "gridcolor": "#506784",
             "linecolor": "#506784",
             "minorgridcolor": "#506784",
             "startlinecolor": "#A2B1C6"
            },
            "type": "carpet"
           }
          ],
          "choropleth": [
           {
            "colorbar": {
             "outlinewidth": 0,
             "ticks": ""
            },
            "type": "choropleth"
           }
          ],
          "contour": [
           {
            "colorbar": {
             "outlinewidth": 0,
             "ticks": ""
            },
            "colorscale": [
             [
              0,
              "#0d0887"
             ],
             [
              0.1111111111111111,
              "#46039f"
             ],
             [
              0.2222222222222222,
              "#7201a8"
             ],
             [
              0.3333333333333333,
              "#9c179e"
             ],
             [
              0.4444444444444444,
              "#bd3786"
             ],
             [
              0.5555555555555556,
              "#d8576b"
             ],
             [
              0.6666666666666666,
              "#ed7953"
             ],
             [
              0.7777777777777778,
              "#fb9f3a"
             ],
             [
              0.8888888888888888,
              "#fdca26"
             ],
             [
              1,
              "#f0f921"
             ]
            ],
            "type": "contour"
           }
          ],
          "contourcarpet": [
           {
            "colorbar": {
             "outlinewidth": 0,
             "ticks": ""
            },
            "type": "contourcarpet"
           }
          ],
          "heatmap": [
           {
            "colorbar": {
             "outlinewidth": 0,
             "ticks": ""
            },
            "colorscale": [
             [
              0,
              "#0d0887"
             ],
             [
              0.1111111111111111,
              "#46039f"
             ],
             [
              0.2222222222222222,
              "#7201a8"
             ],
             [
              0.3333333333333333,
              "#9c179e"
             ],
             [
              0.4444444444444444,
              "#bd3786"
             ],
             [
              0.5555555555555556,
              "#d8576b"
             ],
             [
              0.6666666666666666,
              "#ed7953"
             ],
             [
              0.7777777777777778,
              "#fb9f3a"
             ],
             [
              0.8888888888888888,
              "#fdca26"
             ],
             [
              1,
              "#f0f921"
             ]
            ],
            "type": "heatmap"
           }
          ],
          "heatmapgl": [
           {
            "colorbar": {
             "outlinewidth": 0,
             "ticks": ""
            },
            "colorscale": [
             [
              0,
              "#0d0887"
             ],
             [
              0.1111111111111111,
              "#46039f"
             ],
             [
              0.2222222222222222,
              "#7201a8"
             ],
             [
              0.3333333333333333,
              "#9c179e"
             ],
             [
              0.4444444444444444,
              "#bd3786"
             ],
             [
              0.5555555555555556,
              "#d8576b"
             ],
             [
              0.6666666666666666,
              "#ed7953"
             ],
             [
              0.7777777777777778,
              "#fb9f3a"
             ],
             [
              0.8888888888888888,
              "#fdca26"
             ],
             [
              1,
              "#f0f921"
             ]
            ],
            "type": "heatmapgl"
           }
          ],
          "histogram": [
           {
            "marker": {
             "pattern": {
              "fillmode": "overlay",
              "size": 10,
              "solidity": 0.2
             }
            },
            "type": "histogram"
           }
          ],
          "histogram2d": [
           {
            "colorbar": {
             "outlinewidth": 0,
             "ticks": ""
            },
            "colorscale": [
             [
              0,
              "#0d0887"
             ],
             [
              0.1111111111111111,
              "#46039f"
             ],
             [
              0.2222222222222222,
              "#7201a8"
             ],
             [
              0.3333333333333333,
              "#9c179e"
             ],
             [
              0.4444444444444444,
              "#bd3786"
             ],
             [
              0.5555555555555556,
              "#d8576b"
             ],
             [
              0.6666666666666666,
              "#ed7953"
             ],
             [
              0.7777777777777778,
              "#fb9f3a"
             ],
             [
              0.8888888888888888,
              "#fdca26"
             ],
             [
              1,
              "#f0f921"
             ]
            ],
            "type": "histogram2d"
           }
          ],
          "histogram2dcontour": [
           {
            "colorbar": {
             "outlinewidth": 0,
             "ticks": ""
            },
            "colorscale": [
             [
              0,
              "#0d0887"
             ],
             [
              0.1111111111111111,
              "#46039f"
             ],
             [
              0.2222222222222222,
              "#7201a8"
             ],
             [
              0.3333333333333333,
              "#9c179e"
             ],
             [
              0.4444444444444444,
              "#bd3786"
             ],
             [
              0.5555555555555556,
              "#d8576b"
             ],
             [
              0.6666666666666666,
              "#ed7953"
             ],
             [
              0.7777777777777778,
              "#fb9f3a"
             ],
             [
              0.8888888888888888,
              "#fdca26"
             ],
             [
              1,
              "#f0f921"
             ]
            ],
            "type": "histogram2dcontour"
           }
          ],
          "mesh3d": [
           {
            "colorbar": {
             "outlinewidth": 0,
             "ticks": ""
            },
            "type": "mesh3d"
           }
          ],
          "parcoords": [
           {
            "line": {
             "colorbar": {
              "outlinewidth": 0,
              "ticks": ""
             }
            },
            "type": "parcoords"
           }
          ],
          "pie": [
           {
            "automargin": true,
            "type": "pie"
           }
          ],
          "scatter": [
           {
            "marker": {
             "line": {
              "color": "#283442"
             }
            },
            "type": "scatter"
           }
          ],
          "scatter3d": [
           {
            "line": {
             "colorbar": {
              "outlinewidth": 0,
              "ticks": ""
             }
            },
            "marker": {
             "colorbar": {
              "outlinewidth": 0,
              "ticks": ""
             }
            },
            "type": "scatter3d"
           }
          ],
          "scattercarpet": [
           {
            "marker": {
             "colorbar": {
              "outlinewidth": 0,
              "ticks": ""
             }
            },
            "type": "scattercarpet"
           }
          ],
          "scattergeo": [
           {
            "marker": {
             "colorbar": {
              "outlinewidth": 0,
              "ticks": ""
             }
            },
            "type": "scattergeo"
           }
          ],
          "scattergl": [
           {
            "marker": {
             "line": {
              "color": "#283442"
             }
            },
            "type": "scattergl"
           }
          ],
          "scattermapbox": [
           {
            "marker": {
             "colorbar": {
              "outlinewidth": 0,
              "ticks": ""
             }
            },
            "type": "scattermapbox"
           }
          ],
          "scatterpolar": [
           {
            "marker": {
             "colorbar": {
              "outlinewidth": 0,
              "ticks": ""
             }
            },
            "type": "scatterpolar"
           }
          ],
          "scatterpolargl": [
           {
            "marker": {
             "colorbar": {
              "outlinewidth": 0,
              "ticks": ""
             }
            },
            "type": "scatterpolargl"
           }
          ],
          "scatterternary": [
           {
            "marker": {
             "colorbar": {
              "outlinewidth": 0,
              "ticks": ""
             }
            },
            "type": "scatterternary"
           }
          ],
          "surface": [
           {
            "colorbar": {
             "outlinewidth": 0,
             "ticks": ""
            },
            "colorscale": [
             [
              0,
              "#0d0887"
             ],
             [
              0.1111111111111111,
              "#46039f"
             ],
             [
              0.2222222222222222,
              "#7201a8"
             ],
             [
              0.3333333333333333,
              "#9c179e"
             ],
             [
              0.4444444444444444,
              "#bd3786"
             ],
             [
              0.5555555555555556,
              "#d8576b"
             ],
             [
              0.6666666666666666,
              "#ed7953"
             ],
             [
              0.7777777777777778,
              "#fb9f3a"
             ],
             [
              0.8888888888888888,
              "#fdca26"
             ],
             [
              1,
              "#f0f921"
             ]
            ],
            "type": "surface"
           }
          ],
          "table": [
           {
            "cells": {
             "fill": {
              "color": "#506784"
             },
             "line": {
              "color": "rgb(17,17,17)"
             }
            },
            "header": {
             "fill": {
              "color": "#2a3f5f"
             },
             "line": {
              "color": "rgb(17,17,17)"
             }
            },
            "type": "table"
           }
          ]
         },
         "layout": {
          "annotationdefaults": {
           "arrowcolor": "#f2f5fa",
           "arrowhead": 0,
           "arrowwidth": 1
          },
          "autotypenumbers": "strict",
          "coloraxis": {
           "colorbar": {
            "outlinewidth": 0,
            "ticks": ""
           }
          },
          "colorscale": {
           "diverging": [
            [
             0,
             "#8e0152"
            ],
            [
             0.1,
             "#c51b7d"
            ],
            [
             0.2,
             "#de77ae"
            ],
            [
             0.3,
             "#f1b6da"
            ],
            [
             0.4,
             "#fde0ef"
            ],
            [
             0.5,
             "#f7f7f7"
            ],
            [
             0.6,
             "#e6f5d0"
            ],
            [
             0.7,
             "#b8e186"
            ],
            [
             0.8,
             "#7fbc41"
            ],
            [
             0.9,
             "#4d9221"
            ],
            [
             1,
             "#276419"
            ]
           ],
           "sequential": [
            [
             0,
             "#0d0887"
            ],
            [
             0.1111111111111111,
             "#46039f"
            ],
            [
             0.2222222222222222,
             "#7201a8"
            ],
            [
             0.3333333333333333,
             "#9c179e"
            ],
            [
             0.4444444444444444,
             "#bd3786"
            ],
            [
             0.5555555555555556,
             "#d8576b"
            ],
            [
             0.6666666666666666,
             "#ed7953"
            ],
            [
             0.7777777777777778,
             "#fb9f3a"
            ],
            [
             0.8888888888888888,
             "#fdca26"
            ],
            [
             1,
             "#f0f921"
            ]
           ],
           "sequentialminus": [
            [
             0,
             "#0d0887"
            ],
            [
             0.1111111111111111,
             "#46039f"
            ],
            [
             0.2222222222222222,
             "#7201a8"
            ],
            [
             0.3333333333333333,
             "#9c179e"
            ],
            [
             0.4444444444444444,
             "#bd3786"
            ],
            [
             0.5555555555555556,
             "#d8576b"
            ],
            [
             0.6666666666666666,
             "#ed7953"
            ],
            [
             0.7777777777777778,
             "#fb9f3a"
            ],
            [
             0.8888888888888888,
             "#fdca26"
            ],
            [
             1,
             "#f0f921"
            ]
           ]
          },
          "colorway": [
           "#636efa",
           "#EF553B",
           "#00cc96",
           "#ab63fa",
           "#FFA15A",
           "#19d3f3",
           "#FF6692",
           "#B6E880",
           "#FF97FF",
           "#FECB52"
          ],
          "font": {
           "color": "#f2f5fa"
          },
          "geo": {
           "bgcolor": "rgb(17,17,17)",
           "lakecolor": "rgb(17,17,17)",
           "landcolor": "rgb(17,17,17)",
           "showlakes": true,
           "showland": true,
           "subunitcolor": "#506784"
          },
          "hoverlabel": {
           "align": "left"
          },
          "hovermode": "closest",
          "mapbox": {
           "style": "dark"
          },
          "paper_bgcolor": "rgb(17,17,17)",
          "plot_bgcolor": "rgb(17,17,17)",
          "polar": {
           "angularaxis": {
            "gridcolor": "#506784",
            "linecolor": "#506784",
            "ticks": ""
           },
           "bgcolor": "rgb(17,17,17)",
           "radialaxis": {
            "gridcolor": "#506784",
            "linecolor": "#506784",
            "ticks": ""
           }
          },
          "scene": {
           "xaxis": {
            "backgroundcolor": "rgb(17,17,17)",
            "gridcolor": "#506784",
            "gridwidth": 2,
            "linecolor": "#506784",
            "showbackground": true,
            "ticks": "",
            "zerolinecolor": "#C8D4E3"
           },
           "yaxis": {
            "backgroundcolor": "rgb(17,17,17)",
            "gridcolor": "#506784",
            "gridwidth": 2,
            "linecolor": "#506784",
            "showbackground": true,
            "ticks": "",
            "zerolinecolor": "#C8D4E3"
           },
           "zaxis": {
            "backgroundcolor": "rgb(17,17,17)",
            "gridcolor": "#506784",
            "gridwidth": 2,
            "linecolor": "#506784",
            "showbackground": true,
            "ticks": "",
            "zerolinecolor": "#C8D4E3"
           }
          },
          "shapedefaults": {
           "line": {
            "color": "#f2f5fa"
           }
          },
          "sliderdefaults": {
           "bgcolor": "#C8D4E3",
           "bordercolor": "rgb(17,17,17)",
           "borderwidth": 1,
           "tickwidth": 0
          },
          "ternary": {
           "aaxis": {
            "gridcolor": "#506784",
            "linecolor": "#506784",
            "ticks": ""
           },
           "baxis": {
            "gridcolor": "#506784",
            "linecolor": "#506784",
            "ticks": ""
           },
           "bgcolor": "rgb(17,17,17)",
           "caxis": {
            "gridcolor": "#506784",
            "linecolor": "#506784",
            "ticks": ""
           }
          },
          "title": {
           "x": 0.05
          },
          "updatemenudefaults": {
           "bgcolor": "#506784",
           "borderwidth": 0
          },
          "xaxis": {
           "automargin": true,
           "gridcolor": "#283442",
           "linecolor": "#506784",
           "ticks": "",
           "title": {
            "standoff": 15
           },
           "zerolinecolor": "#283442",
           "zerolinewidth": 2
          },
          "yaxis": {
           "automargin": true,
           "gridcolor": "#283442",
           "linecolor": "#506784",
           "ticks": "",
           "title": {
            "standoff": 15
           },
           "zerolinecolor": "#283442",
           "zerolinewidth": 2
          }
         }
        },
        "title": {
         "text": "Raw Data vs Low-pass Filtered Data"
        },
        "xaxis": {
         "title": {
          "text": "Index"
         }
        },
        "yaxis": {
         "title": {
          "text": "Value"
         }
        }
       }
      }
     },
     "metadata": {},
     "output_type": "display_data"
    }
   ],
   "source": [
    "fig = go.Figure()\n",
    "\n",
    "# Plot raw data\n",
    "fig.add_trace(go.Scatter(x=subset_df.index, y=subset_df[\"mean_xc\"], mode='lines', name=\"Raw Data\", line=dict(color='blue')))\n",
    "\n",
    "# Plot low-pass filtered data\n",
    "fig.add_trace(go.Scatter(x=subset_df.index, y=subset_df[\"mean_xc_lowpass\"], mode='lines', name=\"Butterworth\", line=dict(color='orange')))\n",
    "\n",
    "# Update layout for better readability\n",
    "fig.update_layout(\n",
    "    title=\"Raw Data vs Low-pass Filtered Data\",\n",
    "    xaxis_title=\"Index\",\n",
    "    yaxis_title=\"Value\",\n",
    "    template='plotly_dark',\n",
    "    legend=dict(x=0.5, y=1.15, orientation='h', bgcolor='rgba(255, 255, 255, 0)', bordercolor='rgba(255, 255, 255, 0)'),\n",
    "    margin=dict(l=0, r=0, t=50, b=0),  # Adjust margin for title visibility\n",
    ")\n",
    "\n",
    "# Show the plot\n",
    "fig.show()\n"
   ]
  },
  {
   "cell_type": "code",
   "execution_count": 35,
   "metadata": {},
   "outputs": [],
   "source": [
    "# Loop over all columns to apply low-pass filter\n",
    "for col in predicator_columns:\n",
    "    df_butter = PassFilter.apply_low_pass_filter(df_butter, col, fs, cutoff)\n",
    "    # overwrite the original column with the low-pass filtered column\n",
    "    df_butter[col] = df_butter[col + \"_lowpass\"]\n",
    "    del df_butter[col + \"_lowpass\"]"
   ]
  },
  {
   "cell_type": "code",
   "execution_count": 36,
   "metadata": {},
   "outputs": [
    {
     "data": {
      "text/html": [
       "<div>\n",
       "<style scoped>\n",
       "    .dataframe tbody tr th:only-of-type {\n",
       "        vertical-align: middle;\n",
       "    }\n",
       "\n",
       "    .dataframe tbody tr th {\n",
       "        vertical-align: top;\n",
       "    }\n",
       "\n",
       "    .dataframe thead th {\n",
       "        text-align: right;\n",
       "    }\n",
       "</style>\n",
       "<table border=\"1\" class=\"dataframe\">\n",
       "  <thead>\n",
       "    <tr style=\"text-align: right;\">\n",
       "      <th></th>\n",
       "      <th>mean_xc</th>\n",
       "      <th>mean_yc</th>\n",
       "      <th>mean_zc</th>\n",
       "      <th>mean_xg</th>\n",
       "      <th>mean_yg</th>\n",
       "      <th>mean_zg</th>\n",
       "      <th>posture</th>\n",
       "      <th>types</th>\n",
       "      <th>specimen</th>\n",
       "      <th>set</th>\n",
       "      <th>duration_time</th>\n",
       "    </tr>\n",
       "    <tr>\n",
       "      <th>time</th>\n",
       "      <th></th>\n",
       "      <th></th>\n",
       "      <th></th>\n",
       "      <th></th>\n",
       "      <th></th>\n",
       "      <th></th>\n",
       "      <th></th>\n",
       "      <th></th>\n",
       "      <th></th>\n",
       "      <th></th>\n",
       "      <th></th>\n",
       "    </tr>\n",
       "  </thead>\n",
       "  <tbody>\n",
       "    <tr>\n",
       "      <th>2024-02-11 17:08:05.200</th>\n",
       "      <td>0.013496</td>\n",
       "      <td>0.977014</td>\n",
       "      <td>-0.071002</td>\n",
       "      <td>-1.891570</td>\n",
       "      <td>2.438321</td>\n",
       "      <td>0.937917</td>\n",
       "      <td>bench</td>\n",
       "      <td>heavy</td>\n",
       "      <td>B</td>\n",
       "      <td>64.0</td>\n",
       "      <td>16.0</td>\n",
       "    </tr>\n",
       "    <tr>\n",
       "      <th>2024-02-11 17:08:05.400</th>\n",
       "      <td>0.008260</td>\n",
       "      <td>0.965687</td>\n",
       "      <td>-0.066392</td>\n",
       "      <td>0.744158</td>\n",
       "      <td>0.512027</td>\n",
       "      <td>0.769823</td>\n",
       "      <td>bench</td>\n",
       "      <td>heavy</td>\n",
       "      <td>B</td>\n",
       "      <td>64.0</td>\n",
       "      <td>16.0</td>\n",
       "    </tr>\n",
       "    <tr>\n",
       "      <th>2024-02-11 17:08:05.600</th>\n",
       "      <td>-0.008713</td>\n",
       "      <td>0.964964</td>\n",
       "      <td>-0.072315</td>\n",
       "      <td>3.729410</td>\n",
       "      <td>-2.209350</td>\n",
       "      <td>-1.100146</td>\n",
       "      <td>bench</td>\n",
       "      <td>heavy</td>\n",
       "      <td>B</td>\n",
       "      <td>64.0</td>\n",
       "      <td>16.0</td>\n",
       "    </tr>\n",
       "    <tr>\n",
       "      <th>2024-02-11 17:08:05.800</th>\n",
       "      <td>-0.024124</td>\n",
       "      <td>0.973185</td>\n",
       "      <td>-0.084830</td>\n",
       "      <td>3.502448</td>\n",
       "      <td>-3.556205</td>\n",
       "      <td>-1.863756</td>\n",
       "      <td>bench</td>\n",
       "      <td>heavy</td>\n",
       "      <td>B</td>\n",
       "      <td>64.0</td>\n",
       "      <td>16.0</td>\n",
       "    </tr>\n",
       "    <tr>\n",
       "      <th>2024-02-11 17:08:06.000</th>\n",
       "      <td>-0.021642</td>\n",
       "      <td>0.963600</td>\n",
       "      <td>-0.095993</td>\n",
       "      <td>2.250385</td>\n",
       "      <td>-0.890134</td>\n",
       "      <td>-1.990244</td>\n",
       "      <td>bench</td>\n",
       "      <td>heavy</td>\n",
       "      <td>B</td>\n",
       "      <td>64.0</td>\n",
       "      <td>16.0</td>\n",
       "    </tr>\n",
       "    <tr>\n",
       "      <th>...</th>\n",
       "      <td>...</td>\n",
       "      <td>...</td>\n",
       "      <td>...</td>\n",
       "      <td>...</td>\n",
       "      <td>...</td>\n",
       "      <td>...</td>\n",
       "      <td>...</td>\n",
       "      <td>...</td>\n",
       "      <td>...</td>\n",
       "      <td>...</td>\n",
       "      <td>...</td>\n",
       "    </tr>\n",
       "    <tr>\n",
       "      <th>2024-02-20 19:33:27.000</th>\n",
       "      <td>-0.043888</td>\n",
       "      <td>-0.983254</td>\n",
       "      <td>-0.062298</td>\n",
       "      <td>2.477314</td>\n",
       "      <td>-4.130471</td>\n",
       "      <td>0.211078</td>\n",
       "      <td>row</td>\n",
       "      <td>medium</td>\n",
       "      <td>E</td>\n",
       "      <td>71.0</td>\n",
       "      <td>19.0</td>\n",
       "    </tr>\n",
       "    <tr>\n",
       "      <th>2024-02-20 19:33:27.200</th>\n",
       "      <td>-0.041612</td>\n",
       "      <td>-1.045090</td>\n",
       "      <td>-0.060838</td>\n",
       "      <td>-1.825996</td>\n",
       "      <td>-2.528451</td>\n",
       "      <td>1.485679</td>\n",
       "      <td>row</td>\n",
       "      <td>medium</td>\n",
       "      <td>E</td>\n",
       "      <td>71.0</td>\n",
       "      <td>19.0</td>\n",
       "    </tr>\n",
       "    <tr>\n",
       "      <th>2024-02-20 19:33:27.400</th>\n",
       "      <td>-0.047711</td>\n",
       "      <td>-1.047383</td>\n",
       "      <td>-0.066148</td>\n",
       "      <td>-0.261306</td>\n",
       "      <td>-1.974637</td>\n",
       "      <td>1.149337</td>\n",
       "      <td>row</td>\n",
       "      <td>medium</td>\n",
       "      <td>E</td>\n",
       "      <td>71.0</td>\n",
       "      <td>19.0</td>\n",
       "    </tr>\n",
       "    <tr>\n",
       "      <th>2024-02-20 19:33:27.600</th>\n",
       "      <td>-0.050471</td>\n",
       "      <td>-1.017967</td>\n",
       "      <td>-0.063349</td>\n",
       "      <td>2.227568</td>\n",
       "      <td>-2.549377</td>\n",
       "      <td>0.387236</td>\n",
       "      <td>row</td>\n",
       "      <td>medium</td>\n",
       "      <td>E</td>\n",
       "      <td>71.0</td>\n",
       "      <td>19.0</td>\n",
       "    </tr>\n",
       "    <tr>\n",
       "      <th>2024-02-20 19:33:27.800</th>\n",
       "      <td>-0.043991</td>\n",
       "      <td>-1.034417</td>\n",
       "      <td>-0.059074</td>\n",
       "      <td>1.072511</td>\n",
       "      <td>-4.002062</td>\n",
       "      <td>0.984379</td>\n",
       "      <td>row</td>\n",
       "      <td>medium</td>\n",
       "      <td>E</td>\n",
       "      <td>71.0</td>\n",
       "      <td>19.0</td>\n",
       "    </tr>\n",
       "  </tbody>\n",
       "</table>\n",
       "<p>9009 rows × 11 columns</p>\n",
       "</div>"
      ],
      "text/plain": [
       "                          mean_xc   mean_yc   mean_zc   mean_xg   mean_yg  \\\n",
       "time                                                                        \n",
       "2024-02-11 17:08:05.200  0.013496  0.977014 -0.071002 -1.891570  2.438321   \n",
       "2024-02-11 17:08:05.400  0.008260  0.965687 -0.066392  0.744158  0.512027   \n",
       "2024-02-11 17:08:05.600 -0.008713  0.964964 -0.072315  3.729410 -2.209350   \n",
       "2024-02-11 17:08:05.800 -0.024124  0.973185 -0.084830  3.502448 -3.556205   \n",
       "2024-02-11 17:08:06.000 -0.021642  0.963600 -0.095993  2.250385 -0.890134   \n",
       "...                           ...       ...       ...       ...       ...   \n",
       "2024-02-20 19:33:27.000 -0.043888 -0.983254 -0.062298  2.477314 -4.130471   \n",
       "2024-02-20 19:33:27.200 -0.041612 -1.045090 -0.060838 -1.825996 -2.528451   \n",
       "2024-02-20 19:33:27.400 -0.047711 -1.047383 -0.066148 -0.261306 -1.974637   \n",
       "2024-02-20 19:33:27.600 -0.050471 -1.017967 -0.063349  2.227568 -2.549377   \n",
       "2024-02-20 19:33:27.800 -0.043991 -1.034417 -0.059074  1.072511 -4.002062   \n",
       "\n",
       "                          mean_zg posture   types specimen    set  \\\n",
       "time                                                                \n",
       "2024-02-11 17:08:05.200  0.937917   bench   heavy         B  64.0   \n",
       "2024-02-11 17:08:05.400  0.769823   bench   heavy         B  64.0   \n",
       "2024-02-11 17:08:05.600 -1.100146   bench   heavy         B  64.0   \n",
       "2024-02-11 17:08:05.800 -1.863756   bench   heavy         B  64.0   \n",
       "2024-02-11 17:08:06.000 -1.990244   bench   heavy         B  64.0   \n",
       "...                           ...     ...     ...       ...   ...   \n",
       "2024-02-20 19:33:27.000  0.211078     row  medium         E  71.0   \n",
       "2024-02-20 19:33:27.200  1.485679     row  medium         E  71.0   \n",
       "2024-02-20 19:33:27.400  1.149337     row  medium         E  71.0   \n",
       "2024-02-20 19:33:27.600  0.387236     row  medium         E  71.0   \n",
       "2024-02-20 19:33:27.800  0.984379     row  medium         E  71.0   \n",
       "\n",
       "                         duration_time  \n",
       "time                                    \n",
       "2024-02-11 17:08:05.200           16.0  \n",
       "2024-02-11 17:08:05.400           16.0  \n",
       "2024-02-11 17:08:05.600           16.0  \n",
       "2024-02-11 17:08:05.800           16.0  \n",
       "2024-02-11 17:08:06.000           16.0  \n",
       "...                                ...  \n",
       "2024-02-20 19:33:27.000           19.0  \n",
       "2024-02-20 19:33:27.200           19.0  \n",
       "2024-02-20 19:33:27.400           19.0  \n",
       "2024-02-20 19:33:27.600           19.0  \n",
       "2024-02-20 19:33:27.800           19.0  \n",
       "\n",
       "[9009 rows x 11 columns]"
      ]
     },
     "execution_count": 36,
     "metadata": {},
     "output_type": "execute_result"
    }
   ],
   "source": [
    "df_butter"
   ]
  },
  {
   "cell_type": "markdown",
   "metadata": {},
   "source": [
    "-----"
   ]
  },
  {
   "cell_type": "markdown",
   "metadata": {},
   "source": [
    "# **Principal Component Analysis (PCA):**"
   ]
  },
  {
   "cell_type": "code",
   "execution_count": 37,
   "metadata": {},
   "outputs": [],
   "source": [
    "PCA = PrincipalComponentAnalysis()\n",
    "df_pca = df_butter.copy()"
   ]
  },
  {
   "cell_type": "code",
   "execution_count": 38,
   "metadata": {},
   "outputs": [
    {
     "data": {
      "text/plain": [
       "array([5.45891542e-01, 2.87930042e-01, 1.63988872e-01, 1.82277593e-03,\n",
       "       2.81675267e-04, 8.50921262e-05])"
      ]
     },
     "execution_count": 38,
     "metadata": {},
     "output_type": "execute_result"
    }
   ],
   "source": [
    "pca_val = PCA.determine_pc_explained_variance(df_pca, predicator_columns)\n",
    "pca_val"
   ]
  },
  {
   "cell_type": "markdown",
   "metadata": {},
   "source": [
    "## elbow method:"
   ]
  },
  {
   "cell_type": "code",
   "execution_count": 44,
   "metadata": {},
   "outputs": [
    {
     "data": {
      "application/vnd.plotly.v1+json": {
       "config": {
        "plotlyServerURL": "https://plot.ly"
       },
       "data": [
        {
         "mode": "lines",
         "type": "scatter",
         "x": [
          0,
          1,
          2,
          3,
          4,
          5,
          6
         ],
         "y": [
          0.5458915421839365,
          0.28793004221539886,
          0.1639888722751288,
          0.0018227759323291885,
          0.00028167526696427583,
          0.00008509212624225755
         ]
        }
       ],
       "layout": {
        "template": {
         "data": {
          "bar": [
           {
            "error_x": {
             "color": "#f2f5fa"
            },
            "error_y": {
             "color": "#f2f5fa"
            },
            "marker": {
             "line": {
              "color": "rgb(17,17,17)",
              "width": 0.5
             },
             "pattern": {
              "fillmode": "overlay",
              "size": 10,
              "solidity": 0.2
             }
            },
            "type": "bar"
           }
          ],
          "barpolar": [
           {
            "marker": {
             "line": {
              "color": "rgb(17,17,17)",
              "width": 0.5
             },
             "pattern": {
              "fillmode": "overlay",
              "size": 10,
              "solidity": 0.2
             }
            },
            "type": "barpolar"
           }
          ],
          "carpet": [
           {
            "aaxis": {
             "endlinecolor": "#A2B1C6",
             "gridcolor": "#506784",
             "linecolor": "#506784",
             "minorgridcolor": "#506784",
             "startlinecolor": "#A2B1C6"
            },
            "baxis": {
             "endlinecolor": "#A2B1C6",
             "gridcolor": "#506784",
             "linecolor": "#506784",
             "minorgridcolor": "#506784",
             "startlinecolor": "#A2B1C6"
            },
            "type": "carpet"
           }
          ],
          "choropleth": [
           {
            "colorbar": {
             "outlinewidth": 0,
             "ticks": ""
            },
            "type": "choropleth"
           }
          ],
          "contour": [
           {
            "colorbar": {
             "outlinewidth": 0,
             "ticks": ""
            },
            "colorscale": [
             [
              0,
              "#0d0887"
             ],
             [
              0.1111111111111111,
              "#46039f"
             ],
             [
              0.2222222222222222,
              "#7201a8"
             ],
             [
              0.3333333333333333,
              "#9c179e"
             ],
             [
              0.4444444444444444,
              "#bd3786"
             ],
             [
              0.5555555555555556,
              "#d8576b"
             ],
             [
              0.6666666666666666,
              "#ed7953"
             ],
             [
              0.7777777777777778,
              "#fb9f3a"
             ],
             [
              0.8888888888888888,
              "#fdca26"
             ],
             [
              1,
              "#f0f921"
             ]
            ],
            "type": "contour"
           }
          ],
          "contourcarpet": [
           {
            "colorbar": {
             "outlinewidth": 0,
             "ticks": ""
            },
            "type": "contourcarpet"
           }
          ],
          "heatmap": [
           {
            "colorbar": {
             "outlinewidth": 0,
             "ticks": ""
            },
            "colorscale": [
             [
              0,
              "#0d0887"
             ],
             [
              0.1111111111111111,
              "#46039f"
             ],
             [
              0.2222222222222222,
              "#7201a8"
             ],
             [
              0.3333333333333333,
              "#9c179e"
             ],
             [
              0.4444444444444444,
              "#bd3786"
             ],
             [
              0.5555555555555556,
              "#d8576b"
             ],
             [
              0.6666666666666666,
              "#ed7953"
             ],
             [
              0.7777777777777778,
              "#fb9f3a"
             ],
             [
              0.8888888888888888,
              "#fdca26"
             ],
             [
              1,
              "#f0f921"
             ]
            ],
            "type": "heatmap"
           }
          ],
          "heatmapgl": [
           {
            "colorbar": {
             "outlinewidth": 0,
             "ticks": ""
            },
            "colorscale": [
             [
              0,
              "#0d0887"
             ],
             [
              0.1111111111111111,
              "#46039f"
             ],
             [
              0.2222222222222222,
              "#7201a8"
             ],
             [
              0.3333333333333333,
              "#9c179e"
             ],
             [
              0.4444444444444444,
              "#bd3786"
             ],
             [
              0.5555555555555556,
              "#d8576b"
             ],
             [
              0.6666666666666666,
              "#ed7953"
             ],
             [
              0.7777777777777778,
              "#fb9f3a"
             ],
             [
              0.8888888888888888,
              "#fdca26"
             ],
             [
              1,
              "#f0f921"
             ]
            ],
            "type": "heatmapgl"
           }
          ],
          "histogram": [
           {
            "marker": {
             "pattern": {
              "fillmode": "overlay",
              "size": 10,
              "solidity": 0.2
             }
            },
            "type": "histogram"
           }
          ],
          "histogram2d": [
           {
            "colorbar": {
             "outlinewidth": 0,
             "ticks": ""
            },
            "colorscale": [
             [
              0,
              "#0d0887"
             ],
             [
              0.1111111111111111,
              "#46039f"
             ],
             [
              0.2222222222222222,
              "#7201a8"
             ],
             [
              0.3333333333333333,
              "#9c179e"
             ],
             [
              0.4444444444444444,
              "#bd3786"
             ],
             [
              0.5555555555555556,
              "#d8576b"
             ],
             [
              0.6666666666666666,
              "#ed7953"
             ],
             [
              0.7777777777777778,
              "#fb9f3a"
             ],
             [
              0.8888888888888888,
              "#fdca26"
             ],
             [
              1,
              "#f0f921"
             ]
            ],
            "type": "histogram2d"
           }
          ],
          "histogram2dcontour": [
           {
            "colorbar": {
             "outlinewidth": 0,
             "ticks": ""
            },
            "colorscale": [
             [
              0,
              "#0d0887"
             ],
             [
              0.1111111111111111,
              "#46039f"
             ],
             [
              0.2222222222222222,
              "#7201a8"
             ],
             [
              0.3333333333333333,
              "#9c179e"
             ],
             [
              0.4444444444444444,
              "#bd3786"
             ],
             [
              0.5555555555555556,
              "#d8576b"
             ],
             [
              0.6666666666666666,
              "#ed7953"
             ],
             [
              0.7777777777777778,
              "#fb9f3a"
             ],
             [
              0.8888888888888888,
              "#fdca26"
             ],
             [
              1,
              "#f0f921"
             ]
            ],
            "type": "histogram2dcontour"
           }
          ],
          "mesh3d": [
           {
            "colorbar": {
             "outlinewidth": 0,
             "ticks": ""
            },
            "type": "mesh3d"
           }
          ],
          "parcoords": [
           {
            "line": {
             "colorbar": {
              "outlinewidth": 0,
              "ticks": ""
             }
            },
            "type": "parcoords"
           }
          ],
          "pie": [
           {
            "automargin": true,
            "type": "pie"
           }
          ],
          "scatter": [
           {
            "marker": {
             "line": {
              "color": "#283442"
             }
            },
            "type": "scatter"
           }
          ],
          "scatter3d": [
           {
            "line": {
             "colorbar": {
              "outlinewidth": 0,
              "ticks": ""
             }
            },
            "marker": {
             "colorbar": {
              "outlinewidth": 0,
              "ticks": ""
             }
            },
            "type": "scatter3d"
           }
          ],
          "scattercarpet": [
           {
            "marker": {
             "colorbar": {
              "outlinewidth": 0,
              "ticks": ""
             }
            },
            "type": "scattercarpet"
           }
          ],
          "scattergeo": [
           {
            "marker": {
             "colorbar": {
              "outlinewidth": 0,
              "ticks": ""
             }
            },
            "type": "scattergeo"
           }
          ],
          "scattergl": [
           {
            "marker": {
             "line": {
              "color": "#283442"
             }
            },
            "type": "scattergl"
           }
          ],
          "scattermapbox": [
           {
            "marker": {
             "colorbar": {
              "outlinewidth": 0,
              "ticks": ""
             }
            },
            "type": "scattermapbox"
           }
          ],
          "scatterpolar": [
           {
            "marker": {
             "colorbar": {
              "outlinewidth": 0,
              "ticks": ""
             }
            },
            "type": "scatterpolar"
           }
          ],
          "scatterpolargl": [
           {
            "marker": {
             "colorbar": {
              "outlinewidth": 0,
              "ticks": ""
             }
            },
            "type": "scatterpolargl"
           }
          ],
          "scatterternary": [
           {
            "marker": {
             "colorbar": {
              "outlinewidth": 0,
              "ticks": ""
             }
            },
            "type": "scatterternary"
           }
          ],
          "surface": [
           {
            "colorbar": {
             "outlinewidth": 0,
             "ticks": ""
            },
            "colorscale": [
             [
              0,
              "#0d0887"
             ],
             [
              0.1111111111111111,
              "#46039f"
             ],
             [
              0.2222222222222222,
              "#7201a8"
             ],
             [
              0.3333333333333333,
              "#9c179e"
             ],
             [
              0.4444444444444444,
              "#bd3786"
             ],
             [
              0.5555555555555556,
              "#d8576b"
             ],
             [
              0.6666666666666666,
              "#ed7953"
             ],
             [
              0.7777777777777778,
              "#fb9f3a"
             ],
             [
              0.8888888888888888,
              "#fdca26"
             ],
             [
              1,
              "#f0f921"
             ]
            ],
            "type": "surface"
           }
          ],
          "table": [
           {
            "cells": {
             "fill": {
              "color": "#506784"
             },
             "line": {
              "color": "rgb(17,17,17)"
             }
            },
            "header": {
             "fill": {
              "color": "#2a3f5f"
             },
             "line": {
              "color": "rgb(17,17,17)"
             }
            },
            "type": "table"
           }
          ]
         },
         "layout": {
          "annotationdefaults": {
           "arrowcolor": "#f2f5fa",
           "arrowhead": 0,
           "arrowwidth": 1
          },
          "autotypenumbers": "strict",
          "coloraxis": {
           "colorbar": {
            "outlinewidth": 0,
            "ticks": ""
           }
          },
          "colorscale": {
           "diverging": [
            [
             0,
             "#8e0152"
            ],
            [
             0.1,
             "#c51b7d"
            ],
            [
             0.2,
             "#de77ae"
            ],
            [
             0.3,
             "#f1b6da"
            ],
            [
             0.4,
             "#fde0ef"
            ],
            [
             0.5,
             "#f7f7f7"
            ],
            [
             0.6,
             "#e6f5d0"
            ],
            [
             0.7,
             "#b8e186"
            ],
            [
             0.8,
             "#7fbc41"
            ],
            [
             0.9,
             "#4d9221"
            ],
            [
             1,
             "#276419"
            ]
           ],
           "sequential": [
            [
             0,
             "#0d0887"
            ],
            [
             0.1111111111111111,
             "#46039f"
            ],
            [
             0.2222222222222222,
             "#7201a8"
            ],
            [
             0.3333333333333333,
             "#9c179e"
            ],
            [
             0.4444444444444444,
             "#bd3786"
            ],
            [
             0.5555555555555556,
             "#d8576b"
            ],
            [
             0.6666666666666666,
             "#ed7953"
            ],
            [
             0.7777777777777778,
             "#fb9f3a"
            ],
            [
             0.8888888888888888,
             "#fdca26"
            ],
            [
             1,
             "#f0f921"
            ]
           ],
           "sequentialminus": [
            [
             0,
             "#0d0887"
            ],
            [
             0.1111111111111111,
             "#46039f"
            ],
            [
             0.2222222222222222,
             "#7201a8"
            ],
            [
             0.3333333333333333,
             "#9c179e"
            ],
            [
             0.4444444444444444,
             "#bd3786"
            ],
            [
             0.5555555555555556,
             "#d8576b"
            ],
            [
             0.6666666666666666,
             "#ed7953"
            ],
            [
             0.7777777777777778,
             "#fb9f3a"
            ],
            [
             0.8888888888888888,
             "#fdca26"
            ],
            [
             1,
             "#f0f921"
            ]
           ]
          },
          "colorway": [
           "#636efa",
           "#EF553B",
           "#00cc96",
           "#ab63fa",
           "#FFA15A",
           "#19d3f3",
           "#FF6692",
           "#B6E880",
           "#FF97FF",
           "#FECB52"
          ],
          "font": {
           "color": "#f2f5fa"
          },
          "geo": {
           "bgcolor": "rgb(17,17,17)",
           "lakecolor": "rgb(17,17,17)",
           "landcolor": "rgb(17,17,17)",
           "showlakes": true,
           "showland": true,
           "subunitcolor": "#506784"
          },
          "hoverlabel": {
           "align": "left"
          },
          "hovermode": "closest",
          "mapbox": {
           "style": "dark"
          },
          "paper_bgcolor": "rgb(17,17,17)",
          "plot_bgcolor": "rgb(17,17,17)",
          "polar": {
           "angularaxis": {
            "gridcolor": "#506784",
            "linecolor": "#506784",
            "ticks": ""
           },
           "bgcolor": "rgb(17,17,17)",
           "radialaxis": {
            "gridcolor": "#506784",
            "linecolor": "#506784",
            "ticks": ""
           }
          },
          "scene": {
           "xaxis": {
            "backgroundcolor": "rgb(17,17,17)",
            "gridcolor": "#506784",
            "gridwidth": 2,
            "linecolor": "#506784",
            "showbackground": true,
            "ticks": "",
            "zerolinecolor": "#C8D4E3"
           },
           "yaxis": {
            "backgroundcolor": "rgb(17,17,17)",
            "gridcolor": "#506784",
            "gridwidth": 2,
            "linecolor": "#506784",
            "showbackground": true,
            "ticks": "",
            "zerolinecolor": "#C8D4E3"
           },
           "zaxis": {
            "backgroundcolor": "rgb(17,17,17)",
            "gridcolor": "#506784",
            "gridwidth": 2,
            "linecolor": "#506784",
            "showbackground": true,
            "ticks": "",
            "zerolinecolor": "#C8D4E3"
           }
          },
          "shapedefaults": {
           "line": {
            "color": "#f2f5fa"
           }
          },
          "sliderdefaults": {
           "bgcolor": "#C8D4E3",
           "bordercolor": "rgb(17,17,17)",
           "borderwidth": 1,
           "tickwidth": 0
          },
          "ternary": {
           "aaxis": {
            "gridcolor": "#506784",
            "linecolor": "#506784",
            "ticks": ""
           },
           "baxis": {
            "gridcolor": "#506784",
            "linecolor": "#506784",
            "ticks": ""
           },
           "bgcolor": "rgb(17,17,17)",
           "caxis": {
            "gridcolor": "#506784",
            "linecolor": "#506784",
            "ticks": ""
           }
          },
          "title": {
           "x": 0.05
          },
          "updatemenudefaults": {
           "bgcolor": "#506784",
           "borderwidth": 0
          },
          "xaxis": {
           "automargin": true,
           "gridcolor": "#283442",
           "linecolor": "#506784",
           "ticks": "",
           "title": {
            "standoff": 15
           },
           "zerolinecolor": "#283442",
           "zerolinewidth": 2
          },
          "yaxis": {
           "automargin": true,
           "gridcolor": "#283442",
           "linecolor": "#506784",
           "ticks": "",
           "title": {
            "standoff": 15
           },
           "zerolinecolor": "#283442",
           "zerolinewidth": 2
          }
         }
        },
        "title": {
         "text": "PCA Explained Variance"
        },
        "xaxis": {
         "title": {
          "text": "PCA Component"
         }
        },
        "yaxis": {
         "title": {
          "text": "Explained Variance"
         }
        }
       }
      }
     },
     "metadata": {},
     "output_type": "display_data"
    }
   ],
   "source": [
    "fig = go.Figure()\n",
    "# Plot PCA values\n",
    "fig.add_trace(go.Scatter(x=list(range(0, len(pca_val)+1)), y=pca_val, mode='lines'))\n",
    "# Update layout\n",
    "fig.update_layout(\n",
    "    title=\"PCA Explained Variance\",\n",
    "    xaxis_title=\"PCA Component\",\n",
    "    yaxis_title=\"Explained Variance\",\n",
    "    template='plotly_dark'\n",
    ")\n",
    "\n",
    "# Show plot\n",
    "fig.show()\n"
   ]
  },
  {
   "cell_type": "markdown",
   "metadata": {},
   "source": [
    "- We can see that the elbow point is at 3 (from here we can start to reduce the dimensionality of the data)"
   ]
  },
  {
   "cell_type": "code",
   "execution_count": 45,
   "metadata": {},
   "outputs": [
    {
     "data": {
      "text/html": [
       "<div>\n",
       "<style scoped>\n",
       "    .dataframe tbody tr th:only-of-type {\n",
       "        vertical-align: middle;\n",
       "    }\n",
       "\n",
       "    .dataframe tbody tr th {\n",
       "        vertical-align: top;\n",
       "    }\n",
       "\n",
       "    .dataframe thead th {\n",
       "        text-align: right;\n",
       "    }\n",
       "</style>\n",
       "<table border=\"1\" class=\"dataframe\">\n",
       "  <thead>\n",
       "    <tr style=\"text-align: right;\">\n",
       "      <th></th>\n",
       "      <th>mean_xc</th>\n",
       "      <th>mean_yc</th>\n",
       "      <th>mean_zc</th>\n",
       "      <th>mean_xg</th>\n",
       "      <th>mean_yg</th>\n",
       "      <th>mean_zg</th>\n",
       "      <th>posture</th>\n",
       "      <th>types</th>\n",
       "      <th>specimen</th>\n",
       "      <th>set</th>\n",
       "      <th>duration_time</th>\n",
       "      <th>pca_1</th>\n",
       "      <th>pca_2</th>\n",
       "      <th>pca_3</th>\n",
       "    </tr>\n",
       "    <tr>\n",
       "      <th>time</th>\n",
       "      <th></th>\n",
       "      <th></th>\n",
       "      <th></th>\n",
       "      <th></th>\n",
       "      <th></th>\n",
       "      <th></th>\n",
       "      <th></th>\n",
       "      <th></th>\n",
       "      <th></th>\n",
       "      <th></th>\n",
       "      <th></th>\n",
       "      <th></th>\n",
       "      <th></th>\n",
       "      <th></th>\n",
       "    </tr>\n",
       "  </thead>\n",
       "  <tbody>\n",
       "    <tr>\n",
       "      <th>2024-02-11 17:08:05.200</th>\n",
       "      <td>0.013496</td>\n",
       "      <td>0.977014</td>\n",
       "      <td>-0.071002</td>\n",
       "      <td>-1.891570</td>\n",
       "      <td>2.438321</td>\n",
       "      <td>0.937917</td>\n",
       "      <td>bench</td>\n",
       "      <td>heavy</td>\n",
       "      <td>B</td>\n",
       "      <td>64.0</td>\n",
       "      <td>16.0</td>\n",
       "      <td>-2.134776</td>\n",
       "      <td>-4.437109</td>\n",
       "      <td>1.623949</td>\n",
       "    </tr>\n",
       "    <tr>\n",
       "      <th>2024-02-11 17:08:05.400</th>\n",
       "      <td>0.008260</td>\n",
       "      <td>0.965687</td>\n",
       "      <td>-0.066392</td>\n",
       "      <td>0.744158</td>\n",
       "      <td>0.512027</td>\n",
       "      <td>0.769823</td>\n",
       "      <td>bench</td>\n",
       "      <td>heavy</td>\n",
       "      <td>B</td>\n",
       "      <td>64.0</td>\n",
       "      <td>16.0</td>\n",
       "      <td>0.050828</td>\n",
       "      <td>-2.010353</td>\n",
       "      <td>1.483171</td>\n",
       "    </tr>\n",
       "    <tr>\n",
       "      <th>2024-02-11 17:08:05.600</th>\n",
       "      <td>-0.008713</td>\n",
       "      <td>0.964964</td>\n",
       "      <td>-0.072315</td>\n",
       "      <td>3.729410</td>\n",
       "      <td>-2.209350</td>\n",
       "      <td>-1.100146</td>\n",
       "      <td>bench</td>\n",
       "      <td>heavy</td>\n",
       "      <td>B</td>\n",
       "      <td>64.0</td>\n",
       "      <td>16.0</td>\n",
       "      <td>3.466693</td>\n",
       "      <td>0.352307</td>\n",
       "      <td>-0.118136</td>\n",
       "    </tr>\n",
       "    <tr>\n",
       "      <th>2024-02-11 17:08:05.800</th>\n",
       "      <td>-0.024124</td>\n",
       "      <td>0.973185</td>\n",
       "      <td>-0.084830</td>\n",
       "      <td>3.502448</td>\n",
       "      <td>-3.556205</td>\n",
       "      <td>-1.863756</td>\n",
       "      <td>bench</td>\n",
       "      <td>heavy</td>\n",
       "      <td>B</td>\n",
       "      <td>64.0</td>\n",
       "      <td>16.0</td>\n",
       "      <td>3.667741</td>\n",
       "      <td>0.963988</td>\n",
       "      <td>-1.544392</td>\n",
       "    </tr>\n",
       "    <tr>\n",
       "      <th>2024-02-11 17:08:06.000</th>\n",
       "      <td>-0.021642</td>\n",
       "      <td>0.963600</td>\n",
       "      <td>-0.095993</td>\n",
       "      <td>2.250385</td>\n",
       "      <td>-0.890134</td>\n",
       "      <td>-1.990244</td>\n",
       "      <td>bench</td>\n",
       "      <td>heavy</td>\n",
       "      <td>B</td>\n",
       "      <td>64.0</td>\n",
       "      <td>16.0</td>\n",
       "      <td>2.811832</td>\n",
       "      <td>-1.674566</td>\n",
       "      <td>-0.545874</td>\n",
       "    </tr>\n",
       "    <tr>\n",
       "      <th>...</th>\n",
       "      <td>...</td>\n",
       "      <td>...</td>\n",
       "      <td>...</td>\n",
       "      <td>...</td>\n",
       "      <td>...</td>\n",
       "      <td>...</td>\n",
       "      <td>...</td>\n",
       "      <td>...</td>\n",
       "      <td>...</td>\n",
       "      <td>...</td>\n",
       "      <td>...</td>\n",
       "      <td>...</td>\n",
       "      <td>...</td>\n",
       "      <td>...</td>\n",
       "    </tr>\n",
       "    <tr>\n",
       "      <th>2024-02-20 19:33:27.000</th>\n",
       "      <td>-0.043888</td>\n",
       "      <td>-0.983254</td>\n",
       "      <td>-0.062298</td>\n",
       "      <td>2.477314</td>\n",
       "      <td>-4.130471</td>\n",
       "      <td>0.211078</td>\n",
       "      <td>row</td>\n",
       "      <td>medium</td>\n",
       "      <td>E</td>\n",
       "      <td>71.0</td>\n",
       "      <td>19.0</td>\n",
       "      <td>1.621374</td>\n",
       "      <td>2.037572</td>\n",
       "      <td>-0.961822</td>\n",
       "    </tr>\n",
       "    <tr>\n",
       "      <th>2024-02-20 19:33:27.200</th>\n",
       "      <td>-0.041612</td>\n",
       "      <td>-1.045090</td>\n",
       "      <td>-0.060838</td>\n",
       "      <td>-1.825996</td>\n",
       "      <td>-2.528451</td>\n",
       "      <td>1.485679</td>\n",
       "      <td>row</td>\n",
       "      <td>medium</td>\n",
       "      <td>E</td>\n",
       "      <td>71.0</td>\n",
       "      <td>19.0</td>\n",
       "      <td>-2.575507</td>\n",
       "      <td>-0.219284</td>\n",
       "      <td>-1.010687</td>\n",
       "    </tr>\n",
       "    <tr>\n",
       "      <th>2024-02-20 19:33:27.400</th>\n",
       "      <td>-0.047711</td>\n",
       "      <td>-1.047383</td>\n",
       "      <td>-0.066148</td>\n",
       "      <td>-0.261306</td>\n",
       "      <td>-1.974637</td>\n",
       "      <td>1.149337</td>\n",
       "      <td>row</td>\n",
       "      <td>medium</td>\n",
       "      <td>E</td>\n",
       "      <td>71.0</td>\n",
       "      <td>19.0</td>\n",
       "      <td>-1.080412</td>\n",
       "      <td>-0.236535</td>\n",
       "      <td>-0.215415</td>\n",
       "    </tr>\n",
       "    <tr>\n",
       "      <th>2024-02-20 19:33:27.600</th>\n",
       "      <td>-0.050471</td>\n",
       "      <td>-1.017967</td>\n",
       "      <td>-0.063349</td>\n",
       "      <td>2.227568</td>\n",
       "      <td>-2.549377</td>\n",
       "      <td>0.387236</td>\n",
       "      <td>row</td>\n",
       "      <td>medium</td>\n",
       "      <td>E</td>\n",
       "      <td>71.0</td>\n",
       "      <td>19.0</td>\n",
       "      <td>1.374087</td>\n",
       "      <td>0.778228</td>\n",
       "      <td>0.010993</td>\n",
       "    </tr>\n",
       "    <tr>\n",
       "      <th>2024-02-20 19:33:27.800</th>\n",
       "      <td>-0.043991</td>\n",
       "      <td>-1.034417</td>\n",
       "      <td>-0.059074</td>\n",
       "      <td>1.072511</td>\n",
       "      <td>-4.002062</td>\n",
       "      <td>0.984379</td>\n",
       "      <td>row</td>\n",
       "      <td>medium</td>\n",
       "      <td>E</td>\n",
       "      <td>71.0</td>\n",
       "      <td>19.0</td>\n",
       "      <td>0.032604</td>\n",
       "      <td>1.785985</td>\n",
       "      <td>-0.981811</td>\n",
       "    </tr>\n",
       "  </tbody>\n",
       "</table>\n",
       "<p>9009 rows × 14 columns</p>\n",
       "</div>"
      ],
      "text/plain": [
       "                          mean_xc   mean_yc   mean_zc   mean_xg   mean_yg  \\\n",
       "time                                                                        \n",
       "2024-02-11 17:08:05.200  0.013496  0.977014 -0.071002 -1.891570  2.438321   \n",
       "2024-02-11 17:08:05.400  0.008260  0.965687 -0.066392  0.744158  0.512027   \n",
       "2024-02-11 17:08:05.600 -0.008713  0.964964 -0.072315  3.729410 -2.209350   \n",
       "2024-02-11 17:08:05.800 -0.024124  0.973185 -0.084830  3.502448 -3.556205   \n",
       "2024-02-11 17:08:06.000 -0.021642  0.963600 -0.095993  2.250385 -0.890134   \n",
       "...                           ...       ...       ...       ...       ...   \n",
       "2024-02-20 19:33:27.000 -0.043888 -0.983254 -0.062298  2.477314 -4.130471   \n",
       "2024-02-20 19:33:27.200 -0.041612 -1.045090 -0.060838 -1.825996 -2.528451   \n",
       "2024-02-20 19:33:27.400 -0.047711 -1.047383 -0.066148 -0.261306 -1.974637   \n",
       "2024-02-20 19:33:27.600 -0.050471 -1.017967 -0.063349  2.227568 -2.549377   \n",
       "2024-02-20 19:33:27.800 -0.043991 -1.034417 -0.059074  1.072511 -4.002062   \n",
       "\n",
       "                          mean_zg posture   types specimen    set  \\\n",
       "time                                                                \n",
       "2024-02-11 17:08:05.200  0.937917   bench   heavy         B  64.0   \n",
       "2024-02-11 17:08:05.400  0.769823   bench   heavy         B  64.0   \n",
       "2024-02-11 17:08:05.600 -1.100146   bench   heavy         B  64.0   \n",
       "2024-02-11 17:08:05.800 -1.863756   bench   heavy         B  64.0   \n",
       "2024-02-11 17:08:06.000 -1.990244   bench   heavy         B  64.0   \n",
       "...                           ...     ...     ...       ...   ...   \n",
       "2024-02-20 19:33:27.000  0.211078     row  medium         E  71.0   \n",
       "2024-02-20 19:33:27.200  1.485679     row  medium         E  71.0   \n",
       "2024-02-20 19:33:27.400  1.149337     row  medium         E  71.0   \n",
       "2024-02-20 19:33:27.600  0.387236     row  medium         E  71.0   \n",
       "2024-02-20 19:33:27.800  0.984379     row  medium         E  71.0   \n",
       "\n",
       "                         duration_time     pca_1     pca_2     pca_3  \n",
       "time                                                                  \n",
       "2024-02-11 17:08:05.200           16.0 -2.134776 -4.437109  1.623949  \n",
       "2024-02-11 17:08:05.400           16.0  0.050828 -2.010353  1.483171  \n",
       "2024-02-11 17:08:05.600           16.0  3.466693  0.352307 -0.118136  \n",
       "2024-02-11 17:08:05.800           16.0  3.667741  0.963988 -1.544392  \n",
       "2024-02-11 17:08:06.000           16.0  2.811832 -1.674566 -0.545874  \n",
       "...                                ...       ...       ...       ...  \n",
       "2024-02-20 19:33:27.000           19.0  1.621374  2.037572 -0.961822  \n",
       "2024-02-20 19:33:27.200           19.0 -2.575507 -0.219284 -1.010687  \n",
       "2024-02-20 19:33:27.400           19.0 -1.080412 -0.236535 -0.215415  \n",
       "2024-02-20 19:33:27.600           19.0  1.374087  0.778228  0.010993  \n",
       "2024-02-20 19:33:27.800           19.0  0.032604  1.785985 -0.981811  \n",
       "\n",
       "[9009 rows x 14 columns]"
      ]
     },
     "execution_count": 45,
     "metadata": {},
     "output_type": "execute_result"
    }
   ],
   "source": [
    "df_pca = PCA.apply_pca(df_pca, predicator_columns, 3)\n",
    "df_pca"
   ]
  },
  {
   "cell_type": "markdown",
   "metadata": {},
   "source": [
    "- Okay here we see that the data of 6 acclemter and gyroscope has been reduced to 3 dimensions "
   ]
  },
  {
   "cell_type": "code",
   "execution_count": 46,
   "metadata": {},
   "outputs": [
    {
     "data": {
      "text/html": [
       "<div>\n",
       "<style scoped>\n",
       "    .dataframe tbody tr th:only-of-type {\n",
       "        vertical-align: middle;\n",
       "    }\n",
       "\n",
       "    .dataframe tbody tr th {\n",
       "        vertical-align: top;\n",
       "    }\n",
       "\n",
       "    .dataframe thead th {\n",
       "        text-align: right;\n",
       "    }\n",
       "</style>\n",
       "<table border=\"1\" class=\"dataframe\">\n",
       "  <thead>\n",
       "    <tr style=\"text-align: right;\">\n",
       "      <th></th>\n",
       "      <th>mean_xc</th>\n",
       "      <th>mean_yc</th>\n",
       "      <th>mean_zc</th>\n",
       "      <th>mean_xg</th>\n",
       "      <th>mean_yg</th>\n",
       "      <th>mean_zg</th>\n",
       "      <th>posture</th>\n",
       "      <th>types</th>\n",
       "      <th>specimen</th>\n",
       "      <th>set</th>\n",
       "      <th>duration_time</th>\n",
       "      <th>pca_1</th>\n",
       "      <th>pca_2</th>\n",
       "      <th>pca_3</th>\n",
       "    </tr>\n",
       "    <tr>\n",
       "      <th>time</th>\n",
       "      <th></th>\n",
       "      <th></th>\n",
       "      <th></th>\n",
       "      <th></th>\n",
       "      <th></th>\n",
       "      <th></th>\n",
       "      <th></th>\n",
       "      <th></th>\n",
       "      <th></th>\n",
       "      <th></th>\n",
       "      <th></th>\n",
       "      <th></th>\n",
       "      <th></th>\n",
       "      <th></th>\n",
       "    </tr>\n",
       "  </thead>\n",
       "  <tbody>\n",
       "    <tr>\n",
       "      <th>2024-02-16 16:04:12.800</th>\n",
       "      <td>0.134272</td>\n",
       "      <td>-1.051519</td>\n",
       "      <td>0.049941</td>\n",
       "      <td>-29.628734</td>\n",
       "      <td>2.044027</td>\n",
       "      <td>11.000275</td>\n",
       "      <td>row</td>\n",
       "      <td>heavy</td>\n",
       "      <td>E</td>\n",
       "      <td>35.0</td>\n",
       "      <td>8.0</td>\n",
       "      <td>-30.634769</td>\n",
       "      <td>-9.607590</td>\n",
       "      <td>-4.004314</td>\n",
       "    </tr>\n",
       "    <tr>\n",
       "      <th>2024-02-16 16:04:08.600</th>\n",
       "      <td>0.123199</td>\n",
       "      <td>-1.141736</td>\n",
       "      <td>0.031508</td>\n",
       "      <td>29.024733</td>\n",
       "      <td>-7.213835</td>\n",
       "      <td>-8.107490</td>\n",
       "      <td>row</td>\n",
       "      <td>heavy</td>\n",
       "      <td>E</td>\n",
       "      <td>35.0</td>\n",
       "      <td>8.0</td>\n",
       "      <td>28.022941</td>\n",
       "      <td>10.357179</td>\n",
       "      <td>3.187867</td>\n",
       "    </tr>\n",
       "    <tr>\n",
       "      <th>2024-02-16 16:04:07.000</th>\n",
       "      <td>0.145599</td>\n",
       "      <td>-1.283699</td>\n",
       "      <td>-0.090443</td>\n",
       "      <td>23.672153</td>\n",
       "      <td>-6.002334</td>\n",
       "      <td>-6.402213</td>\n",
       "      <td>row</td>\n",
       "      <td>heavy</td>\n",
       "      <td>E</td>\n",
       "      <td>35.0</td>\n",
       "      <td>8.0</td>\n",
       "      <td>22.705542</td>\n",
       "      <td>8.226353</td>\n",
       "      <td>2.730042</td>\n",
       "    </tr>\n",
       "    <tr>\n",
       "      <th>2024-02-16 16:04:13.200</th>\n",
       "      <td>0.113549</td>\n",
       "      <td>-1.346038</td>\n",
       "      <td>-0.073156</td>\n",
       "      <td>18.291638</td>\n",
       "      <td>-7.248260</td>\n",
       "      <td>-3.824865</td>\n",
       "      <td>row</td>\n",
       "      <td>heavy</td>\n",
       "      <td>E</td>\n",
       "      <td>35.0</td>\n",
       "      <td>8.0</td>\n",
       "      <td>16.776264</td>\n",
       "      <td>8.452201</td>\n",
       "      <td>1.338275</td>\n",
       "    </tr>\n",
       "    <tr>\n",
       "      <th>2024-02-16 16:04:14.400</th>\n",
       "      <td>0.101482</td>\n",
       "      <td>-1.242457</td>\n",
       "      <td>-0.034433</td>\n",
       "      <td>-20.957798</td>\n",
       "      <td>2.408931</td>\n",
       "      <td>5.840818</td>\n",
       "      <td>row</td>\n",
       "      <td>heavy</td>\n",
       "      <td>E</td>\n",
       "      <td>35.0</td>\n",
       "      <td>8.0</td>\n",
       "      <td>-20.564583</td>\n",
       "      <td>-9.158467</td>\n",
       "      <td>-3.429683</td>\n",
       "    </tr>\n",
       "    <tr>\n",
       "      <th>2024-02-16 16:04:11.400</th>\n",
       "      <td>0.073047</td>\n",
       "      <td>-0.919750</td>\n",
       "      <td>-0.066957</td>\n",
       "      <td>1.571827</td>\n",
       "      <td>-2.993998</td>\n",
       "      <td>4.152790</td>\n",
       "      <td>row</td>\n",
       "      <td>heavy</td>\n",
       "      <td>E</td>\n",
       "      <td>35.0</td>\n",
       "      <td>8.0</td>\n",
       "      <td>-1.332594</td>\n",
       "      <td>2.708327</td>\n",
       "      <td>1.949001</td>\n",
       "    </tr>\n",
       "    <tr>\n",
       "      <th>2024-02-16 16:04:10.800</th>\n",
       "      <td>0.113378</td>\n",
       "      <td>-1.093762</td>\n",
       "      <td>0.051983</td>\n",
       "      <td>-31.018425</td>\n",
       "      <td>3.656772</td>\n",
       "      <td>8.390741</td>\n",
       "      <td>row</td>\n",
       "      <td>heavy</td>\n",
       "      <td>E</td>\n",
       "      <td>35.0</td>\n",
       "      <td>8.0</td>\n",
       "      <td>-30.222546</td>\n",
       "      <td>-12.665868</td>\n",
       "      <td>-5.353024</td>\n",
       "    </tr>\n",
       "    <tr>\n",
       "      <th>2024-02-16 16:04:15.000</th>\n",
       "      <td>0.070143</td>\n",
       "      <td>-0.964982</td>\n",
       "      <td>-0.031115</td>\n",
       "      <td>0.974137</td>\n",
       "      <td>-2.181379</td>\n",
       "      <td>0.173626</td>\n",
       "      <td>row</td>\n",
       "      <td>heavy</td>\n",
       "      <td>E</td>\n",
       "      <td>35.0</td>\n",
       "      <td>8.0</td>\n",
       "      <td>0.482432</td>\n",
       "      <td>-0.084194</td>\n",
       "      <td>-0.450783</td>\n",
       "    </tr>\n",
       "  </tbody>\n",
       "</table>\n",
       "</div>"
      ],
      "text/plain": [
       "                          mean_xc   mean_yc   mean_zc    mean_xg   mean_yg  \\\n",
       "time                                                                         \n",
       "2024-02-16 16:04:12.800  0.134272 -1.051519  0.049941 -29.628734  2.044027   \n",
       "2024-02-16 16:04:08.600  0.123199 -1.141736  0.031508  29.024733 -7.213835   \n",
       "2024-02-16 16:04:07.000  0.145599 -1.283699 -0.090443  23.672153 -6.002334   \n",
       "2024-02-16 16:04:13.200  0.113549 -1.346038 -0.073156  18.291638 -7.248260   \n",
       "2024-02-16 16:04:14.400  0.101482 -1.242457 -0.034433 -20.957798  2.408931   \n",
       "2024-02-16 16:04:11.400  0.073047 -0.919750 -0.066957   1.571827 -2.993998   \n",
       "2024-02-16 16:04:10.800  0.113378 -1.093762  0.051983 -31.018425  3.656772   \n",
       "2024-02-16 16:04:15.000  0.070143 -0.964982 -0.031115   0.974137 -2.181379   \n",
       "\n",
       "                           mean_zg posture  types specimen    set  \\\n",
       "time                                                                \n",
       "2024-02-16 16:04:12.800  11.000275     row  heavy         E  35.0   \n",
       "2024-02-16 16:04:08.600  -8.107490     row  heavy         E  35.0   \n",
       "2024-02-16 16:04:07.000  -6.402213     row  heavy         E  35.0   \n",
       "2024-02-16 16:04:13.200  -3.824865     row  heavy         E  35.0   \n",
       "2024-02-16 16:04:14.400   5.840818     row  heavy         E  35.0   \n",
       "2024-02-16 16:04:11.400   4.152790     row  heavy         E  35.0   \n",
       "2024-02-16 16:04:10.800   8.390741     row  heavy         E  35.0   \n",
       "2024-02-16 16:04:15.000   0.173626     row  heavy         E  35.0   \n",
       "\n",
       "                         duration_time      pca_1      pca_2     pca_3  \n",
       "time                                                                    \n",
       "2024-02-16 16:04:12.800            8.0 -30.634769  -9.607590 -4.004314  \n",
       "2024-02-16 16:04:08.600            8.0  28.022941  10.357179  3.187867  \n",
       "2024-02-16 16:04:07.000            8.0  22.705542   8.226353  2.730042  \n",
       "2024-02-16 16:04:13.200            8.0  16.776264   8.452201  1.338275  \n",
       "2024-02-16 16:04:14.400            8.0 -20.564583  -9.158467 -3.429683  \n",
       "2024-02-16 16:04:11.400            8.0  -1.332594   2.708327  1.949001  \n",
       "2024-02-16 16:04:10.800            8.0 -30.222546 -12.665868 -5.353024  \n",
       "2024-02-16 16:04:15.000            8.0   0.482432  -0.084194 -0.450783  "
      ]
     },
     "execution_count": 46,
     "metadata": {},
     "output_type": "execute_result"
    }
   ],
   "source": [
    "subset_df = df_pca[df_pca['set'] == 35]\n",
    "subset_df.sample(8)"
   ]
  },
  {
   "cell_type": "code",
   "execution_count": 48,
   "metadata": {},
   "outputs": [
    {
     "data": {
      "application/vnd.plotly.v1+json": {
       "config": {
        "plotlyServerURL": "https://plot.ly"
       },
       "data": [
        {
         "line": {
          "width": 2
         },
         "mode": "lines",
         "name": "pca_1",
         "type": "scatter",
         "x": [
          "2024-02-16T16:04:06.600000",
          "2024-02-16T16:04:06.800000",
          "2024-02-16T16:04:07",
          "2024-02-16T16:04:07.200000",
          "2024-02-16T16:04:07.400000",
          "2024-02-16T16:04:07.600000",
          "2024-02-16T16:04:07.800000",
          "2024-02-16T16:04:08",
          "2024-02-16T16:04:08.200000",
          "2024-02-16T16:04:08.400000",
          "2024-02-16T16:04:08.600000",
          "2024-02-16T16:04:08.800000",
          "2024-02-16T16:04:09",
          "2024-02-16T16:04:09.200000",
          "2024-02-16T16:04:09.400000",
          "2024-02-16T16:04:09.600000",
          "2024-02-16T16:04:09.800000",
          "2024-02-16T16:04:10",
          "2024-02-16T16:04:10.200000",
          "2024-02-16T16:04:10.400000",
          "2024-02-16T16:04:10.600000",
          "2024-02-16T16:04:10.800000",
          "2024-02-16T16:04:11",
          "2024-02-16T16:04:11.200000",
          "2024-02-16T16:04:11.400000",
          "2024-02-16T16:04:11.600000",
          "2024-02-16T16:04:11.800000",
          "2024-02-16T16:04:12",
          "2024-02-16T16:04:12.200000",
          "2024-02-16T16:04:12.400000",
          "2024-02-16T16:04:12.600000",
          "2024-02-16T16:04:12.800000",
          "2024-02-16T16:04:13",
          "2024-02-16T16:04:13.200000",
          "2024-02-16T16:04:13.400000",
          "2024-02-16T16:04:13.600000",
          "2024-02-16T16:04:13.800000",
          "2024-02-16T16:04:14",
          "2024-02-16T16:04:14.200000",
          "2024-02-16T16:04:14.400000",
          "2024-02-16T16:04:14.600000",
          "2024-02-16T16:04:14.800000",
          "2024-02-16T16:04:15"
         ],
         "y": [
          3.940233037542703,
          10.416763188532999,
          22.705541975491013,
          26.526285739436435,
          13.62951459182936,
          -7.857787683140167,
          -23.13787035341631,
          -22.4224638604086,
          -5.258871896321198,
          17.372712927870516,
          28.022940723951187,
          17.95947083658635,
          -4.512414873592607,
          -23.224922610529678,
          -26.29098688691821,
          -10.58598659112768,
          15.368471182954284,
          32.382814338823415,
          24.799037932340198,
          -2.656694721475355,
          -27.213028239307537,
          -30.222545926863116,
          -15.696288804293276,
          -3.208937749391253,
          -1.3325940223241495,
          2.9450027462173667,
          20.132088192185215,
          35.41936969707244,
          26.514414931170634,
          -3.6658301837308658,
          -29.142490515497023,
          -30.63476878472641,
          -10.357462253479728,
          16.7762642580517,
          34.50135764495178,
          31.330119407192473,
          7.552670526261642,
          -20.60334394213875,
          -31.770717496346432,
          -20.56458273709538,
          -2.9145356457736935,
          4.1121114000422185,
          0.4824323535613555
         ]
        },
        {
         "line": {
          "width": 2
         },
         "mode": "lines",
         "name": "pca_2",
         "type": "scatter",
         "x": [
          "2024-02-16T16:04:06.600000",
          "2024-02-16T16:04:06.800000",
          "2024-02-16T16:04:07",
          "2024-02-16T16:04:07.200000",
          "2024-02-16T16:04:07.400000",
          "2024-02-16T16:04:07.600000",
          "2024-02-16T16:04:07.800000",
          "2024-02-16T16:04:08",
          "2024-02-16T16:04:08.200000",
          "2024-02-16T16:04:08.400000",
          "2024-02-16T16:04:08.600000",
          "2024-02-16T16:04:08.800000",
          "2024-02-16T16:04:09",
          "2024-02-16T16:04:09.200000",
          "2024-02-16T16:04:09.400000",
          "2024-02-16T16:04:09.600000",
          "2024-02-16T16:04:09.800000",
          "2024-02-16T16:04:10",
          "2024-02-16T16:04:10.200000",
          "2024-02-16T16:04:10.400000",
          "2024-02-16T16:04:10.600000",
          "2024-02-16T16:04:10.800000",
          "2024-02-16T16:04:11",
          "2024-02-16T16:04:11.200000",
          "2024-02-16T16:04:11.400000",
          "2024-02-16T16:04:11.600000",
          "2024-02-16T16:04:11.800000",
          "2024-02-16T16:04:12",
          "2024-02-16T16:04:12.200000",
          "2024-02-16T16:04:12.400000",
          "2024-02-16T16:04:12.600000",
          "2024-02-16T16:04:12.800000",
          "2024-02-16T16:04:13",
          "2024-02-16T16:04:13.200000",
          "2024-02-16T16:04:13.400000",
          "2024-02-16T16:04:13.600000",
          "2024-02-16T16:04:13.800000",
          "2024-02-16T16:04:14",
          "2024-02-16T16:04:14.200000",
          "2024-02-16T16:04:14.400000",
          "2024-02-16T16:04:14.600000",
          "2024-02-16T16:04:14.800000",
          "2024-02-16T16:04:15"
         ],
         "y": [
          6.104462881568198,
          6.795260032869733,
          8.226353051811602,
          8.30783578935809,
          4.1204197968896,
          -3.3797438088989846,
          -8.674555001634833,
          -7.591114421739358,
          -1.3852626697038535,
          6.1090883421255855,
          10.357179417292068,
          6.651441085246959,
          -3.7439912174254015,
          -11.309852510829524,
          -9.21176967443062,
          -1.2429262892428121,
          5.652957224747063,
          8.86398515153639,
          7.302580626843484,
          0.17282993531907873,
          -8.78940844399397,
          -12.66586754872918,
          -8.847355896608681,
          -1.7741631154694775,
          2.7083273049970966,
          4.391774402498278,
          7.477854701252838,
          11.347196143070354,
          8.704223877719196,
          -2.298311986190731,
          -11.550005134569169,
          -9.607590425577706,
          0.14353678702707764,
          8.452201217073004,
          11.767221509013755,
          10.465971018651416,
          3.6679080156105157,
          -6.5517607092133785,
          -12.365134593284994,
          -9.158467089443855,
          -2.386506372864696,
          0.5216537900501508,
          -0.0841943827469059
         ]
        },
        {
         "line": {
          "width": 2
         },
         "mode": "lines",
         "name": "pca_3",
         "type": "scatter",
         "x": [
          "2024-02-16T16:04:06.600000",
          "2024-02-16T16:04:06.800000",
          "2024-02-16T16:04:07",
          "2024-02-16T16:04:07.200000",
          "2024-02-16T16:04:07.400000",
          "2024-02-16T16:04:07.600000",
          "2024-02-16T16:04:07.800000",
          "2024-02-16T16:04:08",
          "2024-02-16T16:04:08.200000",
          "2024-02-16T16:04:08.400000",
          "2024-02-16T16:04:08.600000",
          "2024-02-16T16:04:08.800000",
          "2024-02-16T16:04:09",
          "2024-02-16T16:04:09.200000",
          "2024-02-16T16:04:09.400000",
          "2024-02-16T16:04:09.600000",
          "2024-02-16T16:04:09.800000",
          "2024-02-16T16:04:10",
          "2024-02-16T16:04:10.200000",
          "2024-02-16T16:04:10.400000",
          "2024-02-16T16:04:10.600000",
          "2024-02-16T16:04:10.800000",
          "2024-02-16T16:04:11",
          "2024-02-16T16:04:11.200000",
          "2024-02-16T16:04:11.400000",
          "2024-02-16T16:04:11.600000",
          "2024-02-16T16:04:11.800000",
          "2024-02-16T16:04:12",
          "2024-02-16T16:04:12.200000",
          "2024-02-16T16:04:12.400000",
          "2024-02-16T16:04:12.600000",
          "2024-02-16T16:04:12.800000",
          "2024-02-16T16:04:13",
          "2024-02-16T16:04:13.200000",
          "2024-02-16T16:04:13.400000",
          "2024-02-16T16:04:13.600000",
          "2024-02-16T16:04:13.800000",
          "2024-02-16T16:04:14",
          "2024-02-16T16:04:14.200000",
          "2024-02-16T16:04:14.400000",
          "2024-02-16T16:04:14.600000",
          "2024-02-16T16:04:14.800000",
          "2024-02-16T16:04:15"
         ],
         "y": [
          5.54071798738184,
          4.233562305073637,
          2.7300417540420363,
          2.787053425085708,
          2.00235448033573,
          -1.561642020119741,
          -3.898387476619731,
          -0.9284574464968459,
          4.237351075562657,
          5.852601179533947,
          3.1878669276797234,
          -0.45440062024539707,
          -2.4444789102920366,
          -2.329135336102408,
          -1.2063663765480386,
          0.09236244167408456,
          2.2712387907269034,
          4.860564230796923,
          4.461573202205683,
          -0.1189634190157542,
          -4.629440501438076,
          -5.353024405300822,
          -3.3068666216947924,
          -0.4413532666488191,
          1.9490013892318911,
          1.9037550956017542,
          0.3445003971910562,
          1.2118103867680408,
          3.201739796507742,
          0.772888617649074,
          -4.047175521303015,
          -4.004314332237835,
          -0.21721125009759465,
          1.3382745811547223,
          2.2908568075303792,
          5.919058355624926,
          7.029084566622703,
          1.5250322869290116,
          -4.022393217035036,
          -3.429683301532292,
          -0.71711584097339,
          -0.6443660489772606,
          -0.4507831225882439
         ]
        }
       ],
       "layout": {
        "legend": {
         "x": 1,
         "y": 1
        },
        "template": {
         "data": {
          "bar": [
           {
            "error_x": {
             "color": "#f2f5fa"
            },
            "error_y": {
             "color": "#f2f5fa"
            },
            "marker": {
             "line": {
              "color": "rgb(17,17,17)",
              "width": 0.5
             },
             "pattern": {
              "fillmode": "overlay",
              "size": 10,
              "solidity": 0.2
             }
            },
            "type": "bar"
           }
          ],
          "barpolar": [
           {
            "marker": {
             "line": {
              "color": "rgb(17,17,17)",
              "width": 0.5
             },
             "pattern": {
              "fillmode": "overlay",
              "size": 10,
              "solidity": 0.2
             }
            },
            "type": "barpolar"
           }
          ],
          "carpet": [
           {
            "aaxis": {
             "endlinecolor": "#A2B1C6",
             "gridcolor": "#506784",
             "linecolor": "#506784",
             "minorgridcolor": "#506784",
             "startlinecolor": "#A2B1C6"
            },
            "baxis": {
             "endlinecolor": "#A2B1C6",
             "gridcolor": "#506784",
             "linecolor": "#506784",
             "minorgridcolor": "#506784",
             "startlinecolor": "#A2B1C6"
            },
            "type": "carpet"
           }
          ],
          "choropleth": [
           {
            "colorbar": {
             "outlinewidth": 0,
             "ticks": ""
            },
            "type": "choropleth"
           }
          ],
          "contour": [
           {
            "colorbar": {
             "outlinewidth": 0,
             "ticks": ""
            },
            "colorscale": [
             [
              0,
              "#0d0887"
             ],
             [
              0.1111111111111111,
              "#46039f"
             ],
             [
              0.2222222222222222,
              "#7201a8"
             ],
             [
              0.3333333333333333,
              "#9c179e"
             ],
             [
              0.4444444444444444,
              "#bd3786"
             ],
             [
              0.5555555555555556,
              "#d8576b"
             ],
             [
              0.6666666666666666,
              "#ed7953"
             ],
             [
              0.7777777777777778,
              "#fb9f3a"
             ],
             [
              0.8888888888888888,
              "#fdca26"
             ],
             [
              1,
              "#f0f921"
             ]
            ],
            "type": "contour"
           }
          ],
          "contourcarpet": [
           {
            "colorbar": {
             "outlinewidth": 0,
             "ticks": ""
            },
            "type": "contourcarpet"
           }
          ],
          "heatmap": [
           {
            "colorbar": {
             "outlinewidth": 0,
             "ticks": ""
            },
            "colorscale": [
             [
              0,
              "#0d0887"
             ],
             [
              0.1111111111111111,
              "#46039f"
             ],
             [
              0.2222222222222222,
              "#7201a8"
             ],
             [
              0.3333333333333333,
              "#9c179e"
             ],
             [
              0.4444444444444444,
              "#bd3786"
             ],
             [
              0.5555555555555556,
              "#d8576b"
             ],
             [
              0.6666666666666666,
              "#ed7953"
             ],
             [
              0.7777777777777778,
              "#fb9f3a"
             ],
             [
              0.8888888888888888,
              "#fdca26"
             ],
             [
              1,
              "#f0f921"
             ]
            ],
            "type": "heatmap"
           }
          ],
          "heatmapgl": [
           {
            "colorbar": {
             "outlinewidth": 0,
             "ticks": ""
            },
            "colorscale": [
             [
              0,
              "#0d0887"
             ],
             [
              0.1111111111111111,
              "#46039f"
             ],
             [
              0.2222222222222222,
              "#7201a8"
             ],
             [
              0.3333333333333333,
              "#9c179e"
             ],
             [
              0.4444444444444444,
              "#bd3786"
             ],
             [
              0.5555555555555556,
              "#d8576b"
             ],
             [
              0.6666666666666666,
              "#ed7953"
             ],
             [
              0.7777777777777778,
              "#fb9f3a"
             ],
             [
              0.8888888888888888,
              "#fdca26"
             ],
             [
              1,
              "#f0f921"
             ]
            ],
            "type": "heatmapgl"
           }
          ],
          "histogram": [
           {
            "marker": {
             "pattern": {
              "fillmode": "overlay",
              "size": 10,
              "solidity": 0.2
             }
            },
            "type": "histogram"
           }
          ],
          "histogram2d": [
           {
            "colorbar": {
             "outlinewidth": 0,
             "ticks": ""
            },
            "colorscale": [
             [
              0,
              "#0d0887"
             ],
             [
              0.1111111111111111,
              "#46039f"
             ],
             [
              0.2222222222222222,
              "#7201a8"
             ],
             [
              0.3333333333333333,
              "#9c179e"
             ],
             [
              0.4444444444444444,
              "#bd3786"
             ],
             [
              0.5555555555555556,
              "#d8576b"
             ],
             [
              0.6666666666666666,
              "#ed7953"
             ],
             [
              0.7777777777777778,
              "#fb9f3a"
             ],
             [
              0.8888888888888888,
              "#fdca26"
             ],
             [
              1,
              "#f0f921"
             ]
            ],
            "type": "histogram2d"
           }
          ],
          "histogram2dcontour": [
           {
            "colorbar": {
             "outlinewidth": 0,
             "ticks": ""
            },
            "colorscale": [
             [
              0,
              "#0d0887"
             ],
             [
              0.1111111111111111,
              "#46039f"
             ],
             [
              0.2222222222222222,
              "#7201a8"
             ],
             [
              0.3333333333333333,
              "#9c179e"
             ],
             [
              0.4444444444444444,
              "#bd3786"
             ],
             [
              0.5555555555555556,
              "#d8576b"
             ],
             [
              0.6666666666666666,
              "#ed7953"
             ],
             [
              0.7777777777777778,
              "#fb9f3a"
             ],
             [
              0.8888888888888888,
              "#fdca26"
             ],
             [
              1,
              "#f0f921"
             ]
            ],
            "type": "histogram2dcontour"
           }
          ],
          "mesh3d": [
           {
            "colorbar": {
             "outlinewidth": 0,
             "ticks": ""
            },
            "type": "mesh3d"
           }
          ],
          "parcoords": [
           {
            "line": {
             "colorbar": {
              "outlinewidth": 0,
              "ticks": ""
             }
            },
            "type": "parcoords"
           }
          ],
          "pie": [
           {
            "automargin": true,
            "type": "pie"
           }
          ],
          "scatter": [
           {
            "marker": {
             "line": {
              "color": "#283442"
             }
            },
            "type": "scatter"
           }
          ],
          "scatter3d": [
           {
            "line": {
             "colorbar": {
              "outlinewidth": 0,
              "ticks": ""
             }
            },
            "marker": {
             "colorbar": {
              "outlinewidth": 0,
              "ticks": ""
             }
            },
            "type": "scatter3d"
           }
          ],
          "scattercarpet": [
           {
            "marker": {
             "colorbar": {
              "outlinewidth": 0,
              "ticks": ""
             }
            },
            "type": "scattercarpet"
           }
          ],
          "scattergeo": [
           {
            "marker": {
             "colorbar": {
              "outlinewidth": 0,
              "ticks": ""
             }
            },
            "type": "scattergeo"
           }
          ],
          "scattergl": [
           {
            "marker": {
             "line": {
              "color": "#283442"
             }
            },
            "type": "scattergl"
           }
          ],
          "scattermapbox": [
           {
            "marker": {
             "colorbar": {
              "outlinewidth": 0,
              "ticks": ""
             }
            },
            "type": "scattermapbox"
           }
          ],
          "scatterpolar": [
           {
            "marker": {
             "colorbar": {
              "outlinewidth": 0,
              "ticks": ""
             }
            },
            "type": "scatterpolar"
           }
          ],
          "scatterpolargl": [
           {
            "marker": {
             "colorbar": {
              "outlinewidth": 0,
              "ticks": ""
             }
            },
            "type": "scatterpolargl"
           }
          ],
          "scatterternary": [
           {
            "marker": {
             "colorbar": {
              "outlinewidth": 0,
              "ticks": ""
             }
            },
            "type": "scatterternary"
           }
          ],
          "surface": [
           {
            "colorbar": {
             "outlinewidth": 0,
             "ticks": ""
            },
            "colorscale": [
             [
              0,
              "#0d0887"
             ],
             [
              0.1111111111111111,
              "#46039f"
             ],
             [
              0.2222222222222222,
              "#7201a8"
             ],
             [
              0.3333333333333333,
              "#9c179e"
             ],
             [
              0.4444444444444444,
              "#bd3786"
             ],
             [
              0.5555555555555556,
              "#d8576b"
             ],
             [
              0.6666666666666666,
              "#ed7953"
             ],
             [
              0.7777777777777778,
              "#fb9f3a"
             ],
             [
              0.8888888888888888,
              "#fdca26"
             ],
             [
              1,
              "#f0f921"
             ]
            ],
            "type": "surface"
           }
          ],
          "table": [
           {
            "cells": {
             "fill": {
              "color": "#506784"
             },
             "line": {
              "color": "rgb(17,17,17)"
             }
            },
            "header": {
             "fill": {
              "color": "#2a3f5f"
             },
             "line": {
              "color": "rgb(17,17,17)"
             }
            },
            "type": "table"
           }
          ]
         },
         "layout": {
          "annotationdefaults": {
           "arrowcolor": "#f2f5fa",
           "arrowhead": 0,
           "arrowwidth": 1
          },
          "autotypenumbers": "strict",
          "coloraxis": {
           "colorbar": {
            "outlinewidth": 0,
            "ticks": ""
           }
          },
          "colorscale": {
           "diverging": [
            [
             0,
             "#8e0152"
            ],
            [
             0.1,
             "#c51b7d"
            ],
            [
             0.2,
             "#de77ae"
            ],
            [
             0.3,
             "#f1b6da"
            ],
            [
             0.4,
             "#fde0ef"
            ],
            [
             0.5,
             "#f7f7f7"
            ],
            [
             0.6,
             "#e6f5d0"
            ],
            [
             0.7,
             "#b8e186"
            ],
            [
             0.8,
             "#7fbc41"
            ],
            [
             0.9,
             "#4d9221"
            ],
            [
             1,
             "#276419"
            ]
           ],
           "sequential": [
            [
             0,
             "#0d0887"
            ],
            [
             0.1111111111111111,
             "#46039f"
            ],
            [
             0.2222222222222222,
             "#7201a8"
            ],
            [
             0.3333333333333333,
             "#9c179e"
            ],
            [
             0.4444444444444444,
             "#bd3786"
            ],
            [
             0.5555555555555556,
             "#d8576b"
            ],
            [
             0.6666666666666666,
             "#ed7953"
            ],
            [
             0.7777777777777778,
             "#fb9f3a"
            ],
            [
             0.8888888888888888,
             "#fdca26"
            ],
            [
             1,
             "#f0f921"
            ]
           ],
           "sequentialminus": [
            [
             0,
             "#0d0887"
            ],
            [
             0.1111111111111111,
             "#46039f"
            ],
            [
             0.2222222222222222,
             "#7201a8"
            ],
            [
             0.3333333333333333,
             "#9c179e"
            ],
            [
             0.4444444444444444,
             "#bd3786"
            ],
            [
             0.5555555555555556,
             "#d8576b"
            ],
            [
             0.6666666666666666,
             "#ed7953"
            ],
            [
             0.7777777777777778,
             "#fb9f3a"
            ],
            [
             0.8888888888888888,
             "#fdca26"
            ],
            [
             1,
             "#f0f921"
            ]
           ]
          },
          "colorway": [
           "#636efa",
           "#EF553B",
           "#00cc96",
           "#ab63fa",
           "#FFA15A",
           "#19d3f3",
           "#FF6692",
           "#B6E880",
           "#FF97FF",
           "#FECB52"
          ],
          "font": {
           "color": "#f2f5fa"
          },
          "geo": {
           "bgcolor": "rgb(17,17,17)",
           "lakecolor": "rgb(17,17,17)",
           "landcolor": "rgb(17,17,17)",
           "showlakes": true,
           "showland": true,
           "subunitcolor": "#506784"
          },
          "hoverlabel": {
           "align": "left"
          },
          "hovermode": "closest",
          "mapbox": {
           "style": "dark"
          },
          "paper_bgcolor": "rgb(17,17,17)",
          "plot_bgcolor": "rgb(17,17,17)",
          "polar": {
           "angularaxis": {
            "gridcolor": "#506784",
            "linecolor": "#506784",
            "ticks": ""
           },
           "bgcolor": "rgb(17,17,17)",
           "radialaxis": {
            "gridcolor": "#506784",
            "linecolor": "#506784",
            "ticks": ""
           }
          },
          "scene": {
           "xaxis": {
            "backgroundcolor": "rgb(17,17,17)",
            "gridcolor": "#506784",
            "gridwidth": 2,
            "linecolor": "#506784",
            "showbackground": true,
            "ticks": "",
            "zerolinecolor": "#C8D4E3"
           },
           "yaxis": {
            "backgroundcolor": "rgb(17,17,17)",
            "gridcolor": "#506784",
            "gridwidth": 2,
            "linecolor": "#506784",
            "showbackground": true,
            "ticks": "",
            "zerolinecolor": "#C8D4E3"
           },
           "zaxis": {
            "backgroundcolor": "rgb(17,17,17)",
            "gridcolor": "#506784",
            "gridwidth": 2,
            "linecolor": "#506784",
            "showbackground": true,
            "ticks": "",
            "zerolinecolor": "#C8D4E3"
           }
          },
          "shapedefaults": {
           "line": {
            "color": "#f2f5fa"
           }
          },
          "sliderdefaults": {
           "bgcolor": "#C8D4E3",
           "bordercolor": "rgb(17,17,17)",
           "borderwidth": 1,
           "tickwidth": 0
          },
          "ternary": {
           "aaxis": {
            "gridcolor": "#506784",
            "linecolor": "#506784",
            "ticks": ""
           },
           "baxis": {
            "gridcolor": "#506784",
            "linecolor": "#506784",
            "ticks": ""
           },
           "bgcolor": "rgb(17,17,17)",
           "caxis": {
            "gridcolor": "#506784",
            "linecolor": "#506784",
            "ticks": ""
           }
          },
          "title": {
           "x": 0.05
          },
          "updatemenudefaults": {
           "bgcolor": "#506784",
           "borderwidth": 0
          },
          "xaxis": {
           "automargin": true,
           "gridcolor": "#283442",
           "linecolor": "#506784",
           "ticks": "",
           "title": {
            "standoff": 15
           },
           "zerolinecolor": "#283442",
           "zerolinewidth": 2
          },
          "yaxis": {
           "automargin": true,
           "gridcolor": "#283442",
           "linecolor": "#506784",
           "ticks": "",
           "title": {
            "standoff": 15
           },
           "zerolinecolor": "#283442",
           "zerolinewidth": 2
          }
         }
        },
        "title": {
         "text": "PCA Components"
        },
        "xaxis": {
         "gridcolor": "gray",
         "gridwidth": 1,
         "showgrid": true,
         "title": {
          "text": "Index"
         },
         "zeroline": false
        },
        "yaxis": {
         "gridcolor": "gray",
         "gridwidth": 1,
         "showgrid": true,
         "title": {
          "text": "PCA Component Value"
         }
        }
       }
      }
     },
     "metadata": {},
     "output_type": "display_data"
    }
   ],
   "source": [
    "fig = go.Figure()\n",
    "\n",
    "# Add traces for each PCA component\n",
    "for col in ['pca_1', 'pca_2', 'pca_3']:\n",
    "    fig.add_trace(go.Scatter(x=subset_df.index, y=subset_df[col], mode='lines', name=col, line=dict(width=2)))\n",
    "\n",
    "# Update layout\n",
    "fig.update_layout(\n",
    "    title=\"PCA Components\",\n",
    "    xaxis_title=\"Index\",\n",
    "    yaxis_title=\"PCA Component Value\",\n",
    "    template='plotly_dark',\n",
    "    legend=dict(x=1, y=1)\n",
    ")\n",
    "\n",
    "# Add grid\n",
    "fig.update_xaxes(showgrid=True, gridwidth=1, gridcolor='gray', zeroline=False)\n",
    "fig.update_yaxes(showgrid=True, gridwidth=1, gridcolor='gray')\n",
    "\n",
    "# Show plot\n",
    "fig.show()\n"
   ]
  },
  {
   "cell_type": "markdown",
   "metadata": {},
   "source": [
    "------"
   ]
  },
  {
   "cell_type": "markdown",
   "metadata": {},
   "source": [
    "# **Sum of squares**"
   ]
  },
  {
   "cell_type": "markdown",
   "metadata": {},
   "source": [
    "- We using this equation to handle dynamic re-orientation of the data\n",
    "- The equation is: r = sqrt(x^2 + y^2 + z^2 )"
   ]
  },
  {
   "cell_type": "code",
   "execution_count": 49,
   "metadata": {},
   "outputs": [
    {
     "data": {
      "text/html": [
       "<div>\n",
       "<style scoped>\n",
       "    .dataframe tbody tr th:only-of-type {\n",
       "        vertical-align: middle;\n",
       "    }\n",
       "\n",
       "    .dataframe tbody tr th {\n",
       "        vertical-align: top;\n",
       "    }\n",
       "\n",
       "    .dataframe thead th {\n",
       "        text-align: right;\n",
       "    }\n",
       "</style>\n",
       "<table border=\"1\" class=\"dataframe\">\n",
       "  <thead>\n",
       "    <tr style=\"text-align: right;\">\n",
       "      <th></th>\n",
       "      <th>mean_xc</th>\n",
       "      <th>mean_yc</th>\n",
       "      <th>mean_zc</th>\n",
       "      <th>mean_xg</th>\n",
       "      <th>mean_yg</th>\n",
       "      <th>mean_zg</th>\n",
       "      <th>posture</th>\n",
       "      <th>types</th>\n",
       "      <th>specimen</th>\n",
       "      <th>set</th>\n",
       "      <th>duration_time</th>\n",
       "      <th>pca_1</th>\n",
       "      <th>pca_2</th>\n",
       "      <th>pca_3</th>\n",
       "    </tr>\n",
       "    <tr>\n",
       "      <th>time</th>\n",
       "      <th></th>\n",
       "      <th></th>\n",
       "      <th></th>\n",
       "      <th></th>\n",
       "      <th></th>\n",
       "      <th></th>\n",
       "      <th></th>\n",
       "      <th></th>\n",
       "      <th></th>\n",
       "      <th></th>\n",
       "      <th></th>\n",
       "      <th></th>\n",
       "      <th></th>\n",
       "      <th></th>\n",
       "    </tr>\n",
       "  </thead>\n",
       "  <tbody>\n",
       "    <tr>\n",
       "      <th>2024-02-11 17:08:05.200</th>\n",
       "      <td>0.013496</td>\n",
       "      <td>0.977014</td>\n",
       "      <td>-0.071002</td>\n",
       "      <td>-1.891570</td>\n",
       "      <td>2.438321</td>\n",
       "      <td>0.937917</td>\n",
       "      <td>bench</td>\n",
       "      <td>heavy</td>\n",
       "      <td>B</td>\n",
       "      <td>64.0</td>\n",
       "      <td>16.0</td>\n",
       "      <td>-2.134776</td>\n",
       "      <td>-4.437109</td>\n",
       "      <td>1.623949</td>\n",
       "    </tr>\n",
       "    <tr>\n",
       "      <th>2024-02-11 17:08:05.400</th>\n",
       "      <td>0.008260</td>\n",
       "      <td>0.965687</td>\n",
       "      <td>-0.066392</td>\n",
       "      <td>0.744158</td>\n",
       "      <td>0.512027</td>\n",
       "      <td>0.769823</td>\n",
       "      <td>bench</td>\n",
       "      <td>heavy</td>\n",
       "      <td>B</td>\n",
       "      <td>64.0</td>\n",
       "      <td>16.0</td>\n",
       "      <td>0.050828</td>\n",
       "      <td>-2.010353</td>\n",
       "      <td>1.483171</td>\n",
       "    </tr>\n",
       "    <tr>\n",
       "      <th>2024-02-11 17:08:05.600</th>\n",
       "      <td>-0.008713</td>\n",
       "      <td>0.964964</td>\n",
       "      <td>-0.072315</td>\n",
       "      <td>3.729410</td>\n",
       "      <td>-2.209350</td>\n",
       "      <td>-1.100146</td>\n",
       "      <td>bench</td>\n",
       "      <td>heavy</td>\n",
       "      <td>B</td>\n",
       "      <td>64.0</td>\n",
       "      <td>16.0</td>\n",
       "      <td>3.466693</td>\n",
       "      <td>0.352307</td>\n",
       "      <td>-0.118136</td>\n",
       "    </tr>\n",
       "    <tr>\n",
       "      <th>2024-02-11 17:08:05.800</th>\n",
       "      <td>-0.024124</td>\n",
       "      <td>0.973185</td>\n",
       "      <td>-0.084830</td>\n",
       "      <td>3.502448</td>\n",
       "      <td>-3.556205</td>\n",
       "      <td>-1.863756</td>\n",
       "      <td>bench</td>\n",
       "      <td>heavy</td>\n",
       "      <td>B</td>\n",
       "      <td>64.0</td>\n",
       "      <td>16.0</td>\n",
       "      <td>3.667741</td>\n",
       "      <td>0.963988</td>\n",
       "      <td>-1.544392</td>\n",
       "    </tr>\n",
       "    <tr>\n",
       "      <th>2024-02-11 17:08:06.000</th>\n",
       "      <td>-0.021642</td>\n",
       "      <td>0.963600</td>\n",
       "      <td>-0.095993</td>\n",
       "      <td>2.250385</td>\n",
       "      <td>-0.890134</td>\n",
       "      <td>-1.990244</td>\n",
       "      <td>bench</td>\n",
       "      <td>heavy</td>\n",
       "      <td>B</td>\n",
       "      <td>64.0</td>\n",
       "      <td>16.0</td>\n",
       "      <td>2.811832</td>\n",
       "      <td>-1.674566</td>\n",
       "      <td>-0.545874</td>\n",
       "    </tr>\n",
       "    <tr>\n",
       "      <th>...</th>\n",
       "      <td>...</td>\n",
       "      <td>...</td>\n",
       "      <td>...</td>\n",
       "      <td>...</td>\n",
       "      <td>...</td>\n",
       "      <td>...</td>\n",
       "      <td>...</td>\n",
       "      <td>...</td>\n",
       "      <td>...</td>\n",
       "      <td>...</td>\n",
       "      <td>...</td>\n",
       "      <td>...</td>\n",
       "      <td>...</td>\n",
       "      <td>...</td>\n",
       "    </tr>\n",
       "    <tr>\n",
       "      <th>2024-02-20 19:33:27.000</th>\n",
       "      <td>-0.043888</td>\n",
       "      <td>-0.983254</td>\n",
       "      <td>-0.062298</td>\n",
       "      <td>2.477314</td>\n",
       "      <td>-4.130471</td>\n",
       "      <td>0.211078</td>\n",
       "      <td>row</td>\n",
       "      <td>medium</td>\n",
       "      <td>E</td>\n",
       "      <td>71.0</td>\n",
       "      <td>19.0</td>\n",
       "      <td>1.621374</td>\n",
       "      <td>2.037572</td>\n",
       "      <td>-0.961822</td>\n",
       "    </tr>\n",
       "    <tr>\n",
       "      <th>2024-02-20 19:33:27.200</th>\n",
       "      <td>-0.041612</td>\n",
       "      <td>-1.045090</td>\n",
       "      <td>-0.060838</td>\n",
       "      <td>-1.825996</td>\n",
       "      <td>-2.528451</td>\n",
       "      <td>1.485679</td>\n",
       "      <td>row</td>\n",
       "      <td>medium</td>\n",
       "      <td>E</td>\n",
       "      <td>71.0</td>\n",
       "      <td>19.0</td>\n",
       "      <td>-2.575507</td>\n",
       "      <td>-0.219284</td>\n",
       "      <td>-1.010687</td>\n",
       "    </tr>\n",
       "    <tr>\n",
       "      <th>2024-02-20 19:33:27.400</th>\n",
       "      <td>-0.047711</td>\n",
       "      <td>-1.047383</td>\n",
       "      <td>-0.066148</td>\n",
       "      <td>-0.261306</td>\n",
       "      <td>-1.974637</td>\n",
       "      <td>1.149337</td>\n",
       "      <td>row</td>\n",
       "      <td>medium</td>\n",
       "      <td>E</td>\n",
       "      <td>71.0</td>\n",
       "      <td>19.0</td>\n",
       "      <td>-1.080412</td>\n",
       "      <td>-0.236535</td>\n",
       "      <td>-0.215415</td>\n",
       "    </tr>\n",
       "    <tr>\n",
       "      <th>2024-02-20 19:33:27.600</th>\n",
       "      <td>-0.050471</td>\n",
       "      <td>-1.017967</td>\n",
       "      <td>-0.063349</td>\n",
       "      <td>2.227568</td>\n",
       "      <td>-2.549377</td>\n",
       "      <td>0.387236</td>\n",
       "      <td>row</td>\n",
       "      <td>medium</td>\n",
       "      <td>E</td>\n",
       "      <td>71.0</td>\n",
       "      <td>19.0</td>\n",
       "      <td>1.374087</td>\n",
       "      <td>0.778228</td>\n",
       "      <td>0.010993</td>\n",
       "    </tr>\n",
       "    <tr>\n",
       "      <th>2024-02-20 19:33:27.800</th>\n",
       "      <td>-0.043991</td>\n",
       "      <td>-1.034417</td>\n",
       "      <td>-0.059074</td>\n",
       "      <td>1.072511</td>\n",
       "      <td>-4.002062</td>\n",
       "      <td>0.984379</td>\n",
       "      <td>row</td>\n",
       "      <td>medium</td>\n",
       "      <td>E</td>\n",
       "      <td>71.0</td>\n",
       "      <td>19.0</td>\n",
       "      <td>0.032604</td>\n",
       "      <td>1.785985</td>\n",
       "      <td>-0.981811</td>\n",
       "    </tr>\n",
       "  </tbody>\n",
       "</table>\n",
       "<p>9009 rows × 14 columns</p>\n",
       "</div>"
      ],
      "text/plain": [
       "                          mean_xc   mean_yc   mean_zc   mean_xg   mean_yg  \\\n",
       "time                                                                        \n",
       "2024-02-11 17:08:05.200  0.013496  0.977014 -0.071002 -1.891570  2.438321   \n",
       "2024-02-11 17:08:05.400  0.008260  0.965687 -0.066392  0.744158  0.512027   \n",
       "2024-02-11 17:08:05.600 -0.008713  0.964964 -0.072315  3.729410 -2.209350   \n",
       "2024-02-11 17:08:05.800 -0.024124  0.973185 -0.084830  3.502448 -3.556205   \n",
       "2024-02-11 17:08:06.000 -0.021642  0.963600 -0.095993  2.250385 -0.890134   \n",
       "...                           ...       ...       ...       ...       ...   \n",
       "2024-02-20 19:33:27.000 -0.043888 -0.983254 -0.062298  2.477314 -4.130471   \n",
       "2024-02-20 19:33:27.200 -0.041612 -1.045090 -0.060838 -1.825996 -2.528451   \n",
       "2024-02-20 19:33:27.400 -0.047711 -1.047383 -0.066148 -0.261306 -1.974637   \n",
       "2024-02-20 19:33:27.600 -0.050471 -1.017967 -0.063349  2.227568 -2.549377   \n",
       "2024-02-20 19:33:27.800 -0.043991 -1.034417 -0.059074  1.072511 -4.002062   \n",
       "\n",
       "                          mean_zg posture   types specimen    set  \\\n",
       "time                                                                \n",
       "2024-02-11 17:08:05.200  0.937917   bench   heavy         B  64.0   \n",
       "2024-02-11 17:08:05.400  0.769823   bench   heavy         B  64.0   \n",
       "2024-02-11 17:08:05.600 -1.100146   bench   heavy         B  64.0   \n",
       "2024-02-11 17:08:05.800 -1.863756   bench   heavy         B  64.0   \n",
       "2024-02-11 17:08:06.000 -1.990244   bench   heavy         B  64.0   \n",
       "...                           ...     ...     ...       ...   ...   \n",
       "2024-02-20 19:33:27.000  0.211078     row  medium         E  71.0   \n",
       "2024-02-20 19:33:27.200  1.485679     row  medium         E  71.0   \n",
       "2024-02-20 19:33:27.400  1.149337     row  medium         E  71.0   \n",
       "2024-02-20 19:33:27.600  0.387236     row  medium         E  71.0   \n",
       "2024-02-20 19:33:27.800  0.984379     row  medium         E  71.0   \n",
       "\n",
       "                         duration_time     pca_1     pca_2     pca_3  \n",
       "time                                                                  \n",
       "2024-02-11 17:08:05.200           16.0 -2.134776 -4.437109  1.623949  \n",
       "2024-02-11 17:08:05.400           16.0  0.050828 -2.010353  1.483171  \n",
       "2024-02-11 17:08:05.600           16.0  3.466693  0.352307 -0.118136  \n",
       "2024-02-11 17:08:05.800           16.0  3.667741  0.963988 -1.544392  \n",
       "2024-02-11 17:08:06.000           16.0  2.811832 -1.674566 -0.545874  \n",
       "...                                ...       ...       ...       ...  \n",
       "2024-02-20 19:33:27.000           19.0  1.621374  2.037572 -0.961822  \n",
       "2024-02-20 19:33:27.200           19.0 -2.575507 -0.219284 -1.010687  \n",
       "2024-02-20 19:33:27.400           19.0 -1.080412 -0.236535 -0.215415  \n",
       "2024-02-20 19:33:27.600           19.0  1.374087  0.778228  0.010993  \n",
       "2024-02-20 19:33:27.800           19.0  0.032604  1.785985 -0.981811  \n",
       "\n",
       "[9009 rows x 14 columns]"
      ]
     },
     "execution_count": 49,
     "metadata": {},
     "output_type": "execute_result"
    }
   ],
   "source": [
    "df_equation  = df_pca.copy()\n",
    "df_equation"
   ]
  },
  {
   "cell_type": "code",
   "execution_count": 50,
   "metadata": {},
   "outputs": [],
   "source": [
    "# Calculate the square root of the acceleration and gyro values by implementing the formula\n",
    "acceleration_sqrt = df_equation['mean_xc'] ** 2 + df_equation['mean_yc'] ** 2 + df_equation['mean_zc'] ** 2\n",
    "gyro_sqrt = df_equation['mean_xg'] ** 2 + df_equation['mean_yg'] ** 2 + df_equation['mean_zg'] ** 2"
   ]
  },
  {
   "cell_type": "code",
   "execution_count": 51,
   "metadata": {},
   "outputs": [
    {
     "data": {
      "text/plain": [
       "time\n",
       "2024-02-11 17:08:05.200    0.959780\n",
       "2024-02-11 17:08:05.400    0.937028\n",
       "2024-02-11 17:08:05.600    0.936462\n",
       "2024-02-11 17:08:05.800    0.954867\n",
       "2024-02-11 17:08:06.000    0.938208\n",
       "                             ...   \n",
       "2024-02-20 19:33:27.000    0.972595\n",
       "2024-02-20 19:33:27.200    1.097645\n",
       "2024-02-20 19:33:27.400    1.103663\n",
       "2024-02-20 19:33:27.600    1.042817\n",
       "2024-02-20 19:33:27.800    1.075444\n",
       "Length: 9009, dtype: float64"
      ]
     },
     "execution_count": 51,
     "metadata": {},
     "output_type": "execute_result"
    }
   ],
   "source": [
    "acceleration_sqrt"
   ]
  },
  {
   "cell_type": "markdown",
   "metadata": {},
   "source": [
    "- now we need to make a new dataframe that has the square root of the acceleration and gyro values and add it to the original dataframe"
   ]
  },
  {
   "cell_type": "code",
   "execution_count": 52,
   "metadata": {},
   "outputs": [],
   "source": [
    "df_equation['acc_sqrt'] = np.sqrt(acceleration_sqrt)\n",
    "df_equation['gyro_sqrt'] = np.sqrt(gyro_sqrt)"
   ]
  },
  {
   "cell_type": "code",
   "execution_count": 53,
   "metadata": {},
   "outputs": [
    {
     "data": {
      "text/html": [
       "<div>\n",
       "<style scoped>\n",
       "    .dataframe tbody tr th:only-of-type {\n",
       "        vertical-align: middle;\n",
       "    }\n",
       "\n",
       "    .dataframe tbody tr th {\n",
       "        vertical-align: top;\n",
       "    }\n",
       "\n",
       "    .dataframe thead th {\n",
       "        text-align: right;\n",
       "    }\n",
       "</style>\n",
       "<table border=\"1\" class=\"dataframe\">\n",
       "  <thead>\n",
       "    <tr style=\"text-align: right;\">\n",
       "      <th></th>\n",
       "      <th>mean_xc</th>\n",
       "      <th>mean_yc</th>\n",
       "      <th>mean_zc</th>\n",
       "      <th>mean_xg</th>\n",
       "      <th>mean_yg</th>\n",
       "      <th>mean_zg</th>\n",
       "      <th>posture</th>\n",
       "      <th>types</th>\n",
       "      <th>specimen</th>\n",
       "      <th>set</th>\n",
       "      <th>duration_time</th>\n",
       "      <th>pca_1</th>\n",
       "      <th>pca_2</th>\n",
       "      <th>pca_3</th>\n",
       "      <th>acc_sqrt</th>\n",
       "      <th>gyro_sqrt</th>\n",
       "    </tr>\n",
       "    <tr>\n",
       "      <th>time</th>\n",
       "      <th></th>\n",
       "      <th></th>\n",
       "      <th></th>\n",
       "      <th></th>\n",
       "      <th></th>\n",
       "      <th></th>\n",
       "      <th></th>\n",
       "      <th></th>\n",
       "      <th></th>\n",
       "      <th></th>\n",
       "      <th></th>\n",
       "      <th></th>\n",
       "      <th></th>\n",
       "      <th></th>\n",
       "      <th></th>\n",
       "      <th></th>\n",
       "    </tr>\n",
       "  </thead>\n",
       "  <tbody>\n",
       "    <tr>\n",
       "      <th>2024-02-11 17:08:05.200</th>\n",
       "      <td>0.013496</td>\n",
       "      <td>0.977014</td>\n",
       "      <td>-0.071002</td>\n",
       "      <td>-1.891570</td>\n",
       "      <td>2.438321</td>\n",
       "      <td>0.937917</td>\n",
       "      <td>bench</td>\n",
       "      <td>heavy</td>\n",
       "      <td>B</td>\n",
       "      <td>64.0</td>\n",
       "      <td>16.0</td>\n",
       "      <td>-2.134776</td>\n",
       "      <td>-4.437109</td>\n",
       "      <td>1.623949</td>\n",
       "      <td>0.979684</td>\n",
       "      <td>3.225389</td>\n",
       "    </tr>\n",
       "    <tr>\n",
       "      <th>2024-02-11 17:08:05.400</th>\n",
       "      <td>0.008260</td>\n",
       "      <td>0.965687</td>\n",
       "      <td>-0.066392</td>\n",
       "      <td>0.744158</td>\n",
       "      <td>0.512027</td>\n",
       "      <td>0.769823</td>\n",
       "      <td>bench</td>\n",
       "      <td>heavy</td>\n",
       "      <td>B</td>\n",
       "      <td>64.0</td>\n",
       "      <td>16.0</td>\n",
       "      <td>0.050828</td>\n",
       "      <td>-2.010353</td>\n",
       "      <td>1.483171</td>\n",
       "      <td>0.968002</td>\n",
       "      <td>1.186832</td>\n",
       "    </tr>\n",
       "    <tr>\n",
       "      <th>2024-02-11 17:08:05.600</th>\n",
       "      <td>-0.008713</td>\n",
       "      <td>0.964964</td>\n",
       "      <td>-0.072315</td>\n",
       "      <td>3.729410</td>\n",
       "      <td>-2.209350</td>\n",
       "      <td>-1.100146</td>\n",
       "      <td>bench</td>\n",
       "      <td>heavy</td>\n",
       "      <td>B</td>\n",
       "      <td>64.0</td>\n",
       "      <td>16.0</td>\n",
       "      <td>3.466693</td>\n",
       "      <td>0.352307</td>\n",
       "      <td>-0.118136</td>\n",
       "      <td>0.967709</td>\n",
       "      <td>4.472142</td>\n",
       "    </tr>\n",
       "    <tr>\n",
       "      <th>2024-02-11 17:08:05.800</th>\n",
       "      <td>-0.024124</td>\n",
       "      <td>0.973185</td>\n",
       "      <td>-0.084830</td>\n",
       "      <td>3.502448</td>\n",
       "      <td>-3.556205</td>\n",
       "      <td>-1.863756</td>\n",
       "      <td>bench</td>\n",
       "      <td>heavy</td>\n",
       "      <td>B</td>\n",
       "      <td>64.0</td>\n",
       "      <td>16.0</td>\n",
       "      <td>3.667741</td>\n",
       "      <td>0.963988</td>\n",
       "      <td>-1.544392</td>\n",
       "      <td>0.977173</td>\n",
       "      <td>5.327976</td>\n",
       "    </tr>\n",
       "    <tr>\n",
       "      <th>2024-02-11 17:08:06.000</th>\n",
       "      <td>-0.021642</td>\n",
       "      <td>0.963600</td>\n",
       "      <td>-0.095993</td>\n",
       "      <td>2.250385</td>\n",
       "      <td>-0.890134</td>\n",
       "      <td>-1.990244</td>\n",
       "      <td>bench</td>\n",
       "      <td>heavy</td>\n",
       "      <td>B</td>\n",
       "      <td>64.0</td>\n",
       "      <td>16.0</td>\n",
       "      <td>2.811832</td>\n",
       "      <td>-1.674566</td>\n",
       "      <td>-0.545874</td>\n",
       "      <td>0.968612</td>\n",
       "      <td>3.133311</td>\n",
       "    </tr>\n",
       "    <tr>\n",
       "      <th>...</th>\n",
       "      <td>...</td>\n",
       "      <td>...</td>\n",
       "      <td>...</td>\n",
       "      <td>...</td>\n",
       "      <td>...</td>\n",
       "      <td>...</td>\n",
       "      <td>...</td>\n",
       "      <td>...</td>\n",
       "      <td>...</td>\n",
       "      <td>...</td>\n",
       "      <td>...</td>\n",
       "      <td>...</td>\n",
       "      <td>...</td>\n",
       "      <td>...</td>\n",
       "      <td>...</td>\n",
       "      <td>...</td>\n",
       "    </tr>\n",
       "    <tr>\n",
       "      <th>2024-02-20 19:33:27.000</th>\n",
       "      <td>-0.043888</td>\n",
       "      <td>-0.983254</td>\n",
       "      <td>-0.062298</td>\n",
       "      <td>2.477314</td>\n",
       "      <td>-4.130471</td>\n",
       "      <td>0.211078</td>\n",
       "      <td>row</td>\n",
       "      <td>medium</td>\n",
       "      <td>E</td>\n",
       "      <td>71.0</td>\n",
       "      <td>19.0</td>\n",
       "      <td>1.621374</td>\n",
       "      <td>2.037572</td>\n",
       "      <td>-0.961822</td>\n",
       "      <td>0.986202</td>\n",
       "      <td>4.821040</td>\n",
       "    </tr>\n",
       "    <tr>\n",
       "      <th>2024-02-20 19:33:27.200</th>\n",
       "      <td>-0.041612</td>\n",
       "      <td>-1.045090</td>\n",
       "      <td>-0.060838</td>\n",
       "      <td>-1.825996</td>\n",
       "      <td>-2.528451</td>\n",
       "      <td>1.485679</td>\n",
       "      <td>row</td>\n",
       "      <td>medium</td>\n",
       "      <td>E</td>\n",
       "      <td>71.0</td>\n",
       "      <td>19.0</td>\n",
       "      <td>-2.575507</td>\n",
       "      <td>-0.219284</td>\n",
       "      <td>-1.010687</td>\n",
       "      <td>1.047685</td>\n",
       "      <td>3.454645</td>\n",
       "    </tr>\n",
       "    <tr>\n",
       "      <th>2024-02-20 19:33:27.400</th>\n",
       "      <td>-0.047711</td>\n",
       "      <td>-1.047383</td>\n",
       "      <td>-0.066148</td>\n",
       "      <td>-0.261306</td>\n",
       "      <td>-1.974637</td>\n",
       "      <td>1.149337</td>\n",
       "      <td>row</td>\n",
       "      <td>medium</td>\n",
       "      <td>E</td>\n",
       "      <td>71.0</td>\n",
       "      <td>19.0</td>\n",
       "      <td>-1.080412</td>\n",
       "      <td>-0.236535</td>\n",
       "      <td>-0.215415</td>\n",
       "      <td>1.050554</td>\n",
       "      <td>2.299662</td>\n",
       "    </tr>\n",
       "    <tr>\n",
       "      <th>2024-02-20 19:33:27.600</th>\n",
       "      <td>-0.050471</td>\n",
       "      <td>-1.017967</td>\n",
       "      <td>-0.063349</td>\n",
       "      <td>2.227568</td>\n",
       "      <td>-2.549377</td>\n",
       "      <td>0.387236</td>\n",
       "      <td>row</td>\n",
       "      <td>medium</td>\n",
       "      <td>E</td>\n",
       "      <td>71.0</td>\n",
       "      <td>19.0</td>\n",
       "      <td>1.374087</td>\n",
       "      <td>0.778228</td>\n",
       "      <td>0.010993</td>\n",
       "      <td>1.021184</td>\n",
       "      <td>3.407540</td>\n",
       "    </tr>\n",
       "    <tr>\n",
       "      <th>2024-02-20 19:33:27.800</th>\n",
       "      <td>-0.043991</td>\n",
       "      <td>-1.034417</td>\n",
       "      <td>-0.059074</td>\n",
       "      <td>1.072511</td>\n",
       "      <td>-4.002062</td>\n",
       "      <td>0.984379</td>\n",
       "      <td>row</td>\n",
       "      <td>medium</td>\n",
       "      <td>E</td>\n",
       "      <td>71.0</td>\n",
       "      <td>19.0</td>\n",
       "      <td>0.032604</td>\n",
       "      <td>1.785985</td>\n",
       "      <td>-0.981811</td>\n",
       "      <td>1.037036</td>\n",
       "      <td>4.258613</td>\n",
       "    </tr>\n",
       "  </tbody>\n",
       "</table>\n",
       "<p>9009 rows × 16 columns</p>\n",
       "</div>"
      ],
      "text/plain": [
       "                          mean_xc   mean_yc   mean_zc   mean_xg   mean_yg  \\\n",
       "time                                                                        \n",
       "2024-02-11 17:08:05.200  0.013496  0.977014 -0.071002 -1.891570  2.438321   \n",
       "2024-02-11 17:08:05.400  0.008260  0.965687 -0.066392  0.744158  0.512027   \n",
       "2024-02-11 17:08:05.600 -0.008713  0.964964 -0.072315  3.729410 -2.209350   \n",
       "2024-02-11 17:08:05.800 -0.024124  0.973185 -0.084830  3.502448 -3.556205   \n",
       "2024-02-11 17:08:06.000 -0.021642  0.963600 -0.095993  2.250385 -0.890134   \n",
       "...                           ...       ...       ...       ...       ...   \n",
       "2024-02-20 19:33:27.000 -0.043888 -0.983254 -0.062298  2.477314 -4.130471   \n",
       "2024-02-20 19:33:27.200 -0.041612 -1.045090 -0.060838 -1.825996 -2.528451   \n",
       "2024-02-20 19:33:27.400 -0.047711 -1.047383 -0.066148 -0.261306 -1.974637   \n",
       "2024-02-20 19:33:27.600 -0.050471 -1.017967 -0.063349  2.227568 -2.549377   \n",
       "2024-02-20 19:33:27.800 -0.043991 -1.034417 -0.059074  1.072511 -4.002062   \n",
       "\n",
       "                          mean_zg posture   types specimen    set  \\\n",
       "time                                                                \n",
       "2024-02-11 17:08:05.200  0.937917   bench   heavy         B  64.0   \n",
       "2024-02-11 17:08:05.400  0.769823   bench   heavy         B  64.0   \n",
       "2024-02-11 17:08:05.600 -1.100146   bench   heavy         B  64.0   \n",
       "2024-02-11 17:08:05.800 -1.863756   bench   heavy         B  64.0   \n",
       "2024-02-11 17:08:06.000 -1.990244   bench   heavy         B  64.0   \n",
       "...                           ...     ...     ...       ...   ...   \n",
       "2024-02-20 19:33:27.000  0.211078     row  medium         E  71.0   \n",
       "2024-02-20 19:33:27.200  1.485679     row  medium         E  71.0   \n",
       "2024-02-20 19:33:27.400  1.149337     row  medium         E  71.0   \n",
       "2024-02-20 19:33:27.600  0.387236     row  medium         E  71.0   \n",
       "2024-02-20 19:33:27.800  0.984379     row  medium         E  71.0   \n",
       "\n",
       "                         duration_time     pca_1     pca_2     pca_3  \\\n",
       "time                                                                   \n",
       "2024-02-11 17:08:05.200           16.0 -2.134776 -4.437109  1.623949   \n",
       "2024-02-11 17:08:05.400           16.0  0.050828 -2.010353  1.483171   \n",
       "2024-02-11 17:08:05.600           16.0  3.466693  0.352307 -0.118136   \n",
       "2024-02-11 17:08:05.800           16.0  3.667741  0.963988 -1.544392   \n",
       "2024-02-11 17:08:06.000           16.0  2.811832 -1.674566 -0.545874   \n",
       "...                                ...       ...       ...       ...   \n",
       "2024-02-20 19:33:27.000           19.0  1.621374  2.037572 -0.961822   \n",
       "2024-02-20 19:33:27.200           19.0 -2.575507 -0.219284 -1.010687   \n",
       "2024-02-20 19:33:27.400           19.0 -1.080412 -0.236535 -0.215415   \n",
       "2024-02-20 19:33:27.600           19.0  1.374087  0.778228  0.010993   \n",
       "2024-02-20 19:33:27.800           19.0  0.032604  1.785985 -0.981811   \n",
       "\n",
       "                         acc_sqrt  gyro_sqrt  \n",
       "time                                          \n",
       "2024-02-11 17:08:05.200  0.979684   3.225389  \n",
       "2024-02-11 17:08:05.400  0.968002   1.186832  \n",
       "2024-02-11 17:08:05.600  0.967709   4.472142  \n",
       "2024-02-11 17:08:05.800  0.977173   5.327976  \n",
       "2024-02-11 17:08:06.000  0.968612   3.133311  \n",
       "...                           ...        ...  \n",
       "2024-02-20 19:33:27.000  0.986202   4.821040  \n",
       "2024-02-20 19:33:27.200  1.047685   3.454645  \n",
       "2024-02-20 19:33:27.400  1.050554   2.299662  \n",
       "2024-02-20 19:33:27.600  1.021184   3.407540  \n",
       "2024-02-20 19:33:27.800  1.037036   4.258613  \n",
       "\n",
       "[9009 rows x 16 columns]"
      ]
     },
     "execution_count": 53,
     "metadata": {},
     "output_type": "execute_result"
    }
   ],
   "source": [
    "df_equation"
   ]
  },
  {
   "cell_type": "markdown",
   "metadata": {},
   "source": [
    "## Plotting the square root of the acceleration and gyro :"
   ]
  },
  {
   "cell_type": "code",
   "execution_count": 54,
   "metadata": {},
   "outputs": [
    {
     "data": {
      "text/html": [
       "<div>\n",
       "<style scoped>\n",
       "    .dataframe tbody tr th:only-of-type {\n",
       "        vertical-align: middle;\n",
       "    }\n",
       "\n",
       "    .dataframe tbody tr th {\n",
       "        vertical-align: top;\n",
       "    }\n",
       "\n",
       "    .dataframe thead th {\n",
       "        text-align: right;\n",
       "    }\n",
       "</style>\n",
       "<table border=\"1\" class=\"dataframe\">\n",
       "  <thead>\n",
       "    <tr style=\"text-align: right;\">\n",
       "      <th></th>\n",
       "      <th>mean_xc</th>\n",
       "      <th>mean_yc</th>\n",
       "      <th>mean_zc</th>\n",
       "      <th>mean_xg</th>\n",
       "      <th>mean_yg</th>\n",
       "      <th>mean_zg</th>\n",
       "      <th>posture</th>\n",
       "      <th>types</th>\n",
       "      <th>specimen</th>\n",
       "      <th>set</th>\n",
       "      <th>duration_time</th>\n",
       "      <th>pca_1</th>\n",
       "      <th>pca_2</th>\n",
       "      <th>pca_3</th>\n",
       "      <th>acc_sqrt</th>\n",
       "      <th>gyro_sqrt</th>\n",
       "    </tr>\n",
       "    <tr>\n",
       "      <th>time</th>\n",
       "      <th></th>\n",
       "      <th></th>\n",
       "      <th></th>\n",
       "      <th></th>\n",
       "      <th></th>\n",
       "      <th></th>\n",
       "      <th></th>\n",
       "      <th></th>\n",
       "      <th></th>\n",
       "      <th></th>\n",
       "      <th></th>\n",
       "      <th></th>\n",
       "      <th></th>\n",
       "      <th></th>\n",
       "      <th></th>\n",
       "      <th></th>\n",
       "    </tr>\n",
       "  </thead>\n",
       "  <tbody>\n",
       "    <tr>\n",
       "      <th>2024-02-16 16:04:06.600</th>\n",
       "      <td>0.108631</td>\n",
       "      <td>-1.000453</td>\n",
       "      <td>-0.100114</td>\n",
       "      <td>8.722103</td>\n",
       "      <td>-3.297011</td>\n",
       "      <td>5.161295</td>\n",
       "      <td>row</td>\n",
       "      <td>heavy</td>\n",
       "      <td>E</td>\n",
       "      <td>35.0</td>\n",
       "      <td>8.0</td>\n",
       "      <td>3.940233</td>\n",
       "      <td>6.104463</td>\n",
       "      <td>5.540718</td>\n",
       "      <td>1.011301</td>\n",
       "      <td>10.657595</td>\n",
       "    </tr>\n",
       "    <tr>\n",
       "      <th>2024-02-16 16:04:06.800</th>\n",
       "      <td>0.127096</td>\n",
       "      <td>-1.162050</td>\n",
       "      <td>-0.119152</td>\n",
       "      <td>13.719749</td>\n",
       "      <td>-4.403636</td>\n",
       "      <td>0.926907</td>\n",
       "      <td>row</td>\n",
       "      <td>heavy</td>\n",
       "      <td>E</td>\n",
       "      <td>35.0</td>\n",
       "      <td>8.0</td>\n",
       "      <td>10.416763</td>\n",
       "      <td>6.795260</td>\n",
       "      <td>4.233562</td>\n",
       "      <td>1.175037</td>\n",
       "      <td>14.438930</td>\n",
       "    </tr>\n",
       "    <tr>\n",
       "      <th>2024-02-16 16:04:07.000</th>\n",
       "      <td>0.145599</td>\n",
       "      <td>-1.283699</td>\n",
       "      <td>-0.090443</td>\n",
       "      <td>23.672153</td>\n",
       "      <td>-6.002334</td>\n",
       "      <td>-6.402213</td>\n",
       "      <td>row</td>\n",
       "      <td>heavy</td>\n",
       "      <td>E</td>\n",
       "      <td>35.0</td>\n",
       "      <td>8.0</td>\n",
       "      <td>22.705542</td>\n",
       "      <td>8.226353</td>\n",
       "      <td>2.730042</td>\n",
       "      <td>1.295092</td>\n",
       "      <td>25.246528</td>\n",
       "    </tr>\n",
       "    <tr>\n",
       "      <th>2024-02-16 16:04:07.200</th>\n",
       "      <td>0.142715</td>\n",
       "      <td>-1.183836</td>\n",
       "      <td>0.020982</td>\n",
       "      <td>26.859014</td>\n",
       "      <td>-5.891506</td>\n",
       "      <td>-8.509379</td>\n",
       "      <td>row</td>\n",
       "      <td>heavy</td>\n",
       "      <td>E</td>\n",
       "      <td>35.0</td>\n",
       "      <td>8.0</td>\n",
       "      <td>26.526286</td>\n",
       "      <td>8.307836</td>\n",
       "      <td>2.787053</td>\n",
       "      <td>1.192592</td>\n",
       "      <td>28.784128</td>\n",
       "    </tr>\n",
       "    <tr>\n",
       "      <th>2024-02-16 16:04:07.400</th>\n",
       "      <td>0.114809</td>\n",
       "      <td>-0.949361</td>\n",
       "      <td>0.146433</td>\n",
       "      <td>14.385158</td>\n",
       "      <td>-3.529570</td>\n",
       "      <td>-3.682595</td>\n",
       "      <td>row</td>\n",
       "      <td>heavy</td>\n",
       "      <td>E</td>\n",
       "      <td>35.0</td>\n",
       "      <td>8.0</td>\n",
       "      <td>13.629515</td>\n",
       "      <td>4.120420</td>\n",
       "      <td>2.002354</td>\n",
       "      <td>0.967424</td>\n",
       "      <td>15.262770</td>\n",
       "    </tr>\n",
       "    <tr>\n",
       "      <th>2024-02-16 16:04:07.600</th>\n",
       "      <td>0.094414</td>\n",
       "      <td>-0.820265</td>\n",
       "      <td>0.191739</td>\n",
       "      <td>-7.574170</td>\n",
       "      <td>-0.557267</td>\n",
       "      <td>2.610928</td>\n",
       "      <td>row</td>\n",
       "      <td>heavy</td>\n",
       "      <td>E</td>\n",
       "      <td>35.0</td>\n",
       "      <td>8.0</td>\n",
       "      <td>-7.857788</td>\n",
       "      <td>-3.379744</td>\n",
       "      <td>-1.561642</td>\n",
       "      <td>0.847651</td>\n",
       "      <td>8.030912</td>\n",
       "    </tr>\n",
       "    <tr>\n",
       "      <th>2024-02-16 16:04:07.800</th>\n",
       "      <td>0.106037</td>\n",
       "      <td>-0.898622</td>\n",
       "      <td>0.129001</td>\n",
       "      <td>-23.089737</td>\n",
       "      <td>1.646032</td>\n",
       "      <td>7.235983</td>\n",
       "      <td>row</td>\n",
       "      <td>heavy</td>\n",
       "      <td>E</td>\n",
       "      <td>35.0</td>\n",
       "      <td>8.0</td>\n",
       "      <td>-23.137870</td>\n",
       "      <td>-8.674555</td>\n",
       "      <td>-3.898387</td>\n",
       "      <td>0.914006</td>\n",
       "      <td>24.252934</td>\n",
       "    </tr>\n",
       "    <tr>\n",
       "      <th>2024-02-16 16:04:08.000</th>\n",
       "      <td>0.133196</td>\n",
       "      <td>-1.105772</td>\n",
       "      <td>0.003256</td>\n",
       "      <td>-20.808243</td>\n",
       "      <td>2.626406</td>\n",
       "      <td>9.318640</td>\n",
       "      <td>row</td>\n",
       "      <td>heavy</td>\n",
       "      <td>E</td>\n",
       "      <td>35.0</td>\n",
       "      <td>8.0</td>\n",
       "      <td>-22.422464</td>\n",
       "      <td>-7.591114</td>\n",
       "      <td>-0.928457</td>\n",
       "      <td>1.113769</td>\n",
       "      <td>22.950339</td>\n",
       "    </tr>\n",
       "    <tr>\n",
       "      <th>2024-02-16 16:04:08.200</th>\n",
       "      <td>0.148878</td>\n",
       "      <td>-1.306671</td>\n",
       "      <td>-0.097373</td>\n",
       "      <td>-2.179431</td>\n",
       "      <td>1.496785</td>\n",
       "      <td>5.931597</td>\n",
       "      <td>row</td>\n",
       "      <td>heavy</td>\n",
       "      <td>E</td>\n",
       "      <td>35.0</td>\n",
       "      <td>8.0</td>\n",
       "      <td>-5.258872</td>\n",
       "      <td>-1.385263</td>\n",
       "      <td>4.237351</td>\n",
       "      <td>1.318725</td>\n",
       "      <td>6.494161</td>\n",
       "    </tr>\n",
       "    <tr>\n",
       "      <th>2024-02-16 16:04:08.400</th>\n",
       "      <td>0.144419</td>\n",
       "      <td>-1.350126</td>\n",
       "      <td>-0.088378</td>\n",
       "      <td>19.868563</td>\n",
       "      <td>-2.617634</td>\n",
       "      <td>-2.309784</td>\n",
       "      <td>row</td>\n",
       "      <td>heavy</td>\n",
       "      <td>E</td>\n",
       "      <td>35.0</td>\n",
       "      <td>8.0</td>\n",
       "      <td>17.372713</td>\n",
       "      <td>6.109088</td>\n",
       "      <td>5.852601</td>\n",
       "      <td>1.360702</td>\n",
       "      <td>20.172925</td>\n",
       "    </tr>\n",
       "    <tr>\n",
       "      <th>2024-02-16 16:04:08.600</th>\n",
       "      <td>0.123199</td>\n",
       "      <td>-1.141736</td>\n",
       "      <td>0.031508</td>\n",
       "      <td>29.024733</td>\n",
       "      <td>-7.213835</td>\n",
       "      <td>-8.107490</td>\n",
       "      <td>row</td>\n",
       "      <td>heavy</td>\n",
       "      <td>E</td>\n",
       "      <td>35.0</td>\n",
       "      <td>8.0</td>\n",
       "      <td>28.022941</td>\n",
       "      <td>10.357179</td>\n",
       "      <td>3.187867</td>\n",
       "      <td>1.148796</td>\n",
       "      <td>30.987190</td>\n",
       "    </tr>\n",
       "    <tr>\n",
       "      <th>2024-02-16 16:04:08.800</th>\n",
       "      <td>0.100821</td>\n",
       "      <td>-0.813939</td>\n",
       "      <td>0.159655</td>\n",
       "      <td>17.810691</td>\n",
       "      <td>-6.872218</td>\n",
       "      <td>-6.560285</td>\n",
       "      <td>row</td>\n",
       "      <td>heavy</td>\n",
       "      <td>E</td>\n",
       "      <td>35.0</td>\n",
       "      <td>8.0</td>\n",
       "      <td>17.959471</td>\n",
       "      <td>6.651441</td>\n",
       "      <td>-0.454401</td>\n",
       "      <td>0.835555</td>\n",
       "      <td>20.186268</td>\n",
       "    </tr>\n",
       "    <tr>\n",
       "      <th>2024-02-16 16:04:09.000</th>\n",
       "      <td>0.100681</td>\n",
       "      <td>-0.661643</td>\n",
       "      <td>0.194534</td>\n",
       "      <td>-5.351810</td>\n",
       "      <td>-0.684279</td>\n",
       "      <td>-0.062795</td>\n",
       "      <td>row</td>\n",
       "      <td>heavy</td>\n",
       "      <td>E</td>\n",
       "      <td>35.0</td>\n",
       "      <td>8.0</td>\n",
       "      <td>-4.512415</td>\n",
       "      <td>-3.743991</td>\n",
       "      <td>-2.444479</td>\n",
       "      <td>0.696959</td>\n",
       "      <td>5.395744</td>\n",
       "    </tr>\n",
       "    <tr>\n",
       "      <th>2024-02-16 16:04:09.200</th>\n",
       "      <td>0.120904</td>\n",
       "      <td>-0.800401</td>\n",
       "      <td>0.131580</td>\n",
       "      <td>-23.462217</td>\n",
       "      <td>4.686223</td>\n",
       "      <td>7.049593</td>\n",
       "      <td>row</td>\n",
       "      <td>heavy</td>\n",
       "      <td>E</td>\n",
       "      <td>35.0</td>\n",
       "      <td>8.0</td>\n",
       "      <td>-23.224923</td>\n",
       "      <td>-11.309853</td>\n",
       "      <td>-2.329135</td>\n",
       "      <td>0.820106</td>\n",
       "      <td>24.942596</td>\n",
       "    </tr>\n",
       "    <tr>\n",
       "      <th>2024-02-16 16:04:09.400</th>\n",
       "      <td>0.132265</td>\n",
       "      <td>-1.063549</td>\n",
       "      <td>0.029734</td>\n",
       "      <td>-24.704485</td>\n",
       "      <td>3.597446</td>\n",
       "      <td>10.561803</td>\n",
       "      <td>row</td>\n",
       "      <td>heavy</td>\n",
       "      <td>E</td>\n",
       "      <td>35.0</td>\n",
       "      <td>8.0</td>\n",
       "      <td>-26.290987</td>\n",
       "      <td>-9.211770</td>\n",
       "      <td>-1.206366</td>\n",
       "      <td>1.072155</td>\n",
       "      <td>27.107284</td>\n",
       "    </tr>\n",
       "    <tr>\n",
       "      <th>2024-02-16 16:04:09.600</th>\n",
       "      <td>0.126446</td>\n",
       "      <td>-1.269046</td>\n",
       "      <td>-0.054236</td>\n",
       "      <td>-8.294350</td>\n",
       "      <td>-1.340482</td>\n",
       "      <td>6.300507</td>\n",
       "      <td>row</td>\n",
       "      <td>heavy</td>\n",
       "      <td>E</td>\n",
       "      <td>35.0</td>\n",
       "      <td>8.0</td>\n",
       "      <td>-10.585987</td>\n",
       "      <td>-1.242926</td>\n",
       "      <td>0.092362</td>\n",
       "      <td>1.276482</td>\n",
       "      <td>10.501882</td>\n",
       "    </tr>\n",
       "    <tr>\n",
       "      <th>2024-02-16 16:04:09.800</th>\n",
       "      <td>0.124987</td>\n",
       "      <td>-1.344483</td>\n",
       "      <td>-0.070813</td>\n",
       "      <td>16.498786</td>\n",
       "      <td>-4.515287</td>\n",
       "      <td>-3.757032</td>\n",
       "      <td>row</td>\n",
       "      <td>heavy</td>\n",
       "      <td>E</td>\n",
       "      <td>35.0</td>\n",
       "      <td>8.0</td>\n",
       "      <td>15.368471</td>\n",
       "      <td>5.652957</td>\n",
       "      <td>2.271239</td>\n",
       "      <td>1.352135</td>\n",
       "      <td>17.513225</td>\n",
       "    </tr>\n",
       "    <tr>\n",
       "      <th>2024-02-16 16:04:10.000</th>\n",
       "      <td>0.130831</td>\n",
       "      <td>-1.211861</td>\n",
       "      <td>0.008253</td>\n",
       "      <td>32.768037</td>\n",
       "      <td>-4.851407</td>\n",
       "      <td>-10.215002</td>\n",
       "      <td>row</td>\n",
       "      <td>heavy</td>\n",
       "      <td>E</td>\n",
       "      <td>35.0</td>\n",
       "      <td>8.0</td>\n",
       "      <td>32.382814</td>\n",
       "      <td>8.863985</td>\n",
       "      <td>4.860564</td>\n",
       "      <td>1.218930</td>\n",
       "      <td>34.664487</td>\n",
       "    </tr>\n",
       "    <tr>\n",
       "      <th>2024-02-16 16:04:10.200</th>\n",
       "      <td>0.121963</td>\n",
       "      <td>-0.875376</td>\n",
       "      <td>0.140075</td>\n",
       "      <td>25.796482</td>\n",
       "      <td>-4.137075</td>\n",
       "      <td>-6.899099</td>\n",
       "      <td>row</td>\n",
       "      <td>heavy</td>\n",
       "      <td>E</td>\n",
       "      <td>35.0</td>\n",
       "      <td>8.0</td>\n",
       "      <td>24.799038</td>\n",
       "      <td>7.302581</td>\n",
       "      <td>4.461573</td>\n",
       "      <td>0.894863</td>\n",
       "      <td>27.021685</td>\n",
       "    </tr>\n",
       "    <tr>\n",
       "      <th>2024-02-16 16:04:10.400</th>\n",
       "      <td>0.100240</td>\n",
       "      <td>-0.610942</td>\n",
       "      <td>0.220602</td>\n",
       "      <td>-1.358230</td>\n",
       "      <td>-2.297207</td>\n",
       "      <td>2.312757</td>\n",
       "      <td>row</td>\n",
       "      <td>heavy</td>\n",
       "      <td>E</td>\n",
       "      <td>35.0</td>\n",
       "      <td>8.0</td>\n",
       "      <td>-2.656695</td>\n",
       "      <td>0.172830</td>\n",
       "      <td>-0.118963</td>\n",
       "      <td>0.657239</td>\n",
       "      <td>3.531401</td>\n",
       "    </tr>\n",
       "    <tr>\n",
       "      <th>2024-02-16 16:04:10.600</th>\n",
       "      <td>0.095456</td>\n",
       "      <td>-0.723284</td>\n",
       "      <td>0.178963</td>\n",
       "      <td>-26.790288</td>\n",
       "      <td>1.141524</td>\n",
       "      <td>9.026102</td>\n",
       "      <td>row</td>\n",
       "      <td>heavy</td>\n",
       "      <td>E</td>\n",
       "      <td>35.0</td>\n",
       "      <td>8.0</td>\n",
       "      <td>-27.213028</td>\n",
       "      <td>-8.789408</td>\n",
       "      <td>-4.629441</td>\n",
       "      <td>0.751185</td>\n",
       "      <td>28.292987</td>\n",
       "    </tr>\n",
       "    <tr>\n",
       "      <th>2024-02-16 16:04:10.800</th>\n",
       "      <td>0.113378</td>\n",
       "      <td>-1.093762</td>\n",
       "      <td>0.051983</td>\n",
       "      <td>-31.018425</td>\n",
       "      <td>3.656772</td>\n",
       "      <td>8.390741</td>\n",
       "      <td>row</td>\n",
       "      <td>heavy</td>\n",
       "      <td>E</td>\n",
       "      <td>35.0</td>\n",
       "      <td>8.0</td>\n",
       "      <td>-30.222546</td>\n",
       "      <td>-12.665868</td>\n",
       "      <td>-5.353024</td>\n",
       "      <td>1.100850</td>\n",
       "      <td>32.340674</td>\n",
       "    </tr>\n",
       "    <tr>\n",
       "      <th>2024-02-16 16:04:11.000</th>\n",
       "      <td>0.122221</td>\n",
       "      <td>-1.278270</td>\n",
       "      <td>-0.053178</td>\n",
       "      <td>-16.798227</td>\n",
       "      <td>2.416454</td>\n",
       "      <td>3.289393</td>\n",
       "      <td>row</td>\n",
       "      <td>heavy</td>\n",
       "      <td>E</td>\n",
       "      <td>35.0</td>\n",
       "      <td>8.0</td>\n",
       "      <td>-15.696289</td>\n",
       "      <td>-8.847356</td>\n",
       "      <td>-3.306867</td>\n",
       "      <td>1.285200</td>\n",
       "      <td>17.286983</td>\n",
       "    </tr>\n",
       "    <tr>\n",
       "      <th>2024-02-16 16:04:11.200</th>\n",
       "      <td>0.100963</td>\n",
       "      <td>-1.108333</td>\n",
       "      <td>-0.077937</td>\n",
       "      <td>-2.678076</td>\n",
       "      <td>-0.974070</td>\n",
       "      <td>1.472188</td>\n",
       "      <td>row</td>\n",
       "      <td>heavy</td>\n",
       "      <td>E</td>\n",
       "      <td>35.0</td>\n",
       "      <td>8.0</td>\n",
       "      <td>-3.208938</td>\n",
       "      <td>-1.774163</td>\n",
       "      <td>-0.441353</td>\n",
       "      <td>1.115648</td>\n",
       "      <td>3.207529</td>\n",
       "    </tr>\n",
       "    <tr>\n",
       "      <th>2024-02-16 16:04:11.400</th>\n",
       "      <td>0.073047</td>\n",
       "      <td>-0.919750</td>\n",
       "      <td>-0.066957</td>\n",
       "      <td>1.571827</td>\n",
       "      <td>-2.993998</td>\n",
       "      <td>4.152790</td>\n",
       "      <td>row</td>\n",
       "      <td>heavy</td>\n",
       "      <td>E</td>\n",
       "      <td>35.0</td>\n",
       "      <td>8.0</td>\n",
       "      <td>-1.332594</td>\n",
       "      <td>2.708327</td>\n",
       "      <td>1.949001</td>\n",
       "      <td>0.925072</td>\n",
       "      <td>5.355402</td>\n",
       "    </tr>\n",
       "    <tr>\n",
       "      <th>2024-02-16 16:04:11.600</th>\n",
       "      <td>0.074915</td>\n",
       "      <td>-1.045073</td>\n",
       "      <td>-0.075228</td>\n",
       "      <td>5.686230</td>\n",
       "      <td>-4.197088</td>\n",
       "      <td>2.492051</td>\n",
       "      <td>row</td>\n",
       "      <td>heavy</td>\n",
       "      <td>E</td>\n",
       "      <td>35.0</td>\n",
       "      <td>8.0</td>\n",
       "      <td>2.945003</td>\n",
       "      <td>4.391774</td>\n",
       "      <td>1.903755</td>\n",
       "      <td>1.050452</td>\n",
       "      <td>7.493936</td>\n",
       "    </tr>\n",
       "    <tr>\n",
       "      <th>2024-02-16 16:04:11.800</th>\n",
       "      <td>0.101281</td>\n",
       "      <td>-1.299145</td>\n",
       "      <td>-0.071275</td>\n",
       "      <td>20.246587</td>\n",
       "      <td>-6.959943</td>\n",
       "      <td>-6.873419</td>\n",
       "      <td>row</td>\n",
       "      <td>heavy</td>\n",
       "      <td>E</td>\n",
       "      <td>35.0</td>\n",
       "      <td>8.0</td>\n",
       "      <td>20.132088</td>\n",
       "      <td>7.477855</td>\n",
       "      <td>0.344500</td>\n",
       "      <td>1.305035</td>\n",
       "      <td>22.485751</td>\n",
       "    </tr>\n",
       "    <tr>\n",
       "      <th>2024-02-16 16:04:12.000</th>\n",
       "      <td>0.110543</td>\n",
       "      <td>-1.242989</td>\n",
       "      <td>0.001697</td>\n",
       "      <td>34.597299</td>\n",
       "      <td>-8.931375</td>\n",
       "      <td>-13.166021</td>\n",
       "      <td>row</td>\n",
       "      <td>heavy</td>\n",
       "      <td>E</td>\n",
       "      <td>35.0</td>\n",
       "      <td>8.0</td>\n",
       "      <td>35.419370</td>\n",
       "      <td>11.347196</td>\n",
       "      <td>1.211810</td>\n",
       "      <td>1.247896</td>\n",
       "      <td>38.080004</td>\n",
       "    </tr>\n",
       "    <tr>\n",
       "      <th>2024-02-16 16:04:12.200</th>\n",
       "      <td>0.092293</td>\n",
       "      <td>-0.858912</td>\n",
       "      <td>0.115959</td>\n",
       "      <td>27.177838</td>\n",
       "      <td>-5.951916</td>\n",
       "      <td>-8.035847</td>\n",
       "      <td>row</td>\n",
       "      <td>heavy</td>\n",
       "      <td>E</td>\n",
       "      <td>35.0</td>\n",
       "      <td>8.0</td>\n",
       "      <td>26.514415</td>\n",
       "      <td>8.704224</td>\n",
       "      <td>3.201740</td>\n",
       "      <td>0.871604</td>\n",
       "      <td>28.959195</td>\n",
       "    </tr>\n",
       "    <tr>\n",
       "      <th>2024-02-16 16:04:12.400</th>\n",
       "      <td>0.086335</td>\n",
       "      <td>-0.596756</td>\n",
       "      <td>0.183135</td>\n",
       "      <td>-2.719748</td>\n",
       "      <td>0.165766</td>\n",
       "      <td>2.284268</td>\n",
       "      <td>row</td>\n",
       "      <td>heavy</td>\n",
       "      <td>E</td>\n",
       "      <td>35.0</td>\n",
       "      <td>8.0</td>\n",
       "      <td>-3.665830</td>\n",
       "      <td>-2.298312</td>\n",
       "      <td>0.772889</td>\n",
       "      <td>0.630167</td>\n",
       "      <td>3.555614</td>\n",
       "    </tr>\n",
       "    <tr>\n",
       "      <th>2024-02-16 16:04:12.600</th>\n",
       "      <td>0.112144</td>\n",
       "      <td>-0.729130</td>\n",
       "      <td>0.153431</td>\n",
       "      <td>-29.148761</td>\n",
       "      <td>3.610779</td>\n",
       "      <td>9.178579</td>\n",
       "      <td>row</td>\n",
       "      <td>heavy</td>\n",
       "      <td>E</td>\n",
       "      <td>35.0</td>\n",
       "      <td>8.0</td>\n",
       "      <td>-29.142491</td>\n",
       "      <td>-11.550005</td>\n",
       "      <td>-4.047176</td>\n",
       "      <td>0.753491</td>\n",
       "      <td>30.772298</td>\n",
       "    </tr>\n",
       "    <tr>\n",
       "      <th>2024-02-16 16:04:12.800</th>\n",
       "      <td>0.134272</td>\n",
       "      <td>-1.051519</td>\n",
       "      <td>0.049941</td>\n",
       "      <td>-29.628734</td>\n",
       "      <td>2.044027</td>\n",
       "      <td>11.000275</td>\n",
       "      <td>row</td>\n",
       "      <td>heavy</td>\n",
       "      <td>E</td>\n",
       "      <td>35.0</td>\n",
       "      <td>8.0</td>\n",
       "      <td>-30.634769</td>\n",
       "      <td>-9.607590</td>\n",
       "      <td>-4.004314</td>\n",
       "      <td>1.061232</td>\n",
       "      <td>31.670901</td>\n",
       "    </tr>\n",
       "    <tr>\n",
       "      <th>2024-02-16 16:04:13.000</th>\n",
       "      <td>0.127192</td>\n",
       "      <td>-1.282282</td>\n",
       "      <td>-0.053736</td>\n",
       "      <td>-7.724263</td>\n",
       "      <td>-2.618335</td>\n",
       "      <td>6.635936</td>\n",
       "      <td>row</td>\n",
       "      <td>heavy</td>\n",
       "      <td>E</td>\n",
       "      <td>35.0</td>\n",
       "      <td>8.0</td>\n",
       "      <td>-10.357462</td>\n",
       "      <td>0.143537</td>\n",
       "      <td>-0.217211</td>\n",
       "      <td>1.289695</td>\n",
       "      <td>10.514541</td>\n",
       "    </tr>\n",
       "    <tr>\n",
       "      <th>2024-02-16 16:04:13.200</th>\n",
       "      <td>0.113549</td>\n",
       "      <td>-1.346038</td>\n",
       "      <td>-0.073156</td>\n",
       "      <td>18.291638</td>\n",
       "      <td>-7.248260</td>\n",
       "      <td>-3.824865</td>\n",
       "      <td>row</td>\n",
       "      <td>heavy</td>\n",
       "      <td>E</td>\n",
       "      <td>35.0</td>\n",
       "      <td>8.0</td>\n",
       "      <td>16.776264</td>\n",
       "      <td>8.452201</td>\n",
       "      <td>1.338275</td>\n",
       "      <td>1.352798</td>\n",
       "      <td>20.043725</td>\n",
       "    </tr>\n",
       "    <tr>\n",
       "      <th>2024-02-16 16:04:13.400</th>\n",
       "      <td>0.111831</td>\n",
       "      <td>-1.209855</td>\n",
       "      <td>0.021113</td>\n",
       "      <td>34.470731</td>\n",
       "      <td>-8.639158</td>\n",
       "      <td>-11.723048</td>\n",
       "      <td>row</td>\n",
       "      <td>heavy</td>\n",
       "      <td>E</td>\n",
       "      <td>35.0</td>\n",
       "      <td>8.0</td>\n",
       "      <td>34.501358</td>\n",
       "      <td>11.767222</td>\n",
       "      <td>2.290857</td>\n",
       "      <td>1.215196</td>\n",
       "      <td>37.420532</td>\n",
       "    </tr>\n",
       "    <tr>\n",
       "      <th>2024-02-16 16:04:13.600</th>\n",
       "      <td>0.108382</td>\n",
       "      <td>-0.883830</td>\n",
       "      <td>0.163105</td>\n",
       "      <td>32.963531</td>\n",
       "      <td>-5.511572</td>\n",
       "      <td>-8.136328</td>\n",
       "      <td>row</td>\n",
       "      <td>heavy</td>\n",
       "      <td>E</td>\n",
       "      <td>35.0</td>\n",
       "      <td>8.0</td>\n",
       "      <td>31.330119</td>\n",
       "      <td>10.465971</td>\n",
       "      <td>5.919058</td>\n",
       "      <td>0.905265</td>\n",
       "      <td>34.397262</td>\n",
       "    </tr>\n",
       "    <tr>\n",
       "      <th>2024-02-16 16:04:13.800</th>\n",
       "      <td>0.099184</td>\n",
       "      <td>-0.628290</td>\n",
       "      <td>0.243322</td>\n",
       "      <td>11.421147</td>\n",
       "      <td>-0.327207</td>\n",
       "      <td>2.902605</td>\n",
       "      <td>row</td>\n",
       "      <td>heavy</td>\n",
       "      <td>E</td>\n",
       "      <td>35.0</td>\n",
       "      <td>8.0</td>\n",
       "      <td>7.552671</td>\n",
       "      <td>3.667908</td>\n",
       "      <td>7.029085</td>\n",
       "      <td>0.681022</td>\n",
       "      <td>11.788756</td>\n",
       "    </tr>\n",
       "    <tr>\n",
       "      <th>2024-02-16 16:04:14.000</th>\n",
       "      <td>0.100603</td>\n",
       "      <td>-0.731110</td>\n",
       "      <td>0.204837</td>\n",
       "      <td>-17.862419</td>\n",
       "      <td>3.368266</td>\n",
       "      <td>10.407148</td>\n",
       "      <td>row</td>\n",
       "      <td>heavy</td>\n",
       "      <td>E</td>\n",
       "      <td>35.0</td>\n",
       "      <td>8.0</td>\n",
       "      <td>-20.603344</td>\n",
       "      <td>-6.551761</td>\n",
       "      <td>1.525032</td>\n",
       "      <td>0.765899</td>\n",
       "      <td>20.945643</td>\n",
       "    </tr>\n",
       "    <tr>\n",
       "      <th>2024-02-16 16:04:14.200</th>\n",
       "      <td>0.109183</td>\n",
       "      <td>-1.065084</td>\n",
       "      <td>0.083549</td>\n",
       "      <td>-31.596626</td>\n",
       "      <td>4.173723</td>\n",
       "      <td>10.302906</td>\n",
       "      <td>row</td>\n",
       "      <td>heavy</td>\n",
       "      <td>E</td>\n",
       "      <td>35.0</td>\n",
       "      <td>8.0</td>\n",
       "      <td>-31.770717</td>\n",
       "      <td>-12.365135</td>\n",
       "      <td>-4.022393</td>\n",
       "      <td>1.073921</td>\n",
       "      <td>33.495024</td>\n",
       "    </tr>\n",
       "    <tr>\n",
       "      <th>2024-02-16 16:04:14.400</th>\n",
       "      <td>0.101482</td>\n",
       "      <td>-1.242457</td>\n",
       "      <td>-0.034433</td>\n",
       "      <td>-20.957798</td>\n",
       "      <td>2.408931</td>\n",
       "      <td>5.840818</td>\n",
       "      <td>row</td>\n",
       "      <td>heavy</td>\n",
       "      <td>E</td>\n",
       "      <td>35.0</td>\n",
       "      <td>8.0</td>\n",
       "      <td>-20.564583</td>\n",
       "      <td>-9.158467</td>\n",
       "      <td>-3.429683</td>\n",
       "      <td>1.247070</td>\n",
       "      <td>21.889435</td>\n",
       "    </tr>\n",
       "    <tr>\n",
       "      <th>2024-02-16 16:04:14.600</th>\n",
       "      <td>0.077550</td>\n",
       "      <td>-1.153786</td>\n",
       "      <td>-0.086032</td>\n",
       "      <td>-2.785183</td>\n",
       "      <td>-0.646914</td>\n",
       "      <td>0.824771</td>\n",
       "      <td>row</td>\n",
       "      <td>heavy</td>\n",
       "      <td>E</td>\n",
       "      <td>35.0</td>\n",
       "      <td>8.0</td>\n",
       "      <td>-2.914536</td>\n",
       "      <td>-2.386506</td>\n",
       "      <td>-0.717116</td>\n",
       "      <td>1.159586</td>\n",
       "      <td>2.975901</td>\n",
       "    </tr>\n",
       "    <tr>\n",
       "      <th>2024-02-16 16:04:14.800</th>\n",
       "      <td>0.063433</td>\n",
       "      <td>-1.010411</td>\n",
       "      <td>-0.069456</td>\n",
       "      <td>4.090967</td>\n",
       "      <td>-2.645653</td>\n",
       "      <td>-1.736551</td>\n",
       "      <td>row</td>\n",
       "      <td>heavy</td>\n",
       "      <td>E</td>\n",
       "      <td>35.0</td>\n",
       "      <td>8.0</td>\n",
       "      <td>4.112111</td>\n",
       "      <td>0.521654</td>\n",
       "      <td>-0.644366</td>\n",
       "      <td>1.014780</td>\n",
       "      <td>5.172147</td>\n",
       "    </tr>\n",
       "    <tr>\n",
       "      <th>2024-02-16 16:04:15.000</th>\n",
       "      <td>0.070143</td>\n",
       "      <td>-0.964982</td>\n",
       "      <td>-0.031115</td>\n",
       "      <td>0.974137</td>\n",
       "      <td>-2.181379</td>\n",
       "      <td>0.173626</td>\n",
       "      <td>row</td>\n",
       "      <td>heavy</td>\n",
       "      <td>E</td>\n",
       "      <td>35.0</td>\n",
       "      <td>8.0</td>\n",
       "      <td>0.482432</td>\n",
       "      <td>-0.084194</td>\n",
       "      <td>-0.450783</td>\n",
       "      <td>0.968029</td>\n",
       "      <td>2.395308</td>\n",
       "    </tr>\n",
       "  </tbody>\n",
       "</table>\n",
       "</div>"
      ],
      "text/plain": [
       "                          mean_xc   mean_yc   mean_zc    mean_xg   mean_yg  \\\n",
       "time                                                                         \n",
       "2024-02-16 16:04:06.600  0.108631 -1.000453 -0.100114   8.722103 -3.297011   \n",
       "2024-02-16 16:04:06.800  0.127096 -1.162050 -0.119152  13.719749 -4.403636   \n",
       "2024-02-16 16:04:07.000  0.145599 -1.283699 -0.090443  23.672153 -6.002334   \n",
       "2024-02-16 16:04:07.200  0.142715 -1.183836  0.020982  26.859014 -5.891506   \n",
       "2024-02-16 16:04:07.400  0.114809 -0.949361  0.146433  14.385158 -3.529570   \n",
       "2024-02-16 16:04:07.600  0.094414 -0.820265  0.191739  -7.574170 -0.557267   \n",
       "2024-02-16 16:04:07.800  0.106037 -0.898622  0.129001 -23.089737  1.646032   \n",
       "2024-02-16 16:04:08.000  0.133196 -1.105772  0.003256 -20.808243  2.626406   \n",
       "2024-02-16 16:04:08.200  0.148878 -1.306671 -0.097373  -2.179431  1.496785   \n",
       "2024-02-16 16:04:08.400  0.144419 -1.350126 -0.088378  19.868563 -2.617634   \n",
       "2024-02-16 16:04:08.600  0.123199 -1.141736  0.031508  29.024733 -7.213835   \n",
       "2024-02-16 16:04:08.800  0.100821 -0.813939  0.159655  17.810691 -6.872218   \n",
       "2024-02-16 16:04:09.000  0.100681 -0.661643  0.194534  -5.351810 -0.684279   \n",
       "2024-02-16 16:04:09.200  0.120904 -0.800401  0.131580 -23.462217  4.686223   \n",
       "2024-02-16 16:04:09.400  0.132265 -1.063549  0.029734 -24.704485  3.597446   \n",
       "2024-02-16 16:04:09.600  0.126446 -1.269046 -0.054236  -8.294350 -1.340482   \n",
       "2024-02-16 16:04:09.800  0.124987 -1.344483 -0.070813  16.498786 -4.515287   \n",
       "2024-02-16 16:04:10.000  0.130831 -1.211861  0.008253  32.768037 -4.851407   \n",
       "2024-02-16 16:04:10.200  0.121963 -0.875376  0.140075  25.796482 -4.137075   \n",
       "2024-02-16 16:04:10.400  0.100240 -0.610942  0.220602  -1.358230 -2.297207   \n",
       "2024-02-16 16:04:10.600  0.095456 -0.723284  0.178963 -26.790288  1.141524   \n",
       "2024-02-16 16:04:10.800  0.113378 -1.093762  0.051983 -31.018425  3.656772   \n",
       "2024-02-16 16:04:11.000  0.122221 -1.278270 -0.053178 -16.798227  2.416454   \n",
       "2024-02-16 16:04:11.200  0.100963 -1.108333 -0.077937  -2.678076 -0.974070   \n",
       "2024-02-16 16:04:11.400  0.073047 -0.919750 -0.066957   1.571827 -2.993998   \n",
       "2024-02-16 16:04:11.600  0.074915 -1.045073 -0.075228   5.686230 -4.197088   \n",
       "2024-02-16 16:04:11.800  0.101281 -1.299145 -0.071275  20.246587 -6.959943   \n",
       "2024-02-16 16:04:12.000  0.110543 -1.242989  0.001697  34.597299 -8.931375   \n",
       "2024-02-16 16:04:12.200  0.092293 -0.858912  0.115959  27.177838 -5.951916   \n",
       "2024-02-16 16:04:12.400  0.086335 -0.596756  0.183135  -2.719748  0.165766   \n",
       "2024-02-16 16:04:12.600  0.112144 -0.729130  0.153431 -29.148761  3.610779   \n",
       "2024-02-16 16:04:12.800  0.134272 -1.051519  0.049941 -29.628734  2.044027   \n",
       "2024-02-16 16:04:13.000  0.127192 -1.282282 -0.053736  -7.724263 -2.618335   \n",
       "2024-02-16 16:04:13.200  0.113549 -1.346038 -0.073156  18.291638 -7.248260   \n",
       "2024-02-16 16:04:13.400  0.111831 -1.209855  0.021113  34.470731 -8.639158   \n",
       "2024-02-16 16:04:13.600  0.108382 -0.883830  0.163105  32.963531 -5.511572   \n",
       "2024-02-16 16:04:13.800  0.099184 -0.628290  0.243322  11.421147 -0.327207   \n",
       "2024-02-16 16:04:14.000  0.100603 -0.731110  0.204837 -17.862419  3.368266   \n",
       "2024-02-16 16:04:14.200  0.109183 -1.065084  0.083549 -31.596626  4.173723   \n",
       "2024-02-16 16:04:14.400  0.101482 -1.242457 -0.034433 -20.957798  2.408931   \n",
       "2024-02-16 16:04:14.600  0.077550 -1.153786 -0.086032  -2.785183 -0.646914   \n",
       "2024-02-16 16:04:14.800  0.063433 -1.010411 -0.069456   4.090967 -2.645653   \n",
       "2024-02-16 16:04:15.000  0.070143 -0.964982 -0.031115   0.974137 -2.181379   \n",
       "\n",
       "                           mean_zg posture  types specimen    set  \\\n",
       "time                                                                \n",
       "2024-02-16 16:04:06.600   5.161295     row  heavy         E  35.0   \n",
       "2024-02-16 16:04:06.800   0.926907     row  heavy         E  35.0   \n",
       "2024-02-16 16:04:07.000  -6.402213     row  heavy         E  35.0   \n",
       "2024-02-16 16:04:07.200  -8.509379     row  heavy         E  35.0   \n",
       "2024-02-16 16:04:07.400  -3.682595     row  heavy         E  35.0   \n",
       "2024-02-16 16:04:07.600   2.610928     row  heavy         E  35.0   \n",
       "2024-02-16 16:04:07.800   7.235983     row  heavy         E  35.0   \n",
       "2024-02-16 16:04:08.000   9.318640     row  heavy         E  35.0   \n",
       "2024-02-16 16:04:08.200   5.931597     row  heavy         E  35.0   \n",
       "2024-02-16 16:04:08.400  -2.309784     row  heavy         E  35.0   \n",
       "2024-02-16 16:04:08.600  -8.107490     row  heavy         E  35.0   \n",
       "2024-02-16 16:04:08.800  -6.560285     row  heavy         E  35.0   \n",
       "2024-02-16 16:04:09.000  -0.062795     row  heavy         E  35.0   \n",
       "2024-02-16 16:04:09.200   7.049593     row  heavy         E  35.0   \n",
       "2024-02-16 16:04:09.400  10.561803     row  heavy         E  35.0   \n",
       "2024-02-16 16:04:09.600   6.300507     row  heavy         E  35.0   \n",
       "2024-02-16 16:04:09.800  -3.757032     row  heavy         E  35.0   \n",
       "2024-02-16 16:04:10.000 -10.215002     row  heavy         E  35.0   \n",
       "2024-02-16 16:04:10.200  -6.899099     row  heavy         E  35.0   \n",
       "2024-02-16 16:04:10.400   2.312757     row  heavy         E  35.0   \n",
       "2024-02-16 16:04:10.600   9.026102     row  heavy         E  35.0   \n",
       "2024-02-16 16:04:10.800   8.390741     row  heavy         E  35.0   \n",
       "2024-02-16 16:04:11.000   3.289393     row  heavy         E  35.0   \n",
       "2024-02-16 16:04:11.200   1.472188     row  heavy         E  35.0   \n",
       "2024-02-16 16:04:11.400   4.152790     row  heavy         E  35.0   \n",
       "2024-02-16 16:04:11.600   2.492051     row  heavy         E  35.0   \n",
       "2024-02-16 16:04:11.800  -6.873419     row  heavy         E  35.0   \n",
       "2024-02-16 16:04:12.000 -13.166021     row  heavy         E  35.0   \n",
       "2024-02-16 16:04:12.200  -8.035847     row  heavy         E  35.0   \n",
       "2024-02-16 16:04:12.400   2.284268     row  heavy         E  35.0   \n",
       "2024-02-16 16:04:12.600   9.178579     row  heavy         E  35.0   \n",
       "2024-02-16 16:04:12.800  11.000275     row  heavy         E  35.0   \n",
       "2024-02-16 16:04:13.000   6.635936     row  heavy         E  35.0   \n",
       "2024-02-16 16:04:13.200  -3.824865     row  heavy         E  35.0   \n",
       "2024-02-16 16:04:13.400 -11.723048     row  heavy         E  35.0   \n",
       "2024-02-16 16:04:13.600  -8.136328     row  heavy         E  35.0   \n",
       "2024-02-16 16:04:13.800   2.902605     row  heavy         E  35.0   \n",
       "2024-02-16 16:04:14.000  10.407148     row  heavy         E  35.0   \n",
       "2024-02-16 16:04:14.200  10.302906     row  heavy         E  35.0   \n",
       "2024-02-16 16:04:14.400   5.840818     row  heavy         E  35.0   \n",
       "2024-02-16 16:04:14.600   0.824771     row  heavy         E  35.0   \n",
       "2024-02-16 16:04:14.800  -1.736551     row  heavy         E  35.0   \n",
       "2024-02-16 16:04:15.000   0.173626     row  heavy         E  35.0   \n",
       "\n",
       "                         duration_time      pca_1      pca_2     pca_3  \\\n",
       "time                                                                     \n",
       "2024-02-16 16:04:06.600            8.0   3.940233   6.104463  5.540718   \n",
       "2024-02-16 16:04:06.800            8.0  10.416763   6.795260  4.233562   \n",
       "2024-02-16 16:04:07.000            8.0  22.705542   8.226353  2.730042   \n",
       "2024-02-16 16:04:07.200            8.0  26.526286   8.307836  2.787053   \n",
       "2024-02-16 16:04:07.400            8.0  13.629515   4.120420  2.002354   \n",
       "2024-02-16 16:04:07.600            8.0  -7.857788  -3.379744 -1.561642   \n",
       "2024-02-16 16:04:07.800            8.0 -23.137870  -8.674555 -3.898387   \n",
       "2024-02-16 16:04:08.000            8.0 -22.422464  -7.591114 -0.928457   \n",
       "2024-02-16 16:04:08.200            8.0  -5.258872  -1.385263  4.237351   \n",
       "2024-02-16 16:04:08.400            8.0  17.372713   6.109088  5.852601   \n",
       "2024-02-16 16:04:08.600            8.0  28.022941  10.357179  3.187867   \n",
       "2024-02-16 16:04:08.800            8.0  17.959471   6.651441 -0.454401   \n",
       "2024-02-16 16:04:09.000            8.0  -4.512415  -3.743991 -2.444479   \n",
       "2024-02-16 16:04:09.200            8.0 -23.224923 -11.309853 -2.329135   \n",
       "2024-02-16 16:04:09.400            8.0 -26.290987  -9.211770 -1.206366   \n",
       "2024-02-16 16:04:09.600            8.0 -10.585987  -1.242926  0.092362   \n",
       "2024-02-16 16:04:09.800            8.0  15.368471   5.652957  2.271239   \n",
       "2024-02-16 16:04:10.000            8.0  32.382814   8.863985  4.860564   \n",
       "2024-02-16 16:04:10.200            8.0  24.799038   7.302581  4.461573   \n",
       "2024-02-16 16:04:10.400            8.0  -2.656695   0.172830 -0.118963   \n",
       "2024-02-16 16:04:10.600            8.0 -27.213028  -8.789408 -4.629441   \n",
       "2024-02-16 16:04:10.800            8.0 -30.222546 -12.665868 -5.353024   \n",
       "2024-02-16 16:04:11.000            8.0 -15.696289  -8.847356 -3.306867   \n",
       "2024-02-16 16:04:11.200            8.0  -3.208938  -1.774163 -0.441353   \n",
       "2024-02-16 16:04:11.400            8.0  -1.332594   2.708327  1.949001   \n",
       "2024-02-16 16:04:11.600            8.0   2.945003   4.391774  1.903755   \n",
       "2024-02-16 16:04:11.800            8.0  20.132088   7.477855  0.344500   \n",
       "2024-02-16 16:04:12.000            8.0  35.419370  11.347196  1.211810   \n",
       "2024-02-16 16:04:12.200            8.0  26.514415   8.704224  3.201740   \n",
       "2024-02-16 16:04:12.400            8.0  -3.665830  -2.298312  0.772889   \n",
       "2024-02-16 16:04:12.600            8.0 -29.142491 -11.550005 -4.047176   \n",
       "2024-02-16 16:04:12.800            8.0 -30.634769  -9.607590 -4.004314   \n",
       "2024-02-16 16:04:13.000            8.0 -10.357462   0.143537 -0.217211   \n",
       "2024-02-16 16:04:13.200            8.0  16.776264   8.452201  1.338275   \n",
       "2024-02-16 16:04:13.400            8.0  34.501358  11.767222  2.290857   \n",
       "2024-02-16 16:04:13.600            8.0  31.330119  10.465971  5.919058   \n",
       "2024-02-16 16:04:13.800            8.0   7.552671   3.667908  7.029085   \n",
       "2024-02-16 16:04:14.000            8.0 -20.603344  -6.551761  1.525032   \n",
       "2024-02-16 16:04:14.200            8.0 -31.770717 -12.365135 -4.022393   \n",
       "2024-02-16 16:04:14.400            8.0 -20.564583  -9.158467 -3.429683   \n",
       "2024-02-16 16:04:14.600            8.0  -2.914536  -2.386506 -0.717116   \n",
       "2024-02-16 16:04:14.800            8.0   4.112111   0.521654 -0.644366   \n",
       "2024-02-16 16:04:15.000            8.0   0.482432  -0.084194 -0.450783   \n",
       "\n",
       "                         acc_sqrt  gyro_sqrt  \n",
       "time                                          \n",
       "2024-02-16 16:04:06.600  1.011301  10.657595  \n",
       "2024-02-16 16:04:06.800  1.175037  14.438930  \n",
       "2024-02-16 16:04:07.000  1.295092  25.246528  \n",
       "2024-02-16 16:04:07.200  1.192592  28.784128  \n",
       "2024-02-16 16:04:07.400  0.967424  15.262770  \n",
       "2024-02-16 16:04:07.600  0.847651   8.030912  \n",
       "2024-02-16 16:04:07.800  0.914006  24.252934  \n",
       "2024-02-16 16:04:08.000  1.113769  22.950339  \n",
       "2024-02-16 16:04:08.200  1.318725   6.494161  \n",
       "2024-02-16 16:04:08.400  1.360702  20.172925  \n",
       "2024-02-16 16:04:08.600  1.148796  30.987190  \n",
       "2024-02-16 16:04:08.800  0.835555  20.186268  \n",
       "2024-02-16 16:04:09.000  0.696959   5.395744  \n",
       "2024-02-16 16:04:09.200  0.820106  24.942596  \n",
       "2024-02-16 16:04:09.400  1.072155  27.107284  \n",
       "2024-02-16 16:04:09.600  1.276482  10.501882  \n",
       "2024-02-16 16:04:09.800  1.352135  17.513225  \n",
       "2024-02-16 16:04:10.000  1.218930  34.664487  \n",
       "2024-02-16 16:04:10.200  0.894863  27.021685  \n",
       "2024-02-16 16:04:10.400  0.657239   3.531401  \n",
       "2024-02-16 16:04:10.600  0.751185  28.292987  \n",
       "2024-02-16 16:04:10.800  1.100850  32.340674  \n",
       "2024-02-16 16:04:11.000  1.285200  17.286983  \n",
       "2024-02-16 16:04:11.200  1.115648   3.207529  \n",
       "2024-02-16 16:04:11.400  0.925072   5.355402  \n",
       "2024-02-16 16:04:11.600  1.050452   7.493936  \n",
       "2024-02-16 16:04:11.800  1.305035  22.485751  \n",
       "2024-02-16 16:04:12.000  1.247896  38.080004  \n",
       "2024-02-16 16:04:12.200  0.871604  28.959195  \n",
       "2024-02-16 16:04:12.400  0.630167   3.555614  \n",
       "2024-02-16 16:04:12.600  0.753491  30.772298  \n",
       "2024-02-16 16:04:12.800  1.061232  31.670901  \n",
       "2024-02-16 16:04:13.000  1.289695  10.514541  \n",
       "2024-02-16 16:04:13.200  1.352798  20.043725  \n",
       "2024-02-16 16:04:13.400  1.215196  37.420532  \n",
       "2024-02-16 16:04:13.600  0.905265  34.397262  \n",
       "2024-02-16 16:04:13.800  0.681022  11.788756  \n",
       "2024-02-16 16:04:14.000  0.765899  20.945643  \n",
       "2024-02-16 16:04:14.200  1.073921  33.495024  \n",
       "2024-02-16 16:04:14.400  1.247070  21.889435  \n",
       "2024-02-16 16:04:14.600  1.159586   2.975901  \n",
       "2024-02-16 16:04:14.800  1.014780   5.172147  \n",
       "2024-02-16 16:04:15.000  0.968029   2.395308  "
      ]
     },
     "execution_count": 54,
     "metadata": {},
     "output_type": "execute_result"
    }
   ],
   "source": [
    "subset_df = df_equation[df_equation['set'] == 35]\n",
    "subset_df"
   ]
  },
  {
   "cell_type": "code",
   "execution_count": 56,
   "metadata": {},
   "outputs": [
    {
     "data": {
      "application/vnd.plotly.v1+json": {
       "config": {
        "plotlyServerURL": "https://plot.ly"
       },
       "data": [
        {
         "line": {
          "width": 2
         },
         "mode": "lines",
         "name": "Accelerometer",
         "type": "scatter",
         "x": [
          "2024-02-16T16:04:06.600000",
          "2024-02-16T16:04:06.800000",
          "2024-02-16T16:04:07",
          "2024-02-16T16:04:07.200000",
          "2024-02-16T16:04:07.400000",
          "2024-02-16T16:04:07.600000",
          "2024-02-16T16:04:07.800000",
          "2024-02-16T16:04:08",
          "2024-02-16T16:04:08.200000",
          "2024-02-16T16:04:08.400000",
          "2024-02-16T16:04:08.600000",
          "2024-02-16T16:04:08.800000",
          "2024-02-16T16:04:09",
          "2024-02-16T16:04:09.200000",
          "2024-02-16T16:04:09.400000",
          "2024-02-16T16:04:09.600000",
          "2024-02-16T16:04:09.800000",
          "2024-02-16T16:04:10",
          "2024-02-16T16:04:10.200000",
          "2024-02-16T16:04:10.400000",
          "2024-02-16T16:04:10.600000",
          "2024-02-16T16:04:10.800000",
          "2024-02-16T16:04:11",
          "2024-02-16T16:04:11.200000",
          "2024-02-16T16:04:11.400000",
          "2024-02-16T16:04:11.600000",
          "2024-02-16T16:04:11.800000",
          "2024-02-16T16:04:12",
          "2024-02-16T16:04:12.200000",
          "2024-02-16T16:04:12.400000",
          "2024-02-16T16:04:12.600000",
          "2024-02-16T16:04:12.800000",
          "2024-02-16T16:04:13",
          "2024-02-16T16:04:13.200000",
          "2024-02-16T16:04:13.400000",
          "2024-02-16T16:04:13.600000",
          "2024-02-16T16:04:13.800000",
          "2024-02-16T16:04:14",
          "2024-02-16T16:04:14.200000",
          "2024-02-16T16:04:14.400000",
          "2024-02-16T16:04:14.600000",
          "2024-02-16T16:04:14.800000",
          "2024-02-16T16:04:15"
         ],
         "y": [
          1.011301343961991,
          1.1750368666598476,
          1.2950918004705356,
          1.1925918348473532,
          0.9674240512288096,
          0.8476505911660699,
          0.9140062548003834,
          1.1137694997645764,
          1.3187249403204493,
          1.3607015800003381,
          1.1487955023063345,
          0.8355547105983774,
          0.696958842408624,
          0.8201055774030247,
          1.0721545164052002,
          1.2764821450149733,
          1.352135446489078,
          1.2189302041724694,
          0.8948625433732112,
          0.6572390021744036,
          0.7511851436680926,
          1.100850209224607,
          1.2852000916712136,
          1.1156476346199145,
          0.9250721702086685,
          1.0504522387916269,
          1.3050348439429023,
          1.2478963572759574,
          0.8716040081148455,
          0.6301668822052134,
          0.7534906906656401,
          1.0612324152002959,
          1.2896949267439468,
          1.3527982077777947,
          1.2151959268268138,
          0.905265176398669,
          0.6810219979012174,
          0.7658993559810879,
          1.0739208540433383,
          1.247069623610929,
          1.1595855586694397,
          1.014779681386854,
          0.968028511594712
         ]
        },
        {
         "line": {
          "width": 2
         },
         "mode": "lines",
         "name": "Gyroscope",
         "type": "scatter",
         "x": [
          "2024-02-16T16:04:06.600000",
          "2024-02-16T16:04:06.800000",
          "2024-02-16T16:04:07",
          "2024-02-16T16:04:07.200000",
          "2024-02-16T16:04:07.400000",
          "2024-02-16T16:04:07.600000",
          "2024-02-16T16:04:07.800000",
          "2024-02-16T16:04:08",
          "2024-02-16T16:04:08.200000",
          "2024-02-16T16:04:08.400000",
          "2024-02-16T16:04:08.600000",
          "2024-02-16T16:04:08.800000",
          "2024-02-16T16:04:09",
          "2024-02-16T16:04:09.200000",
          "2024-02-16T16:04:09.400000",
          "2024-02-16T16:04:09.600000",
          "2024-02-16T16:04:09.800000",
          "2024-02-16T16:04:10",
          "2024-02-16T16:04:10.200000",
          "2024-02-16T16:04:10.400000",
          "2024-02-16T16:04:10.600000",
          "2024-02-16T16:04:10.800000",
          "2024-02-16T16:04:11",
          "2024-02-16T16:04:11.200000",
          "2024-02-16T16:04:11.400000",
          "2024-02-16T16:04:11.600000",
          "2024-02-16T16:04:11.800000",
          "2024-02-16T16:04:12",
          "2024-02-16T16:04:12.200000",
          "2024-02-16T16:04:12.400000",
          "2024-02-16T16:04:12.600000",
          "2024-02-16T16:04:12.800000",
          "2024-02-16T16:04:13",
          "2024-02-16T16:04:13.200000",
          "2024-02-16T16:04:13.400000",
          "2024-02-16T16:04:13.600000",
          "2024-02-16T16:04:13.800000",
          "2024-02-16T16:04:14",
          "2024-02-16T16:04:14.200000",
          "2024-02-16T16:04:14.400000",
          "2024-02-16T16:04:14.600000",
          "2024-02-16T16:04:14.800000",
          "2024-02-16T16:04:15"
         ],
         "y": [
          10.65759468291091,
          14.438929595350682,
          25.246527955449643,
          28.784127985532763,
          15.262769812921452,
          8.030912020402173,
          24.252934356546458,
          22.950338628320615,
          6.4941606005910515,
          20.17292472551923,
          30.987189877007605,
          20.186267898267282,
          5.395743671573637,
          24.942595700988253,
          27.107284472119844,
          10.501881701413376,
          17.513224770364214,
          34.66448658661502,
          27.021684837066847,
          3.531400904679616,
          28.29298688759771,
          32.34067387826415,
          17.28698325356028,
          3.207529013803244,
          5.355401775719251,
          7.493936207204236,
          22.485750940407286,
          38.08000362047459,
          28.959195496516102,
          3.5556135845291093,
          30.77229772507685,
          31.67090119954442,
          10.514541093845896,
          20.04372460174988,
          37.42053187733991,
          34.39726168412253,
          11.788756069376477,
          20.945642676104104,
          33.49502356849637,
          21.889435223925116,
          2.9759010733623006,
          5.1721468865112445,
          2.395308394151151
         ]
        }
       ],
       "layout": {
        "legend": {
         "x": 1,
         "y": 1
        },
        "template": {
         "data": {
          "bar": [
           {
            "error_x": {
             "color": "#f2f5fa"
            },
            "error_y": {
             "color": "#f2f5fa"
            },
            "marker": {
             "line": {
              "color": "rgb(17,17,17)",
              "width": 0.5
             },
             "pattern": {
              "fillmode": "overlay",
              "size": 10,
              "solidity": 0.2
             }
            },
            "type": "bar"
           }
          ],
          "barpolar": [
           {
            "marker": {
             "line": {
              "color": "rgb(17,17,17)",
              "width": 0.5
             },
             "pattern": {
              "fillmode": "overlay",
              "size": 10,
              "solidity": 0.2
             }
            },
            "type": "barpolar"
           }
          ],
          "carpet": [
           {
            "aaxis": {
             "endlinecolor": "#A2B1C6",
             "gridcolor": "#506784",
             "linecolor": "#506784",
             "minorgridcolor": "#506784",
             "startlinecolor": "#A2B1C6"
            },
            "baxis": {
             "endlinecolor": "#A2B1C6",
             "gridcolor": "#506784",
             "linecolor": "#506784",
             "minorgridcolor": "#506784",
             "startlinecolor": "#A2B1C6"
            },
            "type": "carpet"
           }
          ],
          "choropleth": [
           {
            "colorbar": {
             "outlinewidth": 0,
             "ticks": ""
            },
            "type": "choropleth"
           }
          ],
          "contour": [
           {
            "colorbar": {
             "outlinewidth": 0,
             "ticks": ""
            },
            "colorscale": [
             [
              0,
              "#0d0887"
             ],
             [
              0.1111111111111111,
              "#46039f"
             ],
             [
              0.2222222222222222,
              "#7201a8"
             ],
             [
              0.3333333333333333,
              "#9c179e"
             ],
             [
              0.4444444444444444,
              "#bd3786"
             ],
             [
              0.5555555555555556,
              "#d8576b"
             ],
             [
              0.6666666666666666,
              "#ed7953"
             ],
             [
              0.7777777777777778,
              "#fb9f3a"
             ],
             [
              0.8888888888888888,
              "#fdca26"
             ],
             [
              1,
              "#f0f921"
             ]
            ],
            "type": "contour"
           }
          ],
          "contourcarpet": [
           {
            "colorbar": {
             "outlinewidth": 0,
             "ticks": ""
            },
            "type": "contourcarpet"
           }
          ],
          "heatmap": [
           {
            "colorbar": {
             "outlinewidth": 0,
             "ticks": ""
            },
            "colorscale": [
             [
              0,
              "#0d0887"
             ],
             [
              0.1111111111111111,
              "#46039f"
             ],
             [
              0.2222222222222222,
              "#7201a8"
             ],
             [
              0.3333333333333333,
              "#9c179e"
             ],
             [
              0.4444444444444444,
              "#bd3786"
             ],
             [
              0.5555555555555556,
              "#d8576b"
             ],
             [
              0.6666666666666666,
              "#ed7953"
             ],
             [
              0.7777777777777778,
              "#fb9f3a"
             ],
             [
              0.8888888888888888,
              "#fdca26"
             ],
             [
              1,
              "#f0f921"
             ]
            ],
            "type": "heatmap"
           }
          ],
          "heatmapgl": [
           {
            "colorbar": {
             "outlinewidth": 0,
             "ticks": ""
            },
            "colorscale": [
             [
              0,
              "#0d0887"
             ],
             [
              0.1111111111111111,
              "#46039f"
             ],
             [
              0.2222222222222222,
              "#7201a8"
             ],
             [
              0.3333333333333333,
              "#9c179e"
             ],
             [
              0.4444444444444444,
              "#bd3786"
             ],
             [
              0.5555555555555556,
              "#d8576b"
             ],
             [
              0.6666666666666666,
              "#ed7953"
             ],
             [
              0.7777777777777778,
              "#fb9f3a"
             ],
             [
              0.8888888888888888,
              "#fdca26"
             ],
             [
              1,
              "#f0f921"
             ]
            ],
            "type": "heatmapgl"
           }
          ],
          "histogram": [
           {
            "marker": {
             "pattern": {
              "fillmode": "overlay",
              "size": 10,
              "solidity": 0.2
             }
            },
            "type": "histogram"
           }
          ],
          "histogram2d": [
           {
            "colorbar": {
             "outlinewidth": 0,
             "ticks": ""
            },
            "colorscale": [
             [
              0,
              "#0d0887"
             ],
             [
              0.1111111111111111,
              "#46039f"
             ],
             [
              0.2222222222222222,
              "#7201a8"
             ],
             [
              0.3333333333333333,
              "#9c179e"
             ],
             [
              0.4444444444444444,
              "#bd3786"
             ],
             [
              0.5555555555555556,
              "#d8576b"
             ],
             [
              0.6666666666666666,
              "#ed7953"
             ],
             [
              0.7777777777777778,
              "#fb9f3a"
             ],
             [
              0.8888888888888888,
              "#fdca26"
             ],
             [
              1,
              "#f0f921"
             ]
            ],
            "type": "histogram2d"
           }
          ],
          "histogram2dcontour": [
           {
            "colorbar": {
             "outlinewidth": 0,
             "ticks": ""
            },
            "colorscale": [
             [
              0,
              "#0d0887"
             ],
             [
              0.1111111111111111,
              "#46039f"
             ],
             [
              0.2222222222222222,
              "#7201a8"
             ],
             [
              0.3333333333333333,
              "#9c179e"
             ],
             [
              0.4444444444444444,
              "#bd3786"
             ],
             [
              0.5555555555555556,
              "#d8576b"
             ],
             [
              0.6666666666666666,
              "#ed7953"
             ],
             [
              0.7777777777777778,
              "#fb9f3a"
             ],
             [
              0.8888888888888888,
              "#fdca26"
             ],
             [
              1,
              "#f0f921"
             ]
            ],
            "type": "histogram2dcontour"
           }
          ],
          "mesh3d": [
           {
            "colorbar": {
             "outlinewidth": 0,
             "ticks": ""
            },
            "type": "mesh3d"
           }
          ],
          "parcoords": [
           {
            "line": {
             "colorbar": {
              "outlinewidth": 0,
              "ticks": ""
             }
            },
            "type": "parcoords"
           }
          ],
          "pie": [
           {
            "automargin": true,
            "type": "pie"
           }
          ],
          "scatter": [
           {
            "marker": {
             "line": {
              "color": "#283442"
             }
            },
            "type": "scatter"
           }
          ],
          "scatter3d": [
           {
            "line": {
             "colorbar": {
              "outlinewidth": 0,
              "ticks": ""
             }
            },
            "marker": {
             "colorbar": {
              "outlinewidth": 0,
              "ticks": ""
             }
            },
            "type": "scatter3d"
           }
          ],
          "scattercarpet": [
           {
            "marker": {
             "colorbar": {
              "outlinewidth": 0,
              "ticks": ""
             }
            },
            "type": "scattercarpet"
           }
          ],
          "scattergeo": [
           {
            "marker": {
             "colorbar": {
              "outlinewidth": 0,
              "ticks": ""
             }
            },
            "type": "scattergeo"
           }
          ],
          "scattergl": [
           {
            "marker": {
             "line": {
              "color": "#283442"
             }
            },
            "type": "scattergl"
           }
          ],
          "scattermapbox": [
           {
            "marker": {
             "colorbar": {
              "outlinewidth": 0,
              "ticks": ""
             }
            },
            "type": "scattermapbox"
           }
          ],
          "scatterpolar": [
           {
            "marker": {
             "colorbar": {
              "outlinewidth": 0,
              "ticks": ""
             }
            },
            "type": "scatterpolar"
           }
          ],
          "scatterpolargl": [
           {
            "marker": {
             "colorbar": {
              "outlinewidth": 0,
              "ticks": ""
             }
            },
            "type": "scatterpolargl"
           }
          ],
          "scatterternary": [
           {
            "marker": {
             "colorbar": {
              "outlinewidth": 0,
              "ticks": ""
             }
            },
            "type": "scatterternary"
           }
          ],
          "surface": [
           {
            "colorbar": {
             "outlinewidth": 0,
             "ticks": ""
            },
            "colorscale": [
             [
              0,
              "#0d0887"
             ],
             [
              0.1111111111111111,
              "#46039f"
             ],
             [
              0.2222222222222222,
              "#7201a8"
             ],
             [
              0.3333333333333333,
              "#9c179e"
             ],
             [
              0.4444444444444444,
              "#bd3786"
             ],
             [
              0.5555555555555556,
              "#d8576b"
             ],
             [
              0.6666666666666666,
              "#ed7953"
             ],
             [
              0.7777777777777778,
              "#fb9f3a"
             ],
             [
              0.8888888888888888,
              "#fdca26"
             ],
             [
              1,
              "#f0f921"
             ]
            ],
            "type": "surface"
           }
          ],
          "table": [
           {
            "cells": {
             "fill": {
              "color": "#506784"
             },
             "line": {
              "color": "rgb(17,17,17)"
             }
            },
            "header": {
             "fill": {
              "color": "#2a3f5f"
             },
             "line": {
              "color": "rgb(17,17,17)"
             }
            },
            "type": "table"
           }
          ]
         },
         "layout": {
          "annotationdefaults": {
           "arrowcolor": "#f2f5fa",
           "arrowhead": 0,
           "arrowwidth": 1
          },
          "autotypenumbers": "strict",
          "coloraxis": {
           "colorbar": {
            "outlinewidth": 0,
            "ticks": ""
           }
          },
          "colorscale": {
           "diverging": [
            [
             0,
             "#8e0152"
            ],
            [
             0.1,
             "#c51b7d"
            ],
            [
             0.2,
             "#de77ae"
            ],
            [
             0.3,
             "#f1b6da"
            ],
            [
             0.4,
             "#fde0ef"
            ],
            [
             0.5,
             "#f7f7f7"
            ],
            [
             0.6,
             "#e6f5d0"
            ],
            [
             0.7,
             "#b8e186"
            ],
            [
             0.8,
             "#7fbc41"
            ],
            [
             0.9,
             "#4d9221"
            ],
            [
             1,
             "#276419"
            ]
           ],
           "sequential": [
            [
             0,
             "#0d0887"
            ],
            [
             0.1111111111111111,
             "#46039f"
            ],
            [
             0.2222222222222222,
             "#7201a8"
            ],
            [
             0.3333333333333333,
             "#9c179e"
            ],
            [
             0.4444444444444444,
             "#bd3786"
            ],
            [
             0.5555555555555556,
             "#d8576b"
            ],
            [
             0.6666666666666666,
             "#ed7953"
            ],
            [
             0.7777777777777778,
             "#fb9f3a"
            ],
            [
             0.8888888888888888,
             "#fdca26"
            ],
            [
             1,
             "#f0f921"
            ]
           ],
           "sequentialminus": [
            [
             0,
             "#0d0887"
            ],
            [
             0.1111111111111111,
             "#46039f"
            ],
            [
             0.2222222222222222,
             "#7201a8"
            ],
            [
             0.3333333333333333,
             "#9c179e"
            ],
            [
             0.4444444444444444,
             "#bd3786"
            ],
            [
             0.5555555555555556,
             "#d8576b"
            ],
            [
             0.6666666666666666,
             "#ed7953"
            ],
            [
             0.7777777777777778,
             "#fb9f3a"
            ],
            [
             0.8888888888888888,
             "#fdca26"
            ],
            [
             1,
             "#f0f921"
            ]
           ]
          },
          "colorway": [
           "#636efa",
           "#EF553B",
           "#00cc96",
           "#ab63fa",
           "#FFA15A",
           "#19d3f3",
           "#FF6692",
           "#B6E880",
           "#FF97FF",
           "#FECB52"
          ],
          "font": {
           "color": "#f2f5fa"
          },
          "geo": {
           "bgcolor": "rgb(17,17,17)",
           "lakecolor": "rgb(17,17,17)",
           "landcolor": "rgb(17,17,17)",
           "showlakes": true,
           "showland": true,
           "subunitcolor": "#506784"
          },
          "hoverlabel": {
           "align": "left"
          },
          "hovermode": "closest",
          "mapbox": {
           "style": "dark"
          },
          "paper_bgcolor": "rgb(17,17,17)",
          "plot_bgcolor": "rgb(17,17,17)",
          "polar": {
           "angularaxis": {
            "gridcolor": "#506784",
            "linecolor": "#506784",
            "ticks": ""
           },
           "bgcolor": "rgb(17,17,17)",
           "radialaxis": {
            "gridcolor": "#506784",
            "linecolor": "#506784",
            "ticks": ""
           }
          },
          "scene": {
           "xaxis": {
            "backgroundcolor": "rgb(17,17,17)",
            "gridcolor": "#506784",
            "gridwidth": 2,
            "linecolor": "#506784",
            "showbackground": true,
            "ticks": "",
            "zerolinecolor": "#C8D4E3"
           },
           "yaxis": {
            "backgroundcolor": "rgb(17,17,17)",
            "gridcolor": "#506784",
            "gridwidth": 2,
            "linecolor": "#506784",
            "showbackground": true,
            "ticks": "",
            "zerolinecolor": "#C8D4E3"
           },
           "zaxis": {
            "backgroundcolor": "rgb(17,17,17)",
            "gridcolor": "#506784",
            "gridwidth": 2,
            "linecolor": "#506784",
            "showbackground": true,
            "ticks": "",
            "zerolinecolor": "#C8D4E3"
           }
          },
          "shapedefaults": {
           "line": {
            "color": "#f2f5fa"
           }
          },
          "sliderdefaults": {
           "bgcolor": "#C8D4E3",
           "bordercolor": "rgb(17,17,17)",
           "borderwidth": 1,
           "tickwidth": 0
          },
          "ternary": {
           "aaxis": {
            "gridcolor": "#506784",
            "linecolor": "#506784",
            "ticks": ""
           },
           "baxis": {
            "gridcolor": "#506784",
            "linecolor": "#506784",
            "ticks": ""
           },
           "bgcolor": "rgb(17,17,17)",
           "caxis": {
            "gridcolor": "#506784",
            "linecolor": "#506784",
            "ticks": ""
           }
          },
          "title": {
           "x": 0.05
          },
          "updatemenudefaults": {
           "bgcolor": "#506784",
           "borderwidth": 0
          },
          "xaxis": {
           "automargin": true,
           "gridcolor": "#283442",
           "linecolor": "#506784",
           "ticks": "",
           "title": {
            "standoff": 15
           },
           "zerolinecolor": "#283442",
           "zerolinewidth": 2
          },
          "yaxis": {
           "automargin": true,
           "gridcolor": "#283442",
           "linecolor": "#506784",
           "ticks": "",
           "title": {
            "standoff": 15
           },
           "zerolinecolor": "#283442",
           "zerolinewidth": 2
          }
         }
        },
        "title": {
         "text": "Accelerometer and Gyroscope Data"
        },
        "xaxis": {
         "gridcolor": "gray",
         "gridwidth": 1,
         "showgrid": true,
         "title": {
          "text": "Index"
         },
         "zeroline": false
        },
        "yaxis": {
         "gridcolor": "gray",
         "gridwidth": 1,
         "showgrid": true,
         "title": {
          "text": "Sensor Data"
         }
        }
       }
      }
     },
     "metadata": {},
     "output_type": "display_data"
    }
   ],
   "source": [
    "fig = go.Figure()\n",
    "\n",
    "# Add traces for accelerometer and gyroscope data\n",
    "fig.add_trace(go.Scatter(x=subset_df.index, y=subset_df['acc_sqrt'], mode='lines', name='Accelerometer', line=dict(width=2)))\n",
    "fig.add_trace(go.Scatter(x=subset_df.index, y=subset_df['gyro_sqrt'], mode='lines', name='Gyroscope', line=dict(width=2)))\n",
    "\n",
    "# Update layout\n",
    "fig.update_layout(\n",
    "    title=\"Accelerometer and Gyroscope Data\",\n",
    "    xaxis_title=\"Index\",\n",
    "    yaxis_title=\"Sensor Data\",\n",
    "    template='plotly_dark',\n",
    "    legend=dict(x=1, y=1)\n",
    ")\n",
    "# Add grid\n",
    "fig.update_xaxes(showgrid=True, gridwidth=1, gridcolor='gray', zeroline=False)\n",
    "fig.update_yaxes(showgrid=True, gridwidth=1, gridcolor='gray')\n",
    "\n",
    "# Show plot\n",
    "fig.show()"
   ]
  },
  {
   "cell_type": "markdown",
   "metadata": {},
   "source": [
    "-----"
   ]
  },
  {
   "cell_type": "markdown",
   "metadata": {},
   "source": [
    "# **Export Data**"
   ]
  },
  {
   "cell_type": "code",
   "execution_count": 38,
   "metadata": {},
   "outputs": [],
   "source": [
    "df_equation.to_pickle(EXPORT_PATH)"
   ]
  }
 ],
 "metadata": {
  "kernelspec": {
   "display_name": "Python 3",
   "language": "python",
   "name": "python3"
  },
  "language_info": {
   "codemirror_mode": {
    "name": "ipython",
    "version": 3
   },
   "file_extension": ".py",
   "mimetype": "text/x-python",
   "name": "python",
   "nbconvert_exporter": "python",
   "pygments_lexer": "ipython3",
   "version": "3.9.13"
  }
 },
 "nbformat": 4,
 "nbformat_minor": 2
}
